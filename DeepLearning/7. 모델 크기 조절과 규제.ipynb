{
 "cells": [
  {
   "cell_type": "markdown",
   "id": "abe9b0d2",
   "metadata": {},
   "source": [
    "# 과대적합 문제 해결\n",
    "\n",
    "- 모델 크기 조절\n",
    "    - 레이어의 유닛수와 레이어의 수를 조절  \n",
    "    \n",
    "    \n",
    "- 규제화(Regularization) \n",
    "\n",
    "\n",
    "- 드롭아웃(Dropout)"
   ]
  },
  {
   "cell_type": "markdown",
   "id": "819af6d0",
   "metadata": {},
   "source": [
    "### 데이터 로드 및 전처리\n",
    "\n",
    "- 모델의 학습에 사용하기 위해 원-핫 인코딩(one-hot encoding)을 위한 함수를 정의\n",
    "- imdb.load_data()를 통해 IMDB 데이터를 다운로드\n",
    "- 10000 차원의 학습 데이터로 원-핫 인코딩을 수행"
   ]
  },
  {
   "cell_type": "code",
   "execution_count": 2,
   "id": "a14052ae",
   "metadata": {},
   "outputs": [],
   "source": [
    "from keras.datasets import imdb\n",
    "import numpy as np\n",
    "\n",
    "def one_hot_encoding(data, dim=10000): # 아래 imdb.load_data의 num_words를 10000으로 설정할 예정이기 때문에 dim도 10000으로 맞춰줍니다.\n",
    "    results = np.zeros((len(data), dim))\n",
    "    for i, d in enumerate(data):\n",
    "        results[i, d] = 1.\n",
    "    return results\n",
    "\n",
    "(train_data, train_labels), (test_data, test_labels) = imdb.load_data(num_words=10000)\n",
    "\n",
    "x_train = one_hot_encoding(train_data)\n",
    "x_test = one_hot_encoding(test_data)\n",
    "\n",
    "y_train = np.asarray(train_labels).astype('float32')\n",
    "y_test = np.asarray(test_labels).astype('float32')"
   ]
  },
  {
   "cell_type": "markdown",
   "id": "d32b403b",
   "metadata": {},
   "source": [
    "### 모델 구성 및 컴파일\n",
    "- rmsprop 옵티마이저, binary_crossentropy 손실 함수, accuracy 지표를 사용하도록 컴파일"
   ]
  },
  {
   "cell_type": "code",
   "execution_count": 3,
   "id": "2c0777d2",
   "metadata": {},
   "outputs": [
    {
     "name": "stdout",
     "output_type": "stream",
     "text": [
      "Model: \"sequential\"\n",
      "_________________________________________________________________\n",
      "Layer (type)                 Output Shape              Param #   \n",
      "=================================================================\n",
      "input (Dense)                (None, 128)               1280128   \n",
      "_________________________________________________________________\n",
      "hidden (Dense)               (None, 128)               16512     \n",
      "_________________________________________________________________\n",
      "output (Dense)               (None, 1)                 129       \n",
      "=================================================================\n",
      "Total params: 1,296,769\n",
      "Trainable params: 1,296,769\n",
      "Non-trainable params: 0\n",
      "_________________________________________________________________\n"
     ]
    }
   ],
   "source": [
    "import tensorflow as tf\n",
    "from tensorflow.keras import models, layers\n",
    "\n",
    "model = models.Sequential()\n",
    "model.add(layers.Dense(128, activation='relu', input_shape=(10000, ), name='input'))\n",
    "model.add(layers.Dense(128, activation='relu', name='hidden'))\n",
    "model.add(layers.Dense(1, activation='sigmoid', name='output'))\n",
    "\n",
    "model.compile(optimizer='rmsprop',\n",
    "              loss='binary_crossentropy',\n",
    "              metrics=['accuracy'])\n",
    "model.summary()"
   ]
  },
  {
   "cell_type": "markdown",
   "id": "bb892e7b",
   "metadata": {},
   "source": [
    "### 모델 학습"
   ]
  },
  {
   "cell_type": "code",
   "execution_count": 4,
   "id": "70f2c5bc",
   "metadata": {},
   "outputs": [
    {
     "name": "stdout",
     "output_type": "stream",
     "text": [
      "Epoch 1/30\n",
      "49/49 [==============================] - 5s 75ms/step - loss: 0.4287 - accuracy: 0.8094 - val_loss: 0.3033 - val_accuracy: 0.8754\n",
      "Epoch 2/30\n",
      "49/49 [==============================] - 1s 19ms/step - loss: 0.2416 - accuracy: 0.9037 - val_loss: 0.2782 - val_accuracy: 0.8873\n",
      "Epoch 3/30\n",
      "49/49 [==============================] - 1s 19ms/step - loss: 0.1732 - accuracy: 0.9340 - val_loss: 0.3364 - val_accuracy: 0.8692\n",
      "Epoch 4/30\n",
      "49/49 [==============================] - 1s 18ms/step - loss: 0.1230 - accuracy: 0.9549 - val_loss: 0.3841 - val_accuracy: 0.8619\n",
      "Epoch 5/30\n",
      "49/49 [==============================] - 1s 19ms/step - loss: 0.0827 - accuracy: 0.9718 - val_loss: 0.4205 - val_accuracy: 0.8712\n",
      "Epoch 6/30\n",
      "49/49 [==============================] - 1s 19ms/step - loss: 0.0581 - accuracy: 0.9793 - val_loss: 0.3874 - val_accuracy: 0.8743\n",
      "Epoch 7/30\n",
      "49/49 [==============================] - 1s 18ms/step - loss: 0.0369 - accuracy: 0.9898 - val_loss: 0.4960 - val_accuracy: 0.8737\n",
      "Epoch 8/30\n",
      "49/49 [==============================] - 1s 18ms/step - loss: 0.0386 - accuracy: 0.9904 - val_loss: 0.5336 - val_accuracy: 0.8721\n",
      "Epoch 9/30\n",
      "49/49 [==============================] - 1s 18ms/step - loss: 0.0040 - accuracy: 0.9994 - val_loss: 0.7224 - val_accuracy: 0.8693\n",
      "Epoch 10/30\n",
      "49/49 [==============================] - 1s 18ms/step - loss: 0.0480 - accuracy: 0.9923 - val_loss: 0.7241 - val_accuracy: 0.8703\n",
      "Epoch 11/30\n",
      "49/49 [==============================] - 1s 18ms/step - loss: 0.0149 - accuracy: 0.9957 - val_loss: 0.6797 - val_accuracy: 0.8696\n",
      "Epoch 12/30\n",
      "49/49 [==============================] - 1s 20ms/step - loss: 9.8657e-04 - accuracy: 1.0000 - val_loss: 0.8962 - val_accuracy: 0.8694\n",
      "Epoch 13/30\n",
      "49/49 [==============================] - 1s 18ms/step - loss: 0.0098 - accuracy: 0.9980 - val_loss: 2.5528 - val_accuracy: 0.7684\n",
      "Epoch 14/30\n",
      "49/49 [==============================] - 1s 18ms/step - loss: 0.0186 - accuracy: 0.9972 - val_loss: 0.9828 - val_accuracy: 0.8686\n",
      "Epoch 15/30\n",
      "49/49 [==============================] - 1s 19ms/step - loss: 1.1411e-04 - accuracy: 1.0000 - val_loss: 1.1261 - val_accuracy: 0.8674\n",
      "Epoch 16/30\n",
      "49/49 [==============================] - 1s 18ms/step - loss: 3.8856e-05 - accuracy: 1.0000 - val_loss: 1.3329 - val_accuracy: 0.8671\n",
      "Epoch 17/30\n",
      "49/49 [==============================] - 1s 17ms/step - loss: 0.0575 - accuracy: 0.9939 - val_loss: 1.2567 - val_accuracy: 0.8658\n",
      "Epoch 18/30\n",
      "49/49 [==============================] - 1s 17ms/step - loss: 8.8875e-06 - accuracy: 1.0000 - val_loss: 1.2866 - val_accuracy: 0.8662\n",
      "Epoch 19/30\n",
      "49/49 [==============================] - 1s 17ms/step - loss: 6.3421e-06 - accuracy: 1.0000 - val_loss: 1.3423 - val_accuracy: 0.8660\n",
      "Epoch 20/30\n",
      "49/49 [==============================] - 1s 19ms/step - loss: 3.5427e-06 - accuracy: 1.0000 - val_loss: 1.4611 - val_accuracy: 0.8657\n",
      "Epoch 21/30\n",
      "49/49 [==============================] - 1s 19ms/step - loss: 0.0683 - accuracy: 0.9947 - val_loss: 1.4994 - val_accuracy: 0.8629\n",
      "Epoch 22/30\n",
      "49/49 [==============================] - 1s 18ms/step - loss: 1.1296e-05 - accuracy: 1.0000 - val_loss: 1.4248 - val_accuracy: 0.8663\n",
      "Epoch 23/30\n",
      "49/49 [==============================] - 1s 19ms/step - loss: 1.0932e-06 - accuracy: 1.0000 - val_loss: 1.4373 - val_accuracy: 0.8665\n",
      "Epoch 24/30\n",
      "49/49 [==============================] - 1s 18ms/step - loss: 8.6380e-07 - accuracy: 1.0000 - val_loss: 1.4723 - val_accuracy: 0.8667\n",
      "Epoch 25/30\n",
      "49/49 [==============================] - 1s 19ms/step - loss: 5.2456e-07 - accuracy: 1.0000 - val_loss: 1.5820 - val_accuracy: 0.8677\n",
      "Epoch 26/30\n",
      "49/49 [==============================] - 1s 17ms/step - loss: 2.2727e-07 - accuracy: 1.0000 - val_loss: 1.6950 - val_accuracy: 0.8675\n",
      "Epoch 27/30\n",
      "49/49 [==============================] - 1s 18ms/step - loss: 8.0660e-08 - accuracy: 1.0000 - val_loss: 1.8151 - val_accuracy: 0.8668\n",
      "Epoch 28/30\n",
      "49/49 [==============================] - 1s 18ms/step - loss: 3.4285e-08 - accuracy: 1.0000 - val_loss: 1.8748 - val_accuracy: 0.8670\n",
      "Epoch 29/30\n",
      "49/49 [==============================] - 1s 18ms/step - loss: 2.0628e-08 - accuracy: 1.0000 - val_loss: 1.9164 - val_accuracy: 0.8671\n",
      "Epoch 30/30\n",
      "49/49 [==============================] - 1s 18ms/step - loss: 1.4671e-08 - accuracy: 1.0000 - val_loss: 1.9499 - val_accuracy: 0.8672\n"
     ]
    }
   ],
   "source": [
    "history = model.fit(x_train, y_train,\n",
    "                    epochs=30,\n",
    "                    batch_size=512,\n",
    "                    validation_data=(x_test, y_test))"
   ]
  },
  {
   "cell_type": "code",
   "execution_count": 5,
   "id": "1d170977",
   "metadata": {},
   "outputs": [
    {
     "data": {
      "image/png": "[encoded data removed]",
      "text/plain": [
       "<Figure size 864x360 with 2 Axes>"
      ]
     },
     "metadata": {
      "needs_background": "light"
     },
     "output_type": "display_data"
    }
   ],
   "source": [
    "import matplotlib.pyplot as plt\n",
    "\n",
    "history_dict = history.history\n",
    "\n",
    "loss = history_dict['loss']\n",
    "val_loss = history_dict['val_loss']\n",
    "epochs = range(1, len(loss) + 1)\n",
    "\n",
    "fig = plt.figure(figsize=(12, 5))\n",
    "\n",
    "ax1 = fig.add_subplot(1, 2, 1)\n",
    "ax1.plot(epochs, loss, 'b--', label='train_loss')\n",
    "ax1.plot(epochs, val_loss, 'r--', label='val_loss')\n",
    "ax1.set_title('Train and Validation Loss')\n",
    "ax1.set_xlabel('Epochs')\n",
    "ax1.set_ylabel('Loss')\n",
    "ax1.grid()\n",
    "ax1.legend()\n",
    "\n",
    "accuracy = history_dict['accuracy']\n",
    "val_accuracy = history_dict['val_accuracy']\n",
    "\n",
    "ax2 = fig.add_subplot(1, 2, 2)\n",
    "ax2.plot(epochs, accuracy, 'b--', label='train_accuracy')\n",
    "ax2.plot(epochs, val_accuracy, 'r--', label='val_accuracy')\n",
    "ax2.set_title('Train and Validation Accuracy')\n",
    "ax2.set_xlabel('Epochs')\n",
    "ax2.set_ylabel('Accuracy')\n",
    "ax2.grid()\n",
    "ax2.legend()\n",
    "\n",
    "plt.show()"
   ]
  },
  {
   "cell_type": "markdown",
   "id": "828a6783",
   "metadata": {},
   "source": [
    "딥러닝 모델이 과대적합된 상태인 것을 알 수 있음.  \n",
    "\n",
    "따라서 과대적합을 해결하기 위한 방법을 찾아야 함."
   ]
  },
  {
   "cell_type": "markdown",
   "id": "61ed218a",
   "metadata": {},
   "source": [
    "## 모델 크기 조절"
   ]
  },
  {
   "cell_type": "markdown",
   "id": "36999df3",
   "metadata": {},
   "source": [
    "### 모델 크기 증가"
   ]
  },
  {
   "cell_type": "code",
   "execution_count": 6,
   "id": "ce5b2104",
   "metadata": {},
   "outputs": [
    {
     "name": "stdout",
     "output_type": "stream",
     "text": [
      "Model: \"sequential_1\"\n",
      "_________________________________________________________________\n",
      "Layer (type)                 Output Shape              Param #   \n",
      "=================================================================\n",
      "input3 (Dense)               (None, 2048)              20482048  \n",
      "_________________________________________________________________\n",
      "hidden3 (Dense)              (None, 2048)              4196352   \n",
      "_________________________________________________________________\n",
      "output3 (Dense)              (None, 1)                 2049      \n",
      "=================================================================\n",
      "Total params: 24,680,449\n",
      "Trainable params: 24,680,449\n",
      "Non-trainable params: 0\n",
      "_________________________________________________________________\n"
     ]
    }
   ],
   "source": [
    "b_model = models.Sequential()\n",
    "b_model.add(layers.Dense(2048, activation='relu', input_shape=(10000, ), name='input3'))\n",
    "b_model.add(layers.Dense(2048, activation='relu', name='hidden3'))\n",
    "b_model.add(layers.Dense(1, activation='sigmoid', name='output3'))\n",
    "b_model.compile(optimizer='rmsprop',\n",
    "                loss='binary_crossentropy',\n",
    "                metrics=['accuracy'])\n",
    "b_model.summary()"
   ]
  },
  {
   "cell_type": "code",
   "execution_count": 7,
   "id": "632493e8",
   "metadata": {},
   "outputs": [
    {
     "name": "stdout",
     "output_type": "stream",
     "text": [
      "Epoch 1/30\n",
      "49/49 [==============================] - 5s 88ms/step - loss: 0.7472 - accuracy: 0.7964 - val_loss: 0.3347 - val_accuracy: 0.8578\n",
      "Epoch 2/30\n",
      "49/49 [==============================] - 2s 38ms/step - loss: 0.2289 - accuracy: 0.9135 - val_loss: 0.3301 - val_accuracy: 0.8740\n",
      "Epoch 3/30\n",
      "49/49 [==============================] - 2s 38ms/step - loss: 0.1171 - accuracy: 0.9574 - val_loss: 0.4589 - val_accuracy: 0.8543\n",
      "Epoch 4/30\n",
      "49/49 [==============================] - 2s 38ms/step - loss: 0.0598 - accuracy: 0.9842 - val_loss: 0.4918 - val_accuracy: 0.8802\n",
      "Epoch 5/30\n",
      "49/49 [==============================] - 2s 37ms/step - loss: 0.1536 - accuracy: 0.9838 - val_loss: 0.5932 - val_accuracy: 0.8712\n",
      "Epoch 6/30\n",
      "49/49 [==============================] - 2s 38ms/step - loss: 0.0028 - accuracy: 0.9992 - val_loss: 0.6250 - val_accuracy: 0.8853\n",
      "Epoch 7/30\n",
      "49/49 [==============================] - 2s 38ms/step - loss: 0.1610 - accuracy: 0.9882 - val_loss: 0.5411 - val_accuracy: 0.8855\n",
      "Epoch 8/30\n",
      "49/49 [==============================] - 2s 38ms/step - loss: 1.1774e-04 - accuracy: 1.0000 - val_loss: 0.7815 - val_accuracy: 0.8846\n",
      "Epoch 9/30\n",
      "49/49 [==============================] - 2s 38ms/step - loss: 5.8296e-06 - accuracy: 1.0000 - val_loss: 0.8532 - val_accuracy: 0.8852\n",
      "Epoch 10/30\n",
      "49/49 [==============================] - 2s 38ms/step - loss: 1.4986e-06 - accuracy: 1.0000 - val_loss: 0.9593 - val_accuracy: 0.8843\n",
      "Epoch 11/30\n",
      "49/49 [==============================] - 2s 38ms/step - loss: 3.0127e-07 - accuracy: 1.0000 - val_loss: 1.0738 - val_accuracy: 0.8844\n",
      "Epoch 12/30\n",
      "49/49 [==============================] - 2s 38ms/step - loss: 6.1672e-08 - accuracy: 1.0000 - val_loss: 1.1938 - val_accuracy: 0.8844\n",
      "Epoch 13/30\n",
      "49/49 [==============================] - 2s 38ms/step - loss: 1.7833e-08 - accuracy: 1.0000 - val_loss: 1.2670 - val_accuracy: 0.8845\n",
      "Epoch 14/30\n",
      "49/49 [==============================] - 2s 37ms/step - loss: 8.5916e-09 - accuracy: 1.0000 - val_loss: 1.3072 - val_accuracy: 0.8845\n",
      "Epoch 15/30\n",
      "49/49 [==============================] - 2s 38ms/step - loss: 5.6057e-09 - accuracy: 1.0000 - val_loss: 1.3335 - val_accuracy: 0.8846\n",
      "Epoch 16/30\n",
      "49/49 [==============================] - 2s 37ms/step - loss: 4.2015e-09 - accuracy: 1.0000 - val_loss: 1.3522 - val_accuracy: 0.8845\n",
      "Epoch 17/30\n",
      "49/49 [==============================] - 2s 37ms/step - loss: 3.3548e-09 - accuracy: 1.0000 - val_loss: 1.3677 - val_accuracy: 0.8846\n",
      "Epoch 18/30\n",
      "49/49 [==============================] - 2s 37ms/step - loss: 2.8150e-09 - accuracy: 1.0000 - val_loss: 1.3801 - val_accuracy: 0.8846\n",
      "Epoch 19/30\n",
      "49/49 [==============================] - 2s 37ms/step - loss: 2.4259e-09 - accuracy: 1.0000 - val_loss: 1.3906 - val_accuracy: 0.8845\n",
      "Epoch 20/30\n",
      "49/49 [==============================] - 2s 37ms/step - loss: 2.1390e-09 - accuracy: 1.0000 - val_loss: 1.3998 - val_accuracy: 0.8845\n",
      "Epoch 21/30\n",
      "49/49 [==============================] - 2s 37ms/step - loss: 1.9199e-09 - accuracy: 1.0000 - val_loss: 1.4081 - val_accuracy: 0.8844\n",
      "Epoch 22/30\n",
      "49/49 [==============================] - 2s 37ms/step - loss: 1.7485e-09 - accuracy: 1.0000 - val_loss: 1.4152 - val_accuracy: 0.8842\n",
      "Epoch 23/30\n",
      "49/49 [==============================] - 2s 37ms/step - loss: 1.6007e-09 - accuracy: 1.0000 - val_loss: 1.4219 - val_accuracy: 0.8844\n",
      "Epoch 24/30\n",
      "49/49 [==============================] - 2s 37ms/step - loss: 1.4911e-09 - accuracy: 1.0000 - val_loss: 1.4279 - val_accuracy: 0.8843\n",
      "Epoch 25/30\n",
      "49/49 [==============================] - 2s 37ms/step - loss: 1.3972e-09 - accuracy: 1.0000 - val_loss: 1.4333 - val_accuracy: 0.8842\n",
      "Epoch 26/30\n",
      "49/49 [==============================] - 2s 37ms/step - loss: 1.3216e-09 - accuracy: 1.0000 - val_loss: 1.4383 - val_accuracy: 0.8843\n",
      "Epoch 27/30\n",
      "49/49 [==============================] - 2s 37ms/step - loss: 1.2523e-09 - accuracy: 1.0000 - val_loss: 1.4430 - val_accuracy: 0.8844\n",
      "Epoch 28/30\n",
      "49/49 [==============================] - 2s 37ms/step - loss: 1.1867e-09 - accuracy: 1.0000 - val_loss: 1.4478 - val_accuracy: 0.8842\n",
      "Epoch 29/30\n",
      "49/49 [==============================] - 2s 37ms/step - loss: 1.1398e-09 - accuracy: 1.0000 - val_loss: 1.4519 - val_accuracy: 0.8841\n",
      "Epoch 30/30\n",
      "49/49 [==============================] - 2s 37ms/step - loss: 1.0881e-09 - accuracy: 1.0000 - val_loss: 1.4558 - val_accuracy: 0.8842\n"
     ]
    }
   ],
   "source": [
    "b_model_history = b_model.fit(x_train, y_train,\n",
    "                              epochs=30,\n",
    "                              batch_size=512, \n",
    "                              validation_data=(x_test, y_test))"
   ]
  },
  {
   "cell_type": "code",
   "execution_count": 8,
   "id": "e38de647",
   "metadata": {},
   "outputs": [
    {
     "data": {
      "image/png": "[encoded data removed]",
      "text/plain": [
       "<Figure size 864x360 with 2 Axes>"
      ]
     },
     "metadata": {
      "needs_background": "light"
     },
     "output_type": "display_data"
    }
   ],
   "source": [
    "b_history_dict = b_model_history.history\n",
    "\n",
    "b_loss = b_history_dict['loss']\n",
    "b_val_loss = b_history_dict['val_loss']\n",
    "epochs = range(1, len(b_loss) + 1)\n",
    "\n",
    "fig = plt.figure(figsize=(12, 5))\n",
    "\n",
    "ax1 = fig.add_subplot(1, 2, 1)\n",
    "ax1.plot(epochs, b_loss, 'b-', label='train_loss(large)')\n",
    "ax1.plot(epochs, b_val_loss, 'r-', label='val_loss(large)')\n",
    "ax1.plot(epochs, loss, 'b--', label='train_loss')\n",
    "ax1.plot(epochs, val_loss, 'r--', label='val_loss')\n",
    "ax1.set_title('Train and Validation Loss')\n",
    "ax1.set_xlabel('Epochs')\n",
    "ax1.set_ylabel('Loss')\n",
    "ax1.grid()\n",
    "ax1.legend()\n",
    "\n",
    "b_accuracy = b_history_dict['accuracy']\n",
    "b_val_accuracy = b_history_dict['val_accuracy']\n",
    "\n",
    "ax2 = fig.add_subplot(1, 2, 2)\n",
    "ax2.plot(epochs, b_accuracy, 'b-', label='train_accuracy(large)')\n",
    "ax2.plot(epochs, b_val_accuracy, 'r-', label='val_accuracy(large)')\n",
    "ax2.plot(epochs, accuracy, 'b--', label='train_accuracy')\n",
    "ax2.plot(epochs, val_accuracy, 'r--', label='val_accuracy')\n",
    "ax2.set_title('Train and Validation Accuracy')\n",
    "ax2.set_xlabel('Epochs')\n",
    "ax2.set_ylabel('Accuracy')\n",
    "ax2.grid()\n",
    "ax2.legend()\n",
    "\n",
    "plt.show()"
   ]
  },
  {
   "cell_type": "markdown",
   "id": "ac4ebee3",
   "metadata": {},
   "source": [
    "모델의 크기가 클수록, 즉 파라미터 수가 많은 신경망일수록 빠르게 훈련 데이터 모델링이 가능하고, 학습 손실이 낮아지는 것을 알 수 있음.  \n",
    "모델이 과대적합에는 더욱 민감해지는 것을 학습-검증 데이터 손실을 통해 확인이 가능  \n"
   ]
  },
  {
   "cell_type": "markdown",
   "id": "7df88421",
   "metadata": {},
   "source": [
    "### 모델 크기 감소"
   ]
  },
  {
   "cell_type": "code",
   "execution_count": 9,
   "id": "6dcf45a7",
   "metadata": {},
   "outputs": [
    {
     "name": "stdout",
     "output_type": "stream",
     "text": [
      "Model: \"sequential_2\"\n",
      "_________________________________________________________________\n",
      "Layer (type)                 Output Shape              Param #   \n",
      "=================================================================\n",
      "input2 (Dense)               (None, 16)                160016    \n",
      "_________________________________________________________________\n",
      "hidden2 (Dense)              (None, 16)                272       \n",
      "_________________________________________________________________\n",
      "output2 (Dense)              (None, 1)                 17        \n",
      "=================================================================\n",
      "Total params: 160,305\n",
      "Trainable params: 160,305\n",
      "Non-trainable params: 0\n",
      "_________________________________________________________________\n"
     ]
    }
   ],
   "source": [
    "s_model = models.Sequential()\n",
    "s_model.add(layers.Dense(16, activation='relu', input_shape=(10000, ), name='input2'))\n",
    "s_model.add(layers.Dense(16, activation='relu', name='hidden2'))\n",
    "s_model.add(layers.Dense(1, activation='sigmoid', name='output2'))\n",
    "s_model.compile(optimizer='rmsprop',\n",
    "                loss='binary_crossentropy',\n",
    "                metrics=['accuracy'])\n",
    "s_model.summary()"
   ]
  },
  {
   "cell_type": "code",
   "execution_count": 10,
   "id": "cf1456aa",
   "metadata": {},
   "outputs": [
    {
     "name": "stdout",
     "output_type": "stream",
     "text": [
      "Epoch 1/30\n",
      "49/49 [==============================] - 4s 67ms/step - loss: 0.4587 - accuracy: 0.8192 - val_loss: 0.3502 - val_accuracy: 0.8769\n",
      "Epoch 2/30\n",
      "49/49 [==============================] - 1s 17ms/step - loss: 0.2659 - accuracy: 0.9094 - val_loss: 0.2877 - val_accuracy: 0.8880\n",
      "Epoch 3/30\n",
      "49/49 [==============================] - 1s 16ms/step - loss: 0.2034 - accuracy: 0.9268 - val_loss: 0.2889 - val_accuracy: 0.8846\n",
      "Epoch 4/30\n",
      "49/49 [==============================] - 1s 16ms/step - loss: 0.1704 - accuracy: 0.9397 - val_loss: 0.3050 - val_accuracy: 0.8781\n",
      "Epoch 5/30\n",
      "49/49 [==============================] - 1s 17ms/step - loss: 0.1449 - accuracy: 0.9508 - val_loss: 0.3139 - val_accuracy: 0.8781\n",
      "Epoch 6/30\n",
      "49/49 [==============================] - 1s 18ms/step - loss: 0.1245 - accuracy: 0.9579 - val_loss: 0.3539 - val_accuracy: 0.8708\n",
      "Epoch 7/30\n",
      "49/49 [==============================] - 1s 17ms/step - loss: 0.1094 - accuracy: 0.9633 - val_loss: 0.3605 - val_accuracy: 0.8695\n",
      "Epoch 8/30\n",
      "49/49 [==============================] - 1s 18ms/step - loss: 0.0948 - accuracy: 0.9690 - val_loss: 0.3789 - val_accuracy: 0.8698\n",
      "Epoch 9/30\n",
      "49/49 [==============================] - 1s 17ms/step - loss: 0.0804 - accuracy: 0.9746 - val_loss: 0.3981 - val_accuracy: 0.8658\n",
      "Epoch 10/30\n",
      "49/49 [==============================] - 1s 18ms/step - loss: 0.0693 - accuracy: 0.9788 - val_loss: 0.4276 - val_accuracy: 0.8669\n",
      "Epoch 11/30\n",
      "49/49 [==============================] - 1s 17ms/step - loss: 0.0588 - accuracy: 0.9829 - val_loss: 0.4668 - val_accuracy: 0.8625\n",
      "Epoch 12/30\n",
      "49/49 [==============================] - 1s 18ms/step - loss: 0.0474 - accuracy: 0.9872 - val_loss: 0.4903 - val_accuracy: 0.8609\n",
      "Epoch 13/30\n",
      "49/49 [==============================] - 1s 17ms/step - loss: 0.0388 - accuracy: 0.9899 - val_loss: 0.5281 - val_accuracy: 0.8586\n",
      "Epoch 14/30\n",
      "49/49 [==============================] - 1s 17ms/step - loss: 0.0329 - accuracy: 0.9918 - val_loss: 0.5531 - val_accuracy: 0.8598\n",
      "Epoch 15/30\n",
      "49/49 [==============================] - 1s 17ms/step - loss: 0.0243 - accuracy: 0.9946 - val_loss: 0.6184 - val_accuracy: 0.8532\n",
      "Epoch 16/30\n",
      "49/49 [==============================] - 1s 17ms/step - loss: 0.0213 - accuracy: 0.9955 - val_loss: 0.6340 - val_accuracy: 0.8552\n",
      "Epoch 17/30\n",
      "49/49 [==============================] - 1s 17ms/step - loss: 0.0156 - accuracy: 0.9965 - val_loss: 0.6696 - val_accuracy: 0.8537\n",
      "Epoch 18/30\n",
      "49/49 [==============================] - 1s 18ms/step - loss: 0.0121 - accuracy: 0.9975 - val_loss: 0.7070 - val_accuracy: 0.8528\n",
      "Epoch 19/30\n",
      "49/49 [==============================] - 1s 17ms/step - loss: 0.0096 - accuracy: 0.9980 - val_loss: 0.7531 - val_accuracy: 0.8518\n",
      "Epoch 20/30\n",
      "49/49 [==============================] - 1s 18ms/step - loss: 0.0065 - accuracy: 0.9992 - val_loss: 0.8808 - val_accuracy: 0.8402\n",
      "Epoch 21/30\n",
      "49/49 [==============================] - 1s 17ms/step - loss: 0.0067 - accuracy: 0.9986 - val_loss: 0.8379 - val_accuracy: 0.8506\n",
      "Epoch 22/30\n",
      "49/49 [==============================] - 1s 17ms/step - loss: 0.0060 - accuracy: 0.9988 - val_loss: 0.8653 - val_accuracy: 0.8500\n",
      "Epoch 23/30\n",
      "49/49 [==============================] - 1s 18ms/step - loss: 0.0049 - accuracy: 0.9990 - val_loss: 0.8929 - val_accuracy: 0.8504\n",
      "Epoch 24/30\n",
      "49/49 [==============================] - 1s 17ms/step - loss: 0.0016 - accuracy: 0.9999 - val_loss: 0.9941 - val_accuracy: 0.8473\n",
      "Epoch 25/30\n",
      "49/49 [==============================] - 1s 17ms/step - loss: 0.0038 - accuracy: 0.9991 - val_loss: 0.9789 - val_accuracy: 0.8501\n",
      "Epoch 26/30\n",
      "49/49 [==============================] - 1s 17ms/step - loss: 9.3400e-04 - accuracy: 1.0000 - val_loss: 1.0369 - val_accuracy: 0.8483\n",
      "Epoch 27/30\n",
      "49/49 [==============================] - 1s 17ms/step - loss: 0.0025 - accuracy: 0.9994 - val_loss: 1.0667 - val_accuracy: 0.8489\n",
      "Epoch 28/30\n",
      "49/49 [==============================] - 1s 18ms/step - loss: 0.0032 - accuracy: 0.9993 - val_loss: 1.0968 - val_accuracy: 0.8468\n",
      "Epoch 29/30\n",
      "49/49 [==============================] - 1s 17ms/step - loss: 3.6824e-04 - accuracy: 1.0000 - val_loss: 1.1274 - val_accuracy: 0.8480\n",
      "Epoch 30/30\n",
      "49/49 [==============================] - 1s 17ms/step - loss: 0.0024 - accuracy: 0.9995 - val_loss: 1.1613 - val_accuracy: 0.8478\n"
     ]
    }
   ],
   "source": [
    "s_model_history = s_model.fit(x_train, y_train,\n",
    "                              epochs=30,\n",
    "                              batch_size=512, \n",
    "                              validation_data=(x_test, y_test))"
   ]
  },
  {
   "cell_type": "code",
   "execution_count": 11,
   "id": "06ea1758",
   "metadata": {},
   "outputs": [
    {
     "data": {
      "image/png": "[encoded data removed]",
      "text/plain": [
       "<Figure size 864x360 with 2 Axes>"
      ]
     },
     "metadata": {
      "needs_background": "light"
     },
     "output_type": "display_data"
    }
   ],
   "source": [
    "s_history_dict = s_model_history.history\n",
    "\n",
    "s_loss = s_history_dict['loss']\n",
    "s_val_loss = s_history_dict['val_loss']\n",
    "epochs = range(1, len(s_loss) + 1)\n",
    "\n",
    "fig = plt.figure(figsize=(12, 5))\n",
    "\n",
    "ax1 = fig.add_subplot(1, 2, 1)\n",
    "ax1.plot(epochs, b_loss, 'b-', label='train_loss(large)')\n",
    "ax1.plot(epochs, b_val_loss, 'r-', label='val_loss(large)')\n",
    "ax1.plot(epochs, loss, 'b--', label='train_loss')\n",
    "ax1.plot(epochs, val_loss, 'r--', label='val_loss')\n",
    "ax1.plot(epochs, s_loss, 'b:', label='train_loss(small)')\n",
    "ax1.plot(epochs, s_val_loss, 'r:', label='val_loss(small)')\n",
    "ax1.set_title('Train and Validation Loss')\n",
    "ax1.set_xlabel('Epochs')\n",
    "ax1.set_ylabel('Loss')\n",
    "ax1.grid()\n",
    "ax1.legend()\n",
    "\n",
    "s_accuracy = s_history_dict['accuracy']\n",
    "s_val_accuracy = s_history_dict['val_accuracy']\n",
    "\n",
    "ax2 = fig.add_subplot(1, 2, 2)\n",
    "ax2.plot(epochs, b_accuracy, 'b-', label='train_accuracy(large)')\n",
    "ax2.plot(epochs, b_val_accuracy, 'r-', label='val_accuracy(large)')\n",
    "ax2.plot(epochs, accuracy, 'b--', label='train_accuracy')\n",
    "ax2.plot(epochs, val_accuracy, 'r--', label='val_accuracy')\n",
    "ax2.plot(epochs, s_accuracy, 'b:', label='train_accuracy(small)')\n",
    "ax2.plot(epochs, s_val_accuracy, 'r:', label='val_accuracy(small)')\n",
    "ax2.set_title('Train and Validation Accuracy')\n",
    "ax2.set_xlabel('Epochs')\n",
    "ax2.set_ylabel('Accuracy')\n",
    "ax2.grid()\n",
    "ax2.legend()\n",
    "\n",
    "plt.show()"
   ]
  },
  {
   "cell_type": "markdown",
   "id": "3decf958",
   "metadata": {},
   "source": [
    "모델의 최적화를 위해서는 파라미터 수를 적절하게 조절"
   ]
  },
  {
   "cell_type": "markdown",
   "id": "56a7cc23",
   "metadata": {},
   "source": [
    "## 규제(Regularization)\n",
    "- 가중치의 파라미터 값이 커서 과대적합이 발생하는 경우가 많기 때문에 이를 방지하기 위해 큰 가중치 값은 큰 규제를 가하는 방법이 규제화\n",
    "- 규제를 통해 가중치의 절댓값을 가능한 작게 만들어서 가중치의 모든 원소를 0에 가깝게 하여 모든 특성이 출력에 주는 영향을 최소한으로 만드는 것을 의미\n",
    "- 기울기를 작게 만드는 과정\n",
    "\n",
    "- 규제가 모델이 과대적합 되지 않도록 강제로 제한하는 역할을 하므로 적절한 규제값을 찾는 것이 중요  \n",
    "\n",
    "- L1 규제는 가중치의 절댓값에 비례하는 비용이 추가\n",
    "- L2 규제는 가중치 감쇠(weight decay)라고도 불리며, 가중치의 제곱에 비례하는 비용이 추가\n",
    "- L1, L2 둘다 합쳐서 사용하는 경우도 존재"
   ]
  },
  {
   "cell_type": "markdown",
   "id": "9fbda54e",
   "metadata": {},
   "source": [
    "### L1 규제\n",
    "- 가중치의 절댓값 합에 비례하는 비용을 손실 함수에 추가 하는 방법\n",
    "- 가중치의 절대값은 L1 노름(norm)이라고 함\n",
    "\n",
    "- 케라스에서 L1 규제를 사용하기 위해서는 적용할 레이어에서 가중치 정규화인 kernel_regularizer를 l1으로 지정\n",
    "- 편향 정규화인 bias_regularizer와 출력값 정규화인 activity_regularizer에도 적용할 수 있음"
   ]
  },
  {
   "cell_type": "code",
   "execution_count": 12,
   "id": "acc06b24",
   "metadata": {},
   "outputs": [
    {
     "name": "stdout",
     "output_type": "stream",
     "text": [
      "Model: \"sequential_3\"\n",
      "_________________________________________________________________\n",
      "Layer (type)                 Output Shape              Param #   \n",
      "=================================================================\n",
      "dense (Dense)                (None, 16)                160016    \n",
      "_________________________________________________________________\n",
      "dense_1 (Dense)              (None, 16)                272       \n",
      "_________________________________________________________________\n",
      "dense_2 (Dense)              (None, 1)                 17        \n",
      "=================================================================\n",
      "Total params: 160,305\n",
      "Trainable params: 160,305\n",
      "Non-trainable params: 0\n",
      "_________________________________________________________________\n"
     ]
    }
   ],
   "source": [
    "l1_model =  models.Sequential()\n",
    "l1_model.add(layers.Dense(16, \n",
    "                          kernel_regularizer='l1',\n",
    "                          activation='relu', \n",
    "                          input_shape=(10000, )))\n",
    "l1_model.add(layers.Dense(16, \n",
    "                          kernel_regularizer='l1',\n",
    "                          activation='relu'))\n",
    "l1_model.add(layers.Dense(1, activation='sigmoid'))\n",
    "l1_model.compile(optimizer='rmsprop',\n",
    "                 loss='binary_crossentropy',\n",
    "                 metrics=['accuracy'])\n",
    "l1_model.summary()"
   ]
  },
  {
   "cell_type": "code",
   "execution_count": 13,
   "id": "1d9f17ef",
   "metadata": {},
   "outputs": [
    {
     "name": "stdout",
     "output_type": "stream",
     "text": [
      "Epoch 1/30\n",
      "49/49 [==============================] - 4s 70ms/step - loss: 3.7376 - accuracy: 0.5836 - val_loss: 1.9320 - val_accuracy: 0.6340\n",
      "Epoch 2/30\n",
      "49/49 [==============================] - 1s 17ms/step - loss: 1.8626 - accuracy: 0.6630 - val_loss: 1.7948 - val_accuracy: 0.7018\n",
      "Epoch 3/30\n",
      "49/49 [==============================] - 1s 17ms/step - loss: 1.7565 - accuracy: 0.7065 - val_loss: 1.7165 - val_accuracy: 0.7020\n",
      "Epoch 4/30\n",
      "49/49 [==============================] - 1s 18ms/step - loss: 1.6636 - accuracy: 0.7354 - val_loss: 1.6104 - val_accuracy: 0.7570\n",
      "Epoch 5/30\n",
      "49/49 [==============================] - 1s 17ms/step - loss: 1.5784 - accuracy: 0.7599 - val_loss: 1.5462 - val_accuracy: 0.7607\n",
      "Epoch 6/30\n",
      "49/49 [==============================] - 1s 17ms/step - loss: 1.5070 - accuracy: 0.7745 - val_loss: 1.4666 - val_accuracy: 0.7839\n",
      "Epoch 7/30\n",
      "49/49 [==============================] - 1s 19ms/step - loss: 1.4492 - accuracy: 0.7909 - val_loss: 1.4355 - val_accuracy: 0.7958\n",
      "Epoch 8/30\n",
      "49/49 [==============================] - 1s 17ms/step - loss: 1.4092 - accuracy: 0.8014 - val_loss: 1.3945 - val_accuracy: 0.7980\n",
      "Epoch 9/30\n",
      "49/49 [==============================] - 1s 18ms/step - loss: 1.3857 - accuracy: 0.8093 - val_loss: 1.3842 - val_accuracy: 0.8108\n",
      "Epoch 10/30\n",
      "49/49 [==============================] - 1s 16ms/step - loss: 1.3726 - accuracy: 0.8158 - val_loss: 1.3632 - val_accuracy: 0.8161\n",
      "Epoch 11/30\n",
      "49/49 [==============================] - 1s 17ms/step - loss: 1.3613 - accuracy: 0.8239 - val_loss: 1.3684 - val_accuracy: 0.8209\n",
      "Epoch 12/30\n",
      "49/49 [==============================] - 1s 18ms/step - loss: 1.3544 - accuracy: 0.8284 - val_loss: 1.3478 - val_accuracy: 0.8252\n",
      "Epoch 13/30\n",
      "49/49 [==============================] - 1s 17ms/step - loss: 1.3481 - accuracy: 0.8303 - val_loss: 1.3512 - val_accuracy: 0.8316\n",
      "Epoch 14/30\n",
      "49/49 [==============================] - 1s 17ms/step - loss: 1.3399 - accuracy: 0.8369 - val_loss: 1.3553 - val_accuracy: 0.8191\n",
      "Epoch 15/30\n",
      "49/49 [==============================] - 1s 17ms/step - loss: 1.3375 - accuracy: 0.8368 - val_loss: 1.3425 - val_accuracy: 0.8376\n",
      "Epoch 16/30\n",
      "49/49 [==============================] - 1s 17ms/step - loss: 1.3316 - accuracy: 0.8419 - val_loss: 1.3257 - val_accuracy: 0.8386\n",
      "Epoch 17/30\n",
      "49/49 [==============================] - 1s 18ms/step - loss: 1.3294 - accuracy: 0.8429 - val_loss: 1.3341 - val_accuracy: 0.8411\n",
      "Epoch 18/30\n",
      "49/49 [==============================] - 1s 18ms/step - loss: 1.3246 - accuracy: 0.8445 - val_loss: 1.3260 - val_accuracy: 0.8389\n",
      "Epoch 19/30\n",
      "49/49 [==============================] - 1s 18ms/step - loss: 1.3244 - accuracy: 0.8448 - val_loss: 1.3282 - val_accuracy: 0.8440\n",
      "Epoch 20/30\n",
      "49/49 [==============================] - 1s 17ms/step - loss: 1.3209 - accuracy: 0.8482 - val_loss: 1.3142 - val_accuracy: 0.8447\n",
      "Epoch 21/30\n",
      "49/49 [==============================] - 1s 17ms/step - loss: 1.3173 - accuracy: 0.8493 - val_loss: 1.3379 - val_accuracy: 0.8400\n",
      "Epoch 22/30\n",
      "49/49 [==============================] - 1s 16ms/step - loss: 1.3156 - accuracy: 0.8501 - val_loss: 1.3189 - val_accuracy: 0.8428\n",
      "Epoch 23/30\n",
      "49/49 [==============================] - 1s 17ms/step - loss: 1.3139 - accuracy: 0.8515 - val_loss: 1.3218 - val_accuracy: 0.8457\n",
      "Epoch 24/30\n",
      "49/49 [==============================] - 1s 17ms/step - loss: 1.3135 - accuracy: 0.8495 - val_loss: 1.3082 - val_accuracy: 0.8482\n",
      "Epoch 25/30\n",
      "49/49 [==============================] - 1s 18ms/step - loss: 1.3086 - accuracy: 0.8512 - val_loss: 1.3205 - val_accuracy: 0.8473\n",
      "Epoch 26/30\n",
      "49/49 [==============================] - 1s 17ms/step - loss: 1.3097 - accuracy: 0.8520 - val_loss: 1.3012 - val_accuracy: 0.8524\n",
      "Epoch 27/30\n",
      "49/49 [==============================] - 1s 18ms/step - loss: 1.3077 - accuracy: 0.8532 - val_loss: 1.3105 - val_accuracy: 0.8530\n",
      "Epoch 28/30\n",
      "49/49 [==============================] - 1s 18ms/step - loss: 1.3063 - accuracy: 0.8538 - val_loss: 1.2973 - val_accuracy: 0.8538\n",
      "Epoch 29/30\n",
      "49/49 [==============================] - 1s 17ms/step - loss: 1.3030 - accuracy: 0.8546 - val_loss: 1.3352 - val_accuracy: 0.8384\n",
      "Epoch 30/30\n",
      "49/49 [==============================] - 1s 19ms/step - loss: 1.3046 - accuracy: 0.8552 - val_loss: 1.3161 - val_accuracy: 0.8445\n"
     ]
    }
   ],
   "source": [
    "l1_model_hist = l1_model.fit(x_train, y_train,\n",
    "                             epochs=30,\n",
    "                             batch_size=512,\n",
    "                             validation_data=(x_test, y_test))"
   ]
  },
  {
   "cell_type": "code",
   "execution_count": 14,
   "id": "8b3f0bff",
   "metadata": {},
   "outputs": [
    {
     "data": {
      "image/png": "[encoded data removed]",
      "text/plain": [
       "<Figure size 432x288 with 1 Axes>"
      ]
     },
     "metadata": {
      "needs_background": "light"
     },
     "output_type": "display_data"
    }
   ],
   "source": [
    "l1_val_loss = l1_model_hist.history['val_loss']\n",
    "\n",
    "epochs = range(1, 31)\n",
    "plt.plot(epochs, val_loss, 'k--', label='Model')\n",
    "plt.plot(epochs, l1_val_loss, 'b--', label='L1-regularized')\n",
    "plt.xlabel('Epochs')\n",
    "plt.ylabel('Validation Loss')\n",
    "plt.legend()\n",
    "plt.grid()\n",
    "plt.show()"
   ]
  },
  {
   "cell_type": "markdown",
   "id": "b531e8e2",
   "metadata": {},
   "source": [
    "L1 규제 결과는 안정적으로 Loss 값이 감소되는 것을 알 수 있음"
   ]
  },
  {
   "cell_type": "markdown",
   "id": "0d5613b7",
   "metadata": {},
   "source": [
    " "
   ]
  },
  {
   "cell_type": "markdown",
   "id": "01df2729",
   "metadata": {},
   "source": [
    "### L2 규제\n",
    "- 가중치의 제곱에 비례하는 비용을 손실 함수의 일정 값에 더하는 방법\n",
    "- 가중치의 제곱은 L2 노름(norm) 이라고 함\n",
    "\n",
    "- L2 규제는 L1보다 더 Robust한 모델을 생성하므로 많이 사용되는 방법\n",
    "- 케라스에서 L2 규제를 사용하기 위해서는 적용할 레이어에서 kernel_regularizer를 l2로 지정"
   ]
  },
  {
   "cell_type": "code",
   "execution_count": 15,
   "id": "e62bc8bd",
   "metadata": {},
   "outputs": [
    {
     "name": "stdout",
     "output_type": "stream",
     "text": [
      "Model: \"sequential_4\"\n",
      "_________________________________________________________________\n",
      "Layer (type)                 Output Shape              Param #   \n",
      "=================================================================\n",
      "dense_3 (Dense)              (None, 16)                160016    \n",
      "_________________________________________________________________\n",
      "dense_4 (Dense)              (None, 16)                272       \n",
      "_________________________________________________________________\n",
      "dense_5 (Dense)              (None, 1)                 17        \n",
      "=================================================================\n",
      "Total params: 160,305\n",
      "Trainable params: 160,305\n",
      "Non-trainable params: 0\n",
      "_________________________________________________________________\n"
     ]
    }
   ],
   "source": [
    "l2_model =  models.Sequential()\n",
    "l2_model.add(layers.Dense(16, \n",
    "                          kernel_regularizer='l2',\n",
    "                          activation='relu', \n",
    "                          input_shape=(10000, )))\n",
    "l2_model.add(layers.Dense(16, \n",
    "                          kernel_regularizer='l2',\n",
    "                          activation='relu'))\n",
    "l2_model.add(layers.Dense(1, activation='sigmoid'))\n",
    "l2_model.compile(optimizer='rmsprop',\n",
    "                 loss='binary_crossentropy',\n",
    "                 metrics=['accuracy'])\n",
    "l2_model.summary()"
   ]
  },
  {
   "cell_type": "code",
   "execution_count": 16,
   "id": "683c4ef7",
   "metadata": {},
   "outputs": [
    {
     "name": "stdout",
     "output_type": "stream",
     "text": [
      "Epoch 1/30\n",
      "49/49 [==============================] - 4s 69ms/step - loss: 0.7630 - accuracy: 0.7243 - val_loss: 0.6326 - val_accuracy: 0.8082\n",
      "Epoch 2/30\n",
      "49/49 [==============================] - 1s 18ms/step - loss: 0.5579 - accuracy: 0.8750 - val_loss: 0.5605 - val_accuracy: 0.8358\n",
      "Epoch 3/30\n",
      "49/49 [==============================] - 1s 18ms/step - loss: 0.4917 - accuracy: 0.8872 - val_loss: 0.5070 - val_accuracy: 0.8672\n",
      "Epoch 4/30\n",
      "49/49 [==============================] - 1s 18ms/step - loss: 0.4590 - accuracy: 0.8908 - val_loss: 0.4626 - val_accuracy: 0.8832\n",
      "Epoch 5/30\n",
      "49/49 [==============================] - 1s 18ms/step - loss: 0.4381 - accuracy: 0.8917 - val_loss: 0.4482 - val_accuracy: 0.8824\n",
      "Epoch 6/30\n",
      "49/49 [==============================] - 1s 19ms/step - loss: 0.4262 - accuracy: 0.8941 - val_loss: 0.4424 - val_accuracy: 0.8819\n",
      "Epoch 7/30\n",
      "49/49 [==============================] - 1s 18ms/step - loss: 0.4128 - accuracy: 0.8982 - val_loss: 0.4472 - val_accuracy: 0.8720\n",
      "Epoch 8/30\n",
      "49/49 [==============================] - 1s 18ms/step - loss: 0.4078 - accuracy: 0.8943 - val_loss: 0.4373 - val_accuracy: 0.8758\n",
      "Epoch 9/30\n",
      "49/49 [==============================] - 1s 18ms/step - loss: 0.4024 - accuracy: 0.8973 - val_loss: 0.4231 - val_accuracy: 0.8846\n",
      "Epoch 10/30\n",
      "49/49 [==============================] - 1s 18ms/step - loss: 0.3947 - accuracy: 0.8994 - val_loss: 0.4401 - val_accuracy: 0.8710\n",
      "Epoch 11/30\n",
      "49/49 [==============================] - 1s 18ms/step - loss: 0.3876 - accuracy: 0.9025 - val_loss: 0.4320 - val_accuracy: 0.8728\n",
      "Epoch 12/30\n",
      "49/49 [==============================] - 1s 18ms/step - loss: 0.3880 - accuracy: 0.8987 - val_loss: 0.4298 - val_accuracy: 0.8735\n",
      "Epoch 13/30\n",
      "49/49 [==============================] - 1s 17ms/step - loss: 0.3820 - accuracy: 0.9012 - val_loss: 0.4127 - val_accuracy: 0.8826\n",
      "Epoch 14/30\n",
      "49/49 [==============================] - 1s 18ms/step - loss: 0.3786 - accuracy: 0.9014 - val_loss: 0.4113 - val_accuracy: 0.8828\n",
      "Epoch 15/30\n",
      "49/49 [==============================] - 1s 18ms/step - loss: 0.3772 - accuracy: 0.9012 - val_loss: 0.4134 - val_accuracy: 0.8807\n",
      "Epoch 16/30\n",
      "49/49 [==============================] - 1s 18ms/step - loss: 0.3701 - accuracy: 0.9039 - val_loss: 0.4095 - val_accuracy: 0.8807\n",
      "Epoch 17/30\n",
      "49/49 [==============================] - 1s 18ms/step - loss: 0.3678 - accuracy: 0.9061 - val_loss: 0.4261 - val_accuracy: 0.8718\n",
      "Epoch 18/30\n",
      "49/49 [==============================] - 1s 18ms/step - loss: 0.3620 - accuracy: 0.9069 - val_loss: 0.4189 - val_accuracy: 0.8722\n",
      "Epoch 19/30\n",
      "49/49 [==============================] - 1s 18ms/step - loss: 0.3619 - accuracy: 0.9059 - val_loss: 0.3997 - val_accuracy: 0.8852\n",
      "Epoch 20/30\n",
      "49/49 [==============================] - 1s 17ms/step - loss: 0.3541 - accuracy: 0.9092 - val_loss: 0.3978 - val_accuracy: 0.8846\n",
      "Epoch 21/30\n",
      "49/49 [==============================] - 1s 17ms/step - loss: 0.3510 - accuracy: 0.9106 - val_loss: 0.4081 - val_accuracy: 0.8776\n",
      "Epoch 22/30\n",
      "49/49 [==============================] - 1s 18ms/step - loss: 0.3478 - accuracy: 0.9116 - val_loss: 0.4361 - val_accuracy: 0.8607\n",
      "Epoch 23/30\n",
      "49/49 [==============================] - 1s 17ms/step - loss: 0.3413 - accuracy: 0.9147 - val_loss: 0.3957 - val_accuracy: 0.8828\n",
      "Epoch 24/30\n",
      "49/49 [==============================] - 1s 18ms/step - loss: 0.3430 - accuracy: 0.9108 - val_loss: 0.3924 - val_accuracy: 0.8829\n",
      "Epoch 25/30\n",
      "49/49 [==============================] - 1s 19ms/step - loss: 0.3373 - accuracy: 0.9134 - val_loss: 0.4039 - val_accuracy: 0.8755\n",
      "Epoch 26/30\n",
      "49/49 [==============================] - 1s 19ms/step - loss: 0.3339 - accuracy: 0.9155 - val_loss: 0.4120 - val_accuracy: 0.8707\n",
      "Epoch 27/30\n",
      "49/49 [==============================] - 1s 18ms/step - loss: 0.3318 - accuracy: 0.9153 - val_loss: 0.3892 - val_accuracy: 0.8846\n",
      "Epoch 28/30\n",
      "49/49 [==============================] - 1s 18ms/step - loss: 0.3310 - accuracy: 0.9154 - val_loss: 0.3873 - val_accuracy: 0.8848\n",
      "Epoch 29/30\n",
      "49/49 [==============================] - 1s 18ms/step - loss: 0.3268 - accuracy: 0.9165 - val_loss: 0.3863 - val_accuracy: 0.8846\n",
      "Epoch 30/30\n",
      "49/49 [==============================] - 1s 18ms/step - loss: 0.3259 - accuracy: 0.9171 - val_loss: 0.3971 - val_accuracy: 0.8787\n"
     ]
    }
   ],
   "source": [
    "l2_model_hist = l2_model.fit(x_train, y_train,\n",
    "                             epochs=30,\n",
    "                             batch_size=512,\n",
    "                             validation_data=(x_test, y_test))"
   ]
  },
  {
   "cell_type": "code",
   "execution_count": 17,
   "id": "7466a49f",
   "metadata": {},
   "outputs": [
    {
     "data": {
      "image/png": "[encoded data removed]",
      "text/plain": [
       "<Figure size 432x288 with 1 Axes>"
      ]
     },
     "metadata": {
      "needs_background": "light"
     },
     "output_type": "display_data"
    }
   ],
   "source": [
    "l2_val_loss = l2_model_hist.history['val_loss']\n",
    "\n",
    "epochs = range(1, 31)\n",
    "plt.plot(epochs, val_loss, 'k--', label='Model')\n",
    "plt.plot(epochs, l2_val_loss, 'r--', label='L2-regularized')\n",
    "plt.xlabel('Epochs')\n",
    "plt.ylabel('Validation Loss')\n",
    "plt.legend()\n",
    "plt.grid()\n",
    "plt.show()"
   ]
  },
  {
   "cell_type": "markdown",
   "id": "f02dcd9a",
   "metadata": {},
   "source": [
    "L2 규제 방법은 기존 모델 결과와 비교해 Loss 값이 매우 낮게 감소되어 과대적합 문제를 해결하는 것을 알 수 있음."
   ]
  },
  {
   "cell_type": "markdown",
   "id": "bec00a80",
   "metadata": {},
   "source": [
    "### L1 L2 규제\n",
    "- 적용할 레이어에서 kernel_regularizer를 l1_l2로 지정\n"
   ]
  },
  {
   "cell_type": "code",
   "execution_count": 18,
   "id": "fb0fdeef",
   "metadata": {},
   "outputs": [
    {
     "name": "stdout",
     "output_type": "stream",
     "text": [
      "Model: \"sequential_5\"\n",
      "_________________________________________________________________\n",
      "Layer (type)                 Output Shape              Param #   \n",
      "=================================================================\n",
      "dense_6 (Dense)              (None, 16)                160016    \n",
      "_________________________________________________________________\n",
      "dense_7 (Dense)              (None, 16)                272       \n",
      "_________________________________________________________________\n",
      "dense_8 (Dense)              (None, 1)                 17        \n",
      "=================================================================\n",
      "Total params: 160,305\n",
      "Trainable params: 160,305\n",
      "Non-trainable params: 0\n",
      "_________________________________________________________________\n"
     ]
    }
   ],
   "source": [
    "l1_l2_model =  models.Sequential()\n",
    "l1_l2_model.add(layers.Dense(16, \n",
    "                             kernel_regularizer='l1_l2',\n",
    "                             activation='relu', input_shape=(10000, )))\n",
    "l1_l2_model.add(layers.Dense(16, \n",
    "                             kernel_regularizer='l1_l2',\n",
    "                             activation='relu'))\n",
    "l1_l2_model.add(layers.Dense(1, activation='sigmoid'))\n",
    "l1_l2_model.compile(optimizer='rmsprop',\n",
    "                    loss='binary_crossentropy',\n",
    "                    metrics=['accuracy'])\n",
    "l1_l2_model.summary()"
   ]
  },
  {
   "cell_type": "code",
   "execution_count": 19,
   "id": "c0cc4cb8",
   "metadata": {},
   "outputs": [
    {
     "name": "stdout",
     "output_type": "stream",
     "text": [
      "Model: \"sequential_6\"\n",
      "_________________________________________________________________\n",
      "Layer (type)                 Output Shape              Param #   \n",
      "=================================================================\n",
      "dense_9 (Dense)              (None, 16)                160016    \n",
      "_________________________________________________________________\n",
      "dense_10 (Dense)             (None, 16)                272       \n",
      "_________________________________________________________________\n",
      "dense_11 (Dense)             (None, 1)                 17        \n",
      "=================================================================\n",
      "Total params: 160,305\n",
      "Trainable params: 160,305\n",
      "Non-trainable params: 0\n",
      "_________________________________________________________________\n"
     ]
    }
   ],
   "source": [
    "l1_l2_model =  models.Sequential()\n",
    "l1_l2_model.add(layers.Dense(16, \n",
    "                             kernel_regularizer='l1_l2',\n",
    "                             activation='relu', input_shape=(10000, )))\n",
    "l1_l2_model.add(layers.Dense(16, \n",
    "                             kernel_regularizer='l1_l2',\n",
    "                             activation='relu'))\n",
    "l1_l2_model.add(layers.Dense(1, activation='sigmoid'))\n",
    "l1_l2_model.compile(optimizer='rmsprop',\n",
    "                    loss='binary_crossentropy',\n",
    "                    metrics=['accuracy'])\n",
    "l1_l2_model.summary()"
   ]
  },
  {
   "cell_type": "code",
   "execution_count": null,
   "id": "94e50737",
   "metadata": {},
   "outputs": [
    {
     "name": "stdout",
     "output_type": "stream",
     "text": [
      "Epoch 1/30\n",
      "49/49 [==============================] - ETA: 0s - loss: 3.8938 - accuracy: 0.5894"
     ]
    }
   ],
   "source": [
    "l1_l2_model_hist = l1_l2_model.fit(x_train, y_train,\n",
    "                                  epochs=30,\n",
    "                                  batch_size=512,\n",
    "                                  validation_data=(x_test, y_test))"
   ]
  },
  {
   "cell_type": "code",
   "execution_count": null,
   "id": "52069f98",
   "metadata": {},
   "outputs": [],
   "source": [
    "l1_l2_val_loss = l1_l2_model_hist.history['val_loss']\n",
    "\n",
    "epochs = range(1, 31)\n",
    "plt.plot(epochs, val_loss, 'k--', label='Model')\n",
    "plt.plot(epochs, l1_l2_val_loss, 'g--', label='L1_L2-regularized')\n",
    "plt.xlabel('Epochs')\n",
    "plt.ylabel('Validation Loss')\n",
    "plt.legend()\n",
    "plt.grid()\n",
    "plt.show()"
   ]
  },
  {
   "cell_type": "markdown",
   "id": "c3a6c6d9",
   "metadata": {},
   "source": [
    "L1 L2 규제를 함께 사용하는 경우는 L1 규제와 큰 차이가 없는 것을 알 수 있음"
   ]
  },
  {
   "cell_type": "code",
   "execution_count": null,
   "id": "0f8566bc",
   "metadata": {},
   "outputs": [],
   "source": [
    "# Regularized 비교 \n",
    "epochs = range(1, 31)\n",
    "plt.plot(epochs, val_loss, 'k--', label='Model')\n",
    "plt.plot(epochs, l1_val_loss, 'b--', label='L1-regularized')\n",
    "plt.plot(epochs, l2_val_loss, 'r--', label='L2-regularized')\n",
    "plt.plot(epochs, l1_l2_val_loss, 'g--', label='L1_L2-regularized')\n",
    "plt.xlabel('Epochs')\n",
    "plt.ylabel('Validation Loss')\n",
    "plt.legend()\n",
    "plt.grid()\n",
    "plt.show()"
   ]
  },
  {
   "cell_type": "code",
   "execution_count": null,
   "id": "fd0432d3",
   "metadata": {},
   "outputs": [],
   "source": [
    "어떤 모델에 어떤 규제 방법이 좋을지는 실험을 통해 찾아가는 과정이 필요"
   ]
  },
  {
   "cell_type": "markdown",
   "id": "214c53ba",
   "metadata": {},
   "source": [
    "## 드롭아웃(Dropout)\n",
    "- 모델이 학습할 때 사용하는 노드의 수를 전체 노드 중에서 일부만을 사용 "
   ]
  },
  {
   "cell_type": "markdown",
   "id": "77413de8",
   "metadata": {},
   "source": [
    "**드롭아웃(Dropout) 20%**"
   ]
  },
  {
   "cell_type": "code",
   "execution_count": null,
   "id": "7a5bf9c6",
   "metadata": {},
   "outputs": [],
   "source": [
    "\n",
    "model = models.Sequential()\n",
    "model.add(layers.Dense(16, activation='relu', input_shape=(10000, )))\n",
    "model.add(layers.Dropout(0.2))\n",
    "model.add(layers.Dense(16, activation='relu'))\n",
    "model.add(layers.Dropout(0.2))\n",
    "model.add(layers.Dense(1, activation='sigmoid'))\n",
    "\n",
    "model.compile(optimizer='rmsprop',\n",
    "              loss='binary_crossentropy',\n",
    "              metrics=['accuracy'])\n",
    "model.summary()"
   ]
  },
  {
   "cell_type": "code",
   "execution_count": null,
   "id": "f1e955c2",
   "metadata": {},
   "outputs": [],
   "source": [
    "drop_20_history = model.fit(x_train, y_train,\n",
    "                            epochs=30,\n",
    "                            batch_size=512,\n",
    "                            validation_data=(x_test, y_test))"
   ]
  },
  {
   "cell_type": "code",
   "execution_count": null,
   "id": "2b26b3c2",
   "metadata": {},
   "outputs": [],
   "source": [
    "# 기존과 결과 비교 \n",
    "drop_20_dict = drop_20_history.history\n",
    "\n",
    "drop_20_loss = drop_20_dict['loss']\n",
    "drop_20_val_loss = drop_20_dict['val_loss']\n",
    "epochs = range(1, len(loss) + 1)\n",
    "\n",
    "fig = plt.figure(figsize=(12, 5))\n",
    "\n",
    "ax1 = fig.add_subplot(1, 2, 1)\n",
    "ax1.plot(epochs, loss, 'b-', label='train_loss')\n",
    "ax1.plot(epochs, val_loss, 'r-', label='val_loss')\n",
    "ax1.plot(epochs, drop_20_loss, 'b--', label='train_loss (dropout 20%)')\n",
    "ax1.plot(epochs, drop_20_val_loss, 'r--', label='val_loss (dropout 20%)')\n",
    "ax1.set_title('Train and Validation Loss')\n",
    "ax1.set_xlabel('Epochs')\n",
    "ax1.set_ylabel('Loss')\n",
    "ax1.grid()\n",
    "ax1.legend()\n",
    "\n",
    "drop_20_accuracy = drop_20_dict['accuracy']\n",
    "drop_20_val_accuracy = drop_20_dict['val_accuracy']\n",
    "\n",
    "ax2 = fig.add_subplot(1, 2, 2)\n",
    "ax2.plot(epochs, accuracy, 'b-', label='train_accuracy')\n",
    "ax2.plot(epochs, val_accuracy, 'r-', label='val_accuracy')\n",
    "ax2.plot(epochs, drop_20_accuracy, 'b--', label='train_accuracy (dropout 20%)')\n",
    "ax2.plot(epochs, drop_20_val_accuracy, 'r--', label='val_accuracy (dropout 20%)')\n",
    "ax2.set_title('Train and Validation Accuracy')\n",
    "ax2.set_xlabel('Epochs')\n",
    "ax2.set_ylabel('Accuracy')\n",
    "ax2.grid()\n",
    "ax2.legend()\n",
    "\n",
    "plt.show()"
   ]
  },
  {
   "cell_type": "markdown",
   "id": "c47682eb",
   "metadata": {},
   "source": [
    "**드롭아웃 (50%)**"
   ]
  },
  {
   "cell_type": "code",
   "execution_count": null,
   "id": "b8eb4911",
   "metadata": {},
   "outputs": [],
   "source": [
    "model = models.Sequential()\n",
    "model.add(layers.Dense(16, activation='relu', input_shape=(10000, )))\n",
    "model.add(layers.Dropout(0.5))\n",
    "model.add(layers.Dense(16, activation='relu'))\n",
    "model.add(layers.Dropout(0.5))\n",
    "model.add(layers.Dense(1, activation='sigmoid'))\n",
    "\n",
    "model.compile(optimizer='rmsprop',\n",
    "              loss='binary_crossentropy',\n",
    "              metrics=['accuracy'])\n",
    "model.summary()"
   ]
  },
  {
   "cell_type": "code",
   "execution_count": null,
   "id": "be869648",
   "metadata": {},
   "outputs": [],
   "source": [
    "drop_50_history = model.fit(x_train, y_train,\n",
    "                            epochs=30,\n",
    "                            batch_size=512,\n",
    "                            validation_data=(x_test, y_test))"
   ]
  },
  {
   "cell_type": "code",
   "execution_count": null,
   "id": "14495052",
   "metadata": {},
   "outputs": [],
   "source": [
    "drop_50_dict = drop_50_history.history\n",
    "\n",
    "drop_50_loss = drop_50_dict['loss']\n",
    "drop_50_val_loss = drop_50_dict['val_loss']\n",
    "epochs = range(1, len(loss) + 1)\n",
    "\n",
    "fig = plt.figure(figsize=(12, 5))\n",
    "\n",
    "ax1 = fig.add_subplot(1, 2, 1)\n",
    "ax1.plot(epochs, loss, 'b-', label='train_loss')\n",
    "ax1.plot(epochs, val_loss, 'r-', label='val_loss')\n",
    "ax1.plot(epochs, drop_20_loss, 'b--', label='train_loss (dropout 20%)')\n",
    "ax1.plot(epochs, drop_20_val_loss, 'r--', label='val_loss (dropout 20%)')\n",
    "ax1.plot(epochs, drop_50_loss, 'b:', label='train_loss (dropout 50%)')\n",
    "ax1.plot(epochs, drop_50_val_loss, 'r:', label='val_loss (dropout 50%)')\n",
    "ax1.set_title('Train and Validation Loss')\n",
    "ax1.set_xlabel('Epochs')\n",
    "ax1.set_ylabel('Loss')\n",
    "ax1.grid()\n",
    "ax1.legend()\n",
    "\n",
    "drop_50_accuracy = drop_50_dict['accuracy']\n",
    "drop_50_val_accuracy = drop_50_dict['val_accuracy']\n",
    "\n",
    "ax2 = fig.add_subplot(1, 2, 2)\n",
    "ax2.plot(epochs, accuracy, 'b-', label='train_accuracy')\n",
    "ax2.plot(epochs, val_accuracy, 'r-', label='val_accuracy')\n",
    "ax2.plot(epochs, drop_20_accuracy, 'b--', label='train_accuracy (dropout 20%)')\n",
    "ax2.plot(epochs, drop_20_val_accuracy, 'r--', label='val_accuracy (dropout 20%)')\n",
    "ax2.plot(epochs, drop_50_accuracy, 'b:', label='train_accuracy (dropout 50%)')\n",
    "ax2.plot(epochs, drop_50_val_accuracy, 'r:', label='val_accuracy (dropout 50%)')\n",
    "ax2.set_title('Train and Validation Accuracy')\n",
    "ax2.set_xlabel('Epochs')\n",
    "ax2.set_ylabel('Accuracy')\n",
    "ax2.grid()\n",
    "ax2.legend()\n",
    "\n",
    "plt.show()"
   ]
  },
  {
   "cell_type": "markdown",
   "id": "11d6a9b9",
   "metadata": {},
   "source": [
    "드롭아웃을 50% 적용한 모델이 과대적합 정도가 가장 많이 감소  \n",
    "여전히 과대적합이 발생된 상태라서 다른 규제 방법도 같이 적용할 필요가 있음"
   ]
  },
  {
   "cell_type": "code",
   "execution_count": null,
   "id": "a354ab00",
   "metadata": {},
   "outputs": [],
   "source": []
  }
 ],
 "metadata": {
  "kernelspec": {
   "display_name": "Python 3 (ipykernel)",
   "language": "python",
   "name": "python3"
  },
  "language_info": {
   "codemirror_mode": {
    "name": "ipython",
    "version": 3
   },
   "file_extension": ".py",
   "mimetype": "text/x-python",
   "name": "python",
   "nbconvert_exporter": "python",
   "pygments_lexer": "ipython3",
   "version": "3.9.7"
  }
 },
 "nbformat": 4,
 "nbformat_minor": 5
}
