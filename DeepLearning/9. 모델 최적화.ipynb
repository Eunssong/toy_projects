{
 "cells": [
  {
   "cell_type": "markdown",
   "id": "d5ec33b1",
   "metadata": {},
   "source": [
    "# Fashion MNIST 모델"
   ]
  },
  {
   "cell_type": "markdown",
   "id": "57e51a0f",
   "metadata": {},
   "source": [
    "## 데이터 로드\n",
    "- Fashion MNIST 데이터셋은 케라스에 내장된 데이터셋\n",
    "- fashion_mnist를 임포트, load_data()를 호출하여 데이터셋을 로드"
   ]
  },
  {
   "cell_type": "code",
   "execution_count": 1,
   "id": "a73c121b",
   "metadata": {},
   "outputs": [
    {
     "name": "stdout",
     "output_type": "stream",
     "text": [
      "Downloading data from https://storage.googleapis.com/tensorflow/tf-keras-datasets/train-labels-idx1-ubyte.gz\n",
      "32768/29515 [=================================] - 0s 0us/step\n",
      "40960/29515 [=========================================] - 0s 0us/step\n",
      "Downloading data from https://storage.googleapis.com/tensorflow/tf-keras-datasets/train-images-idx3-ubyte.gz\n",
      "26427392/26421880 [==============================] - 0s 0us/step\n",
      "26435584/26421880 [==============================] - 0s 0us/step\n",
      "Downloading data from https://storage.googleapis.com/tensorflow/tf-keras-datasets/t10k-labels-idx1-ubyte.gz\n",
      "16384/5148 [===============================================================================================] - 0s 0us/step\n",
      "Downloading data from https://storage.googleapis.com/tensorflow/tf-keras-datasets/t10k-images-idx3-ubyte.gz\n",
      "4423680/4422102 [==============================] - 0s 0us/step\n",
      "4431872/4422102 [==============================] - 0s 0us/step\n",
      "전체 학습 데이터: (60000, 28, 28) 레이블: (60000,)\n",
      "학습 데이터: (42000, 28, 28) 레이블: (42000,)\n",
      "검증 데이터: (18000, 28, 28) 레이블: (18000,)\n",
      "테스트 데이터: (10000, 28, 28) 레이블: (10000,)\n"
     ]
    }
   ],
   "source": [
    "from tensorflow.keras.datasets import fashion_mnist\n",
    "from sklearn.model_selection import train_test_split\n",
    "\n",
    "(x_train_full, y_train_full), (x_test, y_test) = fashion_mnist.load_data()\n",
    "\n",
    "x_train, x_val, y_train, y_val = train_test_split(x_train_full, y_train_full,\n",
    "                                                  test_size=0.3,\n",
    "                                                  random_state=123)\n",
    "\n",
    "print(f\"전체 학습 데이터: {x_train_full.shape} 레이블: {y_train_full.shape}\")\n",
    "print(f\"학습 데이터: {x_train.shape} 레이블: {y_train.shape}\")\n",
    "print(f\"검증 데이터: {x_val.shape} 레이블: {y_val.shape}\")\n",
    "print(f\"테스트 데이터: {x_test.shape} 레이블: {y_test.shape}\")"
   ]
  },
  {
   "cell_type": "markdown",
   "id": "14dc5074",
   "metadata": {},
   "source": [
    "**클래스 이름을 변수로 지정**"
   ]
  },
  {
   "cell_type": "code",
   "execution_count": 2,
   "id": "2ebfc9d6",
   "metadata": {},
   "outputs": [
    {
     "data": {
      "text/plain": [
       "['T-shirt/top',\n",
       " 'Trouser',\n",
       " 'Pullover',\n",
       " 'Dress',\n",
       " 'Coat',\n",
       " 'Sandal',\n",
       " 'Shirt',\n",
       " 'Sneaker',\n",
       " 'Bag',\n",
       " 'Ankle boot']"
      ]
     },
     "execution_count": 2,
     "metadata": {},
     "output_type": "execute_result"
    }
   ],
   "source": [
    "class_names = ['T-shirt/top', 'Trouser', 'Pullover', 'Dress', 'Coat',\n",
    "               'Sandal', 'Shirt', 'Sneaker', 'Bag', 'Ankle boot']\n",
    "class_names"
   ]
  },
  {
   "cell_type": "code",
   "execution_count": 3,
   "id": "0ee5681f",
   "metadata": {},
   "outputs": [
    {
     "name": "stdout",
     "output_type": "stream",
     "text": [
      "6 Shirt\n"
     ]
    }
   ],
   "source": [
    "print(y_train[0], class_names[y_train[0]])"
   ]
  },
  {
   "cell_type": "code",
   "execution_count": 4,
   "id": "26b381de",
   "metadata": {},
   "outputs": [
    {
     "name": "stdout",
     "output_type": "stream",
     "text": [
      "[[  0   0   0   1   0   0   0   0  24  69 118 159  70   0   0   0   0  48\n",
      "  107  68   8   0   0   0   0   0   0   0]\n",
      " [  0   0   0   0   0   0   0 145 216 197 186 192 135 194 129 123 183 209\n",
      "  187 184 207 143   4   0   0   0   0   0]\n",
      " [  0   0   0   1   0   0 164 186 119 141 178 198 133 135 211 183 108 194\n",
      "  216 173 120 197 201   0   0   0   0   0]\n",
      " [  0   0   0   3   0  61 174 177   0  71 158 193 226 121 206 174 178 225\n",
      "  214 182  10 107 175 132   0   0   0   0]\n",
      " [  0   0   0   0   0 164 168 168  70 137  76 239 235 199 127 176 238 121\n",
      "  216 249 190 147 161 214  27   0   0   0]\n",
      " [  0   0   0   0 132 174 166 178  73 168  94 131 202 180 196 254  42   0\n",
      "  152 174 220 176 144 163 139   0   0   0]\n",
      " [  0   0   0   6 200 167 162 180  77 173 189 201 219 120 240 124   1 141\n",
      "  176 193 223 158 143 153 176  56   0   0]\n",
      " [  0   0   0   0  85 213 147 188 170 205 218 220 208 143 116  30 181 171\n",
      "  226 167 233 192 127 153 210 127   0   0]\n",
      " [  0   0   0   0   0 149 226 177 211 219 217 179 225 163  64   0 186 152\n",
      "  128 109 216 197 168 202 105   0   0   0]\n",
      " [  0   0   0   0   0   0 147 242 224 122 117 183 175 125 121 189 171  71\n",
      "  187 187 199 224 223  73   0   0   0   0]\n",
      " [  0   0   0   0   0   0   0  55 200 135  92  45 241 197 207 188 165 175\n",
      "   20 138 186 163  23   0   0   0   0   0]\n",
      " [  0   0   0   0   0   0   0   0 189  18 174  11 232 164 188 230  82  42\n",
      "    0  81 220  30   0   4   0   0   0   0]\n",
      " [  0   0   0   0   0   0   0   0 227  95  82 184 232 251 227 238 204  12\n",
      "   55 197 189  29   0   1   0   0   0   0]\n",
      " [  0   0   0   0   0   0   0   0 182 200 190 169 220 136 231 222 216 193\n",
      "  172  61 186  42   0   2   2   0   0   0]\n",
      " [  0   0   0   0   0   1   0   0 183  81  75 119 153  86 254 219 207  19\n",
      "   88 110 180 119   0   2   0   0   0   0]\n",
      " [  0   0   0   0   0   2   0   0 209 144  89 157 182 119 254 223 203  16\n",
      "    0  49 237 120   0   2   0   0   0   0]\n",
      " [  0   0   0   0   0   2   0  24 196 129 209 116 160 156 250 193 230 138\n",
      "  110 139 228 139   0   0   0   0   0   0]\n",
      " [  0   0   0   0   0   3   0  58 169 106 221  98  61 145 255 220 254 218\n",
      "  173 184 233 155   0   0   0   0   0   0]\n",
      " [  0   0   0   0   0   2   0  23 223 177  25 156 161  74 238 213 237 210\n",
      "  192 193 199 175   0   0   0   0   0   0]\n",
      " [  0   0   0   0   0   1   0  11 172 227   0 108 219 128 252 241 227 172\n",
      "  223 171 151 191   0   0   0   0   0   0]\n",
      " [  0   0   0   0   0   1   0  76 179 205  52 149 201 206 255 226 247 224\n",
      "  144   0 104 114   0   0   1   0   0   0]\n",
      " [  0   0   0   0   0   0   0  76 147 207 187 226 244 171 223 245 245 222\n",
      "  128   0 162 178  15   0   4   0   0   0]\n",
      " [  0   0   0   0   0   0   0 101 136 195 221 219 254 176 244 204 209 189\n",
      "  236  95 175 164  33   0   7   0   0   0]\n",
      " [  0   0   0   0   0   0   0  51  98 206 212 195 245 168 236 177 157 180\n",
      "  190 167  37 143  35   0   3   0   0   0]\n",
      " [  0   0   0   0   0   0   0 107 183 200 217  94 255 219 214 112 113 191\n",
      "  192  72   0 133  24   0   3   0   0   0]\n",
      " [  0   0   0   0   1   0   0 153 121 190 213 177 118 229 231 130 177 217\n",
      "  254  83 100 210  13   0   3   0   0   0]\n",
      " [  0   0   0   0   1   0   0 189 156 132  17 106 164 193 196 250 152 118\n",
      "  228 189 129 116   0   0   2   0   0   0]\n",
      " [  0   0   0   0   0   0   0 111 150 167 169 121  65 160 207 250 108 144\n",
      "  250 181 153 137   0   0   0   0   0   0]]\n"
     ]
    }
   ],
   "source": [
    "print(x_train[0])"
   ]
  },
  {
   "cell_type": "markdown",
   "id": "69857b4c",
   "metadata": {},
   "source": [
    "- 학습 데이터는 이미지라서 0~255의 값을 가지고 있고, 이를 이미지로 imshow()를 이용해 출력합니다.   \n",
    "- 값의 범위를 보기 위해 colorbar()를 이용해 출력합니다."
   ]
  },
  {
   "cell_type": "code",
   "execution_count": 5,
   "id": "3fbe61fe",
   "metadata": {},
   "outputs": [
    {
     "data": {
      "image/png": "[encoded data removed]",
      "text/plain": [
       "<Figure size 432x288 with 2 Axes>"
      ]
     },
     "metadata": {},
     "output_type": "display_data"
    }
   ],
   "source": [
    "import matplotlib.pyplot as plt\n",
    "plt.style.use('seaborn-white')\n",
    "\n",
    "plt.figure()\n",
    "plt.imshow(x_train[0])\n",
    "plt.colorbar()\n",
    "plt.show()"
   ]
  },
  {
   "cell_type": "code",
   "execution_count": 6,
   "id": "989c16a3",
   "metadata": {
    "scrolled": true
   },
   "outputs": [
    {
     "data": {
      "image/png": "[encoded data removed]",
      "text/plain": [
       "<Figure size 1080x720 with 4 Axes>"
      ]
     },
     "metadata": {},
     "output_type": "display_data"
    }
   ],
   "source": [
    "# 랜덤으로 4개를 선택하여 인덱스와 레이블, 그리고 해당 패션 이미지를 출력\n",
    "import numpy as np\n",
    "\n",
    "num_sample = 4\n",
    "random_idxs = np.random.randint(60000, size=num_sample)\n",
    "\n",
    "plt.figure(figsize=(15, 10))\n",
    "for i, idx in enumerate(random_idxs):\n",
    "    image = x_train_full[idx, :]\n",
    "    label = y_train_full[idx]\n",
    "    plt.subplot(1, len(random_idxs), i+1)\n",
    "    plt.imshow(image)\n",
    "    plt.title(f'Index: {idx}, Label: {class_names[label]}')"
   ]
  },
  {
   "cell_type": "markdown",
   "id": "ee8c7efb",
   "metadata": {},
   "source": [
    "## 데이터 전처리"
   ]
  },
  {
   "cell_type": "code",
   "execution_count": 7,
   "id": "c5b3a0bb",
   "metadata": {},
   "outputs": [
    {
     "name": "stdout",
     "output_type": "stream",
     "text": [
      "(42000, 28, 28)\n",
      "(18000, 28, 28)\n",
      "(10000, 28, 28)\n"
     ]
    }
   ],
   "source": [
    "print(x_train.shape)\n",
    "print(x_val.shape)\n",
    "print(x_test.shape)"
   ]
  },
  {
   "cell_type": "markdown",
   "id": "1a17903d",
   "metadata": {},
   "source": [
    "- 딥러닝 모델에서 Flatten 레이어를 거쳐도 가능하지만, 미리 데이터셋을 reshape()를 통해 28 * 28 크기인 784로 모양을 바꾸어줌\n",
    "- 28 * 28로만 지정하고 나머지는 -1로 지정하여 자동으로 모양을 맞추도록 함"
   ]
  },
  {
   "cell_type": "code",
   "execution_count": 8,
   "id": "29e5527c",
   "metadata": {},
   "outputs": [
    {
     "name": "stdout",
     "output_type": "stream",
     "text": [
      "(42000, 784)\n",
      "(18000, 784)\n",
      "(10000, 784)\n"
     ]
    }
   ],
   "source": [
    "x_train = x_train.reshape(-1, 28 * 28)\n",
    "x_val = x_val.reshape(-1, 28 * 28)\n",
    "x_test = x_test.reshape(-1, 28 * 28)\n",
    "\n",
    "print(x_train.shape)\n",
    "print(x_val.shape)\n",
    "print(x_test.shape)"
   ]
  },
  {
   "cell_type": "code",
   "execution_count": 9,
   "id": "9b8887dd",
   "metadata": {},
   "outputs": [
    {
     "name": "stdout",
     "output_type": "stream",
     "text": [
      "[  0   0   0   1   0   0   0   0  24  69 118 159  70   0   0   0   0  48\n",
      " 107  68   8   0   0   0   0   0   0   0   0   0   0   0   0   0   0 145\n",
      " 216 197 186 192 135 194 129 123 183 209 187 184 207 143   4   0   0   0\n",
      "   0   0   0   0   0   1   0   0 164 186 119 141 178 198 133 135 211 183\n",
      " 108 194 216 173 120 197 201   0   0   0   0   0   0   0   0   3   0  61\n",
      " 174 177   0  71 158 193 226 121 206 174 178 225 214 182  10 107 175 132\n",
      "   0   0   0   0   0   0   0   0   0 164 168 168  70 137  76 239 235 199\n",
      " 127 176 238 121 216 249 190 147 161 214  27   0   0   0   0   0   0   0\n",
      " 132 174 166 178  73 168  94 131 202 180 196 254  42   0 152 174 220 176\n",
      " 144 163 139   0   0   0   0   0   0   6 200 167 162 180  77 173 189 201\n",
      " 219 120 240 124   1 141 176 193 223 158 143 153 176  56   0   0   0   0\n",
      "   0   0  85 213 147 188 170 205 218 220 208 143 116  30 181 171 226 167\n",
      " 233 192 127 153 210 127   0   0   0   0   0   0   0 149 226 177 211 219\n",
      " 217 179 225 163  64   0 186 152 128 109 216 197 168 202 105   0   0   0\n",
      "   0   0   0   0   0   0 147 242 224 122 117 183 175 125 121 189 171  71\n",
      " 187 187 199 224 223  73   0   0   0   0   0   0   0   0   0   0   0  55\n",
      " 200 135  92  45 241 197 207 188 165 175  20 138 186 163  23   0   0   0\n",
      "   0   0   0   0   0   0   0   0   0   0 189  18 174  11 232 164 188 230\n",
      "  82  42   0  81 220  30   0   4   0   0   0   0   0   0   0   0   0   0\n",
      "   0   0 227  95  82 184 232 251 227 238 204  12  55 197 189  29   0   1\n",
      "   0   0   0   0   0   0   0   0   0   0   0   0 182 200 190 169 220 136\n",
      " 231 222 216 193 172  61 186  42   0   2   2   0   0   0   0   0   0   0\n",
      "   0   1   0   0 183  81  75 119 153  86 254 219 207  19  88 110 180 119\n",
      "   0   2   0   0   0   0   0   0   0   0   0   2   0   0 209 144  89 157\n",
      " 182 119 254 223 203  16   0  49 237 120   0   2   0   0   0   0   0   0\n",
      "   0   0   0   2   0  24 196 129 209 116 160 156 250 193 230 138 110 139\n",
      " 228 139   0   0   0   0   0   0   0   0   0   0   0   3   0  58 169 106\n",
      " 221  98  61 145 255 220 254 218 173 184 233 155   0   0   0   0   0   0\n",
      "   0   0   0   0   0   2   0  23 223 177  25 156 161  74 238 213 237 210\n",
      " 192 193 199 175   0   0   0   0   0   0   0   0   0   0   0   1   0  11\n",
      " 172 227   0 108 219 128 252 241 227 172 223 171 151 191   0   0   0   0\n",
      "   0   0   0   0   0   0   0   1   0  76 179 205  52 149 201 206 255 226\n",
      " 247 224 144   0 104 114   0   0   1   0   0   0   0   0   0   0   0   0\n",
      "   0  76 147 207 187 226 244 171 223 245 245 222 128   0 162 178  15   0\n",
      "   4   0   0   0   0   0   0   0   0   0   0 101 136 195 221 219 254 176\n",
      " 244 204 209 189 236  95 175 164  33   0   7   0   0   0   0   0   0   0\n",
      "   0   0   0  51  98 206 212 195 245 168 236 177 157 180 190 167  37 143\n",
      "  35   0   3   0   0   0   0   0   0   0   0   0   0 107 183 200 217  94\n",
      " 255 219 214 112 113 191 192  72   0 133  24   0   3   0   0   0   0   0\n",
      "   0   0   1   0   0 153 121 190 213 177 118 229 231 130 177 217 254  83\n",
      " 100 210  13   0   3   0   0   0   0   0   0   0   1   0   0 189 156 132\n",
      "  17 106 164 193 196 250 152 118 228 189 129 116   0   0   2   0   0   0\n",
      "   0   0   0   0   0   0   0 111 150 167 169 121  65 160 207 250 108 144\n",
      " 250 181 153 137   0   0   0   0   0   0]\n"
     ]
    }
   ],
   "source": [
    "print(x_train[0])"
   ]
  },
  {
   "cell_type": "code",
   "execution_count": 10,
   "id": "75848369",
   "metadata": {},
   "outputs": [],
   "source": [
    "# 범위를 0~1사이로 변환\n",
    "x_train = x_train / 255.\n",
    "x_val = x_val / 255.\n",
    "x_test = x_test / 255."
   ]
  },
  {
   "cell_type": "code",
   "execution_count": 11,
   "id": "2454ec97",
   "metadata": {},
   "outputs": [
    {
     "name": "stdout",
     "output_type": "stream",
     "text": [
      "[0.         0.         0.         0.00392157 0.         0.\n",
      " 0.         0.         0.09411765 0.27058824 0.4627451  0.62352941\n",
      " 0.2745098  0.         0.         0.         0.         0.18823529\n",
      " 0.41960784 0.26666667 0.03137255 0.         0.         0.\n",
      " 0.         0.         0.         0.         0.         0.\n",
      " 0.         0.         0.         0.         0.         0.56862745\n",
      " 0.84705882 0.77254902 0.72941176 0.75294118 0.52941176 0.76078431\n",
      " 0.50588235 0.48235294 0.71764706 0.81960784 0.73333333 0.72156863\n",
      " 0.81176471 0.56078431 0.01568627 0.         0.         0.\n",
      " 0.         0.         0.         0.         0.         0.00392157\n",
      " 0.         0.         0.64313725 0.72941176 0.46666667 0.55294118\n",
      " 0.69803922 0.77647059 0.52156863 0.52941176 0.82745098 0.71764706\n",
      " 0.42352941 0.76078431 0.84705882 0.67843137 0.47058824 0.77254902\n",
      " 0.78823529 0.         0.         0.         0.         0.\n",
      " 0.         0.         0.         0.01176471 0.         0.23921569\n",
      " 0.68235294 0.69411765 0.         0.27843137 0.61960784 0.75686275\n",
      " 0.88627451 0.4745098  0.80784314 0.68235294 0.69803922 0.88235294\n",
      " 0.83921569 0.71372549 0.03921569 0.41960784 0.68627451 0.51764706\n",
      " 0.         0.         0.         0.         0.         0.\n",
      " 0.         0.         0.         0.64313725 0.65882353 0.65882353\n",
      " 0.2745098  0.5372549  0.29803922 0.9372549  0.92156863 0.78039216\n",
      " 0.49803922 0.69019608 0.93333333 0.4745098  0.84705882 0.97647059\n",
      " 0.74509804 0.57647059 0.63137255 0.83921569 0.10588235 0.\n",
      " 0.         0.         0.         0.         0.         0.\n",
      " 0.51764706 0.68235294 0.65098039 0.69803922 0.28627451 0.65882353\n",
      " 0.36862745 0.51372549 0.79215686 0.70588235 0.76862745 0.99607843\n",
      " 0.16470588 0.         0.59607843 0.68235294 0.8627451  0.69019608\n",
      " 0.56470588 0.63921569 0.54509804 0.         0.         0.\n",
      " 0.         0.         0.         0.02352941 0.78431373 0.65490196\n",
      " 0.63529412 0.70588235 0.30196078 0.67843137 0.74117647 0.78823529\n",
      " 0.85882353 0.47058824 0.94117647 0.48627451 0.00392157 0.55294118\n",
      " 0.69019608 0.75686275 0.8745098  0.61960784 0.56078431 0.6\n",
      " 0.69019608 0.21960784 0.         0.         0.         0.\n",
      " 0.         0.         0.33333333 0.83529412 0.57647059 0.7372549\n",
      " 0.66666667 0.80392157 0.85490196 0.8627451  0.81568627 0.56078431\n",
      " 0.45490196 0.11764706 0.70980392 0.67058824 0.88627451 0.65490196\n",
      " 0.91372549 0.75294118 0.49803922 0.6        0.82352941 0.49803922\n",
      " 0.         0.         0.         0.         0.         0.\n",
      " 0.         0.58431373 0.88627451 0.69411765 0.82745098 0.85882353\n",
      " 0.85098039 0.70196078 0.88235294 0.63921569 0.25098039 0.\n",
      " 0.72941176 0.59607843 0.50196078 0.42745098 0.84705882 0.77254902\n",
      " 0.65882353 0.79215686 0.41176471 0.         0.         0.\n",
      " 0.         0.         0.         0.         0.         0.\n",
      " 0.57647059 0.94901961 0.87843137 0.47843137 0.45882353 0.71764706\n",
      " 0.68627451 0.49019608 0.4745098  0.74117647 0.67058824 0.27843137\n",
      " 0.73333333 0.73333333 0.78039216 0.87843137 0.8745098  0.28627451\n",
      " 0.         0.         0.         0.         0.         0.\n",
      " 0.         0.         0.         0.         0.         0.21568627\n",
      " 0.78431373 0.52941176 0.36078431 0.17647059 0.94509804 0.77254902\n",
      " 0.81176471 0.7372549  0.64705882 0.68627451 0.07843137 0.54117647\n",
      " 0.72941176 0.63921569 0.09019608 0.         0.         0.\n",
      " 0.         0.         0.         0.         0.         0.\n",
      " 0.         0.         0.         0.         0.74117647 0.07058824\n",
      " 0.68235294 0.04313725 0.90980392 0.64313725 0.7372549  0.90196078\n",
      " 0.32156863 0.16470588 0.         0.31764706 0.8627451  0.11764706\n",
      " 0.         0.01568627 0.         0.         0.         0.\n",
      " 0.         0.         0.         0.         0.         0.\n",
      " 0.         0.         0.89019608 0.37254902 0.32156863 0.72156863\n",
      " 0.90980392 0.98431373 0.89019608 0.93333333 0.8        0.04705882\n",
      " 0.21568627 0.77254902 0.74117647 0.11372549 0.         0.00392157\n",
      " 0.         0.         0.         0.         0.         0.\n",
      " 0.         0.         0.         0.         0.         0.\n",
      " 0.71372549 0.78431373 0.74509804 0.6627451  0.8627451  0.53333333\n",
      " 0.90588235 0.87058824 0.84705882 0.75686275 0.6745098  0.23921569\n",
      " 0.72941176 0.16470588 0.         0.00784314 0.00784314 0.\n",
      " 0.         0.         0.         0.         0.         0.\n",
      " 0.         0.00392157 0.         0.         0.71764706 0.31764706\n",
      " 0.29411765 0.46666667 0.6        0.3372549  0.99607843 0.85882353\n",
      " 0.81176471 0.0745098  0.34509804 0.43137255 0.70588235 0.46666667\n",
      " 0.         0.00784314 0.         0.         0.         0.\n",
      " 0.         0.         0.         0.         0.         0.00784314\n",
      " 0.         0.         0.81960784 0.56470588 0.34901961 0.61568627\n",
      " 0.71372549 0.46666667 0.99607843 0.8745098  0.79607843 0.0627451\n",
      " 0.         0.19215686 0.92941176 0.47058824 0.         0.00784314\n",
      " 0.         0.         0.         0.         0.         0.\n",
      " 0.         0.         0.         0.00784314 0.         0.09411765\n",
      " 0.76862745 0.50588235 0.81960784 0.45490196 0.62745098 0.61176471\n",
      " 0.98039216 0.75686275 0.90196078 0.54117647 0.43137255 0.54509804\n",
      " 0.89411765 0.54509804 0.         0.         0.         0.\n",
      " 0.         0.         0.         0.         0.         0.\n",
      " 0.         0.01176471 0.         0.22745098 0.6627451  0.41568627\n",
      " 0.86666667 0.38431373 0.23921569 0.56862745 1.         0.8627451\n",
      " 0.99607843 0.85490196 0.67843137 0.72156863 0.91372549 0.60784314\n",
      " 0.         0.         0.         0.         0.         0.\n",
      " 0.         0.         0.         0.         0.         0.00784314\n",
      " 0.         0.09019608 0.8745098  0.69411765 0.09803922 0.61176471\n",
      " 0.63137255 0.29019608 0.93333333 0.83529412 0.92941176 0.82352941\n",
      " 0.75294118 0.75686275 0.78039216 0.68627451 0.         0.\n",
      " 0.         0.         0.         0.         0.         0.\n",
      " 0.         0.         0.         0.00392157 0.         0.04313725\n",
      " 0.6745098  0.89019608 0.         0.42352941 0.85882353 0.50196078\n",
      " 0.98823529 0.94509804 0.89019608 0.6745098  0.8745098  0.67058824\n",
      " 0.59215686 0.74901961 0.         0.         0.         0.\n",
      " 0.         0.         0.         0.         0.         0.\n",
      " 0.         0.00392157 0.         0.29803922 0.70196078 0.80392157\n",
      " 0.20392157 0.58431373 0.78823529 0.80784314 1.         0.88627451\n",
      " 0.96862745 0.87843137 0.56470588 0.         0.40784314 0.44705882\n",
      " 0.         0.         0.00392157 0.         0.         0.\n",
      " 0.         0.         0.         0.         0.         0.\n",
      " 0.         0.29803922 0.57647059 0.81176471 0.73333333 0.88627451\n",
      " 0.95686275 0.67058824 0.8745098  0.96078431 0.96078431 0.87058824\n",
      " 0.50196078 0.         0.63529412 0.69803922 0.05882353 0.\n",
      " 0.01568627 0.         0.         0.         0.         0.\n",
      " 0.         0.         0.         0.         0.         0.39607843\n",
      " 0.53333333 0.76470588 0.86666667 0.85882353 0.99607843 0.69019608\n",
      " 0.95686275 0.8        0.81960784 0.74117647 0.9254902  0.37254902\n",
      " 0.68627451 0.64313725 0.12941176 0.         0.02745098 0.\n",
      " 0.         0.         0.         0.         0.         0.\n",
      " 0.         0.         0.         0.2        0.38431373 0.80784314\n",
      " 0.83137255 0.76470588 0.96078431 0.65882353 0.9254902  0.69411765\n",
      " 0.61568627 0.70588235 0.74509804 0.65490196 0.14509804 0.56078431\n",
      " 0.1372549  0.         0.01176471 0.         0.         0.\n",
      " 0.         0.         0.         0.         0.         0.\n",
      " 0.         0.41960784 0.71764706 0.78431373 0.85098039 0.36862745\n",
      " 1.         0.85882353 0.83921569 0.43921569 0.44313725 0.74901961\n",
      " 0.75294118 0.28235294 0.         0.52156863 0.09411765 0.\n",
      " 0.01176471 0.         0.         0.         0.         0.\n",
      " 0.         0.         0.00392157 0.         0.         0.6\n",
      " 0.4745098  0.74509804 0.83529412 0.69411765 0.4627451  0.89803922\n",
      " 0.90588235 0.50980392 0.69411765 0.85098039 0.99607843 0.3254902\n",
      " 0.39215686 0.82352941 0.05098039 0.         0.01176471 0.\n",
      " 0.         0.         0.         0.         0.         0.\n",
      " 0.00392157 0.         0.         0.74117647 0.61176471 0.51764706\n",
      " 0.06666667 0.41568627 0.64313725 0.75686275 0.76862745 0.98039216\n",
      " 0.59607843 0.4627451  0.89411765 0.74117647 0.50588235 0.45490196\n",
      " 0.         0.         0.00784314 0.         0.         0.\n",
      " 0.         0.         0.         0.         0.         0.\n",
      " 0.         0.43529412 0.58823529 0.65490196 0.6627451  0.4745098\n",
      " 0.25490196 0.62745098 0.81176471 0.98039216 0.42352941 0.56470588\n",
      " 0.98039216 0.70980392 0.6        0.5372549  0.         0.\n",
      " 0.         0.         0.         0.        ]\n"
     ]
    }
   ],
   "source": [
    "print(x_train[0])"
   ]
  },
  {
   "cell_type": "markdown",
   "id": "857ad851",
   "metadata": {},
   "source": [
    "## 모델 구성"
   ]
  },
  {
   "cell_type": "code",
   "execution_count": 12,
   "id": "a5d035b3",
   "metadata": {
    "scrolled": true
   },
   "outputs": [
    {
     "name": "stdout",
     "output_type": "stream",
     "text": [
      "Model: \"sequential\"\n",
      "_________________________________________________________________\n",
      "Layer (type)                 Output Shape              Param #   \n",
      "=================================================================\n",
      "dense (Dense)                (None, 512)               401920    \n",
      "_________________________________________________________________\n",
      "dense_1 (Dense)              (None, 10)                5130      \n",
      "=================================================================\n",
      "Total params: 407,050\n",
      "Trainable params: 407,050\n",
      "Non-trainable params: 0\n",
      "_________________________________________________________________\n"
     ]
    }
   ],
   "source": [
    "from tensorflow.keras import models, layers\n",
    "\n",
    "model = models.Sequential()\n",
    "model.add(layers.Input(shape=(784, )))\n",
    "model.add(layers.Dense(512, activation='sigmoid'))\n",
    "model.add(layers.Dense(10, activation='softmax'))\n",
    "model.summary()"
   ]
  },
  {
   "cell_type": "markdown",
   "id": "c6b2cc74",
   "metadata": {},
   "source": [
    "## 모델 컴파일 및 학습"
   ]
  },
  {
   "cell_type": "code",
   "execution_count": 13,
   "id": "3e5a7d2e",
   "metadata": {},
   "outputs": [],
   "source": [
    "model.compile(loss='sparse_categorical_crossentropy',\n",
    "              optimizer='SGD',\n",
    "              metrics=['accuracy'])"
   ]
  },
  {
   "cell_type": "code",
   "execution_count": 14,
   "id": "eba066d6",
   "metadata": {},
   "outputs": [
    {
     "name": "stdout",
     "output_type": "stream",
     "text": [
      "Epoch 1/60\n",
      "83/83 [==============================] - 2s 7ms/step - loss: 2.1586 - accuracy: 0.3757 - val_loss: 2.0175 - val_accuracy: 0.4486\n",
      "Epoch 2/60\n",
      "83/83 [==============================] - 0s 4ms/step - loss: 1.9018 - accuracy: 0.5766 - val_loss: 1.7936 - val_accuracy: 0.5730\n",
      "Epoch 3/60\n",
      "83/83 [==============================] - 0s 4ms/step - loss: 1.7049 - accuracy: 0.6270 - val_loss: 1.6212 - val_accuracy: 0.6480\n",
      "Epoch 4/60\n",
      "83/83 [==============================] - 0s 4ms/step - loss: 1.5480 - accuracy: 0.6620 - val_loss: 1.4836 - val_accuracy: 0.6333\n",
      "Epoch 5/60\n",
      "83/83 [==============================] - 0s 3ms/step - loss: 1.4228 - accuracy: 0.6823 - val_loss: 1.3680 - val_accuracy: 0.6713\n",
      "Epoch 6/60\n",
      "83/83 [==============================] - 0s 3ms/step - loss: 1.3215 - accuracy: 0.6968 - val_loss: 1.2809 - val_accuracy: 0.6856\n",
      "Epoch 7/60\n",
      "83/83 [==============================] - 0s 4ms/step - loss: 1.2399 - accuracy: 0.7039 - val_loss: 1.2072 - val_accuracy: 0.6908\n",
      "Epoch 8/60\n",
      "83/83 [==============================] - 0s 4ms/step - loss: 1.1724 - accuracy: 0.7103 - val_loss: 1.1441 - val_accuracy: 0.7158\n",
      "Epoch 9/60\n",
      "83/83 [==============================] - 0s 4ms/step - loss: 1.1158 - accuracy: 0.7174 - val_loss: 1.0943 - val_accuracy: 0.7152\n",
      "Epoch 10/60\n",
      "83/83 [==============================] - 0s 4ms/step - loss: 1.0681 - accuracy: 0.7210 - val_loss: 1.0476 - val_accuracy: 0.7205\n",
      "Epoch 11/60\n",
      "83/83 [==============================] - 0s 4ms/step - loss: 1.0272 - accuracy: 0.7245 - val_loss: 1.0152 - val_accuracy: 0.7251\n",
      "Epoch 12/60\n",
      "83/83 [==============================] - 0s 3ms/step - loss: 0.9923 - accuracy: 0.7291 - val_loss: 0.9758 - val_accuracy: 0.7230\n",
      "Epoch 13/60\n",
      "83/83 [==============================] - 0s 3ms/step - loss: 0.9614 - accuracy: 0.7302 - val_loss: 0.9490 - val_accuracy: 0.7239\n",
      "Epoch 14/60\n",
      "83/83 [==============================] - 0s 3ms/step - loss: 0.9342 - accuracy: 0.7317 - val_loss: 0.9217 - val_accuracy: 0.7327\n",
      "Epoch 15/60\n",
      "83/83 [==============================] - 0s 3ms/step - loss: 0.9101 - accuracy: 0.7357 - val_loss: 0.8998 - val_accuracy: 0.7345\n",
      "Epoch 16/60\n",
      "83/83 [==============================] - 0s 4ms/step - loss: 0.8888 - accuracy: 0.7372 - val_loss: 0.8812 - val_accuracy: 0.7370\n",
      "Epoch 17/60\n",
      "83/83 [==============================] - 0s 4ms/step - loss: 0.8696 - accuracy: 0.7397 - val_loss: 0.8632 - val_accuracy: 0.7385\n",
      "Epoch 18/60\n",
      "83/83 [==============================] - 0s 4ms/step - loss: 0.8521 - accuracy: 0.7421 - val_loss: 0.8471 - val_accuracy: 0.7387\n",
      "Epoch 19/60\n",
      "83/83 [==============================] - 0s 3ms/step - loss: 0.8363 - accuracy: 0.7432 - val_loss: 0.8297 - val_accuracy: 0.7408\n",
      "Epoch 20/60\n",
      "83/83 [==============================] - 0s 4ms/step - loss: 0.8216 - accuracy: 0.7456 - val_loss: 0.8182 - val_accuracy: 0.7459\n",
      "Epoch 21/60\n",
      "83/83 [==============================] - 0s 4ms/step - loss: 0.8086 - accuracy: 0.7476 - val_loss: 0.8061 - val_accuracy: 0.7502\n",
      "Epoch 22/60\n",
      "83/83 [==============================] - 0s 4ms/step - loss: 0.7967 - accuracy: 0.7495 - val_loss: 0.7926 - val_accuracy: 0.7503\n",
      "Epoch 23/60\n",
      "83/83 [==============================] - 0s 4ms/step - loss: 0.7851 - accuracy: 0.7507 - val_loss: 0.7835 - val_accuracy: 0.7442\n",
      "Epoch 24/60\n",
      "83/83 [==============================] - 0s 4ms/step - loss: 0.7747 - accuracy: 0.7523 - val_loss: 0.7728 - val_accuracy: 0.7517\n",
      "Epoch 25/60\n",
      "83/83 [==============================] - 0s 4ms/step - loss: 0.7649 - accuracy: 0.7539 - val_loss: 0.7629 - val_accuracy: 0.7524\n",
      "Epoch 26/60\n",
      "83/83 [==============================] - 0s 4ms/step - loss: 0.7559 - accuracy: 0.7559 - val_loss: 0.7548 - val_accuracy: 0.7512\n",
      "Epoch 27/60\n",
      "83/83 [==============================] - 0s 4ms/step - loss: 0.7475 - accuracy: 0.7576 - val_loss: 0.7477 - val_accuracy: 0.7516\n",
      "Epoch 28/60\n",
      "83/83 [==============================] - 0s 3ms/step - loss: 0.7396 - accuracy: 0.7586 - val_loss: 0.7389 - val_accuracy: 0.7556\n",
      "Epoch 29/60\n",
      "83/83 [==============================] - 0s 5ms/step - loss: 0.7321 - accuracy: 0.7601 - val_loss: 0.7372 - val_accuracy: 0.7484\n",
      "Epoch 30/60\n",
      "83/83 [==============================] - 0s 4ms/step - loss: 0.7251 - accuracy: 0.7609 - val_loss: 0.7270 - val_accuracy: 0.7592\n",
      "Epoch 31/60\n",
      "83/83 [==============================] - 0s 4ms/step - loss: 0.7182 - accuracy: 0.7634 - val_loss: 0.7177 - val_accuracy: 0.7622\n",
      "Epoch 32/60\n",
      "83/83 [==============================] - 0s 3ms/step - loss: 0.7117 - accuracy: 0.7638 - val_loss: 0.7123 - val_accuracy: 0.7631\n",
      "Epoch 33/60\n",
      "83/83 [==============================] - 0s 4ms/step - loss: 0.7058 - accuracy: 0.7651 - val_loss: 0.7056 - val_accuracy: 0.7644\n",
      "Epoch 34/60\n",
      "83/83 [==============================] - 0s 4ms/step - loss: 0.7000 - accuracy: 0.7663 - val_loss: 0.7004 - val_accuracy: 0.7645\n",
      "Epoch 35/60\n",
      "83/83 [==============================] - 0s 3ms/step - loss: 0.6945 - accuracy: 0.7669 - val_loss: 0.6958 - val_accuracy: 0.7652\n",
      "Epoch 36/60\n",
      "83/83 [==============================] - 0s 4ms/step - loss: 0.6894 - accuracy: 0.7689 - val_loss: 0.6914 - val_accuracy: 0.7673\n",
      "Epoch 37/60\n",
      "83/83 [==============================] - 0s 4ms/step - loss: 0.6844 - accuracy: 0.7696 - val_loss: 0.6862 - val_accuracy: 0.7672\n",
      "Epoch 38/60\n",
      "83/83 [==============================] - 0s 4ms/step - loss: 0.6797 - accuracy: 0.7706 - val_loss: 0.6810 - val_accuracy: 0.7704\n",
      "Epoch 39/60\n",
      "83/83 [==============================] - 0s 4ms/step - loss: 0.6751 - accuracy: 0.7723 - val_loss: 0.6776 - val_accuracy: 0.7708\n",
      "Epoch 40/60\n",
      "83/83 [==============================] - 0s 4ms/step - loss: 0.6706 - accuracy: 0.7732 - val_loss: 0.6748 - val_accuracy: 0.7718\n",
      "Epoch 41/60\n",
      "83/83 [==============================] - 0s 3ms/step - loss: 0.6665 - accuracy: 0.7744 - val_loss: 0.6706 - val_accuracy: 0.7676\n",
      "Epoch 42/60\n",
      "83/83 [==============================] - 0s 3ms/step - loss: 0.6625 - accuracy: 0.7755 - val_loss: 0.6647 - val_accuracy: 0.7737\n",
      "Epoch 43/60\n",
      "83/83 [==============================] - 0s 4ms/step - loss: 0.6583 - accuracy: 0.7770 - val_loss: 0.6632 - val_accuracy: 0.7737\n",
      "Epoch 44/60\n",
      "83/83 [==============================] - 0s 4ms/step - loss: 0.6547 - accuracy: 0.7782 - val_loss: 0.6584 - val_accuracy: 0.7743\n",
      "Epoch 45/60\n",
      "83/83 [==============================] - 0s 3ms/step - loss: 0.6510 - accuracy: 0.7788 - val_loss: 0.6558 - val_accuracy: 0.7757\n",
      "Epoch 46/60\n",
      "83/83 [==============================] - 0s 3ms/step - loss: 0.6474 - accuracy: 0.7800 - val_loss: 0.6514 - val_accuracy: 0.7759\n",
      "Epoch 47/60\n",
      "83/83 [==============================] - 0s 4ms/step - loss: 0.6441 - accuracy: 0.7807 - val_loss: 0.6497 - val_accuracy: 0.7768\n",
      "Epoch 48/60\n",
      "83/83 [==============================] - 0s 4ms/step - loss: 0.6407 - accuracy: 0.7820 - val_loss: 0.6444 - val_accuracy: 0.7786\n",
      "Epoch 49/60\n",
      "83/83 [==============================] - 0s 4ms/step - loss: 0.6374 - accuracy: 0.7832 - val_loss: 0.6409 - val_accuracy: 0.7799\n",
      "Epoch 50/60\n",
      "83/83 [==============================] - 0s 4ms/step - loss: 0.6343 - accuracy: 0.7837 - val_loss: 0.6395 - val_accuracy: 0.7784\n",
      "Epoch 51/60\n",
      "83/83 [==============================] - 0s 4ms/step - loss: 0.6313 - accuracy: 0.7842 - val_loss: 0.6369 - val_accuracy: 0.7805\n",
      "Epoch 52/60\n",
      "83/83 [==============================] - 0s 3ms/step - loss: 0.6285 - accuracy: 0.7852 - val_loss: 0.6335 - val_accuracy: 0.7825\n",
      "Epoch 53/60\n",
      "83/83 [==============================] - 0s 4ms/step - loss: 0.6255 - accuracy: 0.7866 - val_loss: 0.6343 - val_accuracy: 0.7810\n",
      "Epoch 54/60\n",
      "83/83 [==============================] - 0s 4ms/step - loss: 0.6228 - accuracy: 0.7869 - val_loss: 0.6270 - val_accuracy: 0.7839\n",
      "Epoch 55/60\n",
      "83/83 [==============================] - 0s 4ms/step - loss: 0.6199 - accuracy: 0.7882 - val_loss: 0.6245 - val_accuracy: 0.7847\n",
      "Epoch 56/60\n",
      "83/83 [==============================] - 0s 3ms/step - loss: 0.6172 - accuracy: 0.7886 - val_loss: 0.6225 - val_accuracy: 0.7850\n",
      "Epoch 57/60\n",
      "83/83 [==============================] - 0s 4ms/step - loss: 0.6147 - accuracy: 0.7895 - val_loss: 0.6217 - val_accuracy: 0.7848\n",
      "Epoch 58/60\n",
      "83/83 [==============================] - 0s 4ms/step - loss: 0.6123 - accuracy: 0.7905 - val_loss: 0.6176 - val_accuracy: 0.7868\n",
      "Epoch 59/60\n",
      "83/83 [==============================] - 0s 3ms/step - loss: 0.6096 - accuracy: 0.7908 - val_loss: 0.6161 - val_accuracy: 0.7875\n",
      "Epoch 60/60\n",
      "83/83 [==============================] - 0s 4ms/step - loss: 0.6072 - accuracy: 0.7924 - val_loss: 0.6132 - val_accuracy: 0.7887\n"
     ]
    }
   ],
   "source": [
    "history = model.fit(x_train, y_train,\n",
    "                    epochs=60,\n",
    "                    batch_size=512,\n",
    "                    validation_data=(x_val, y_val))"
   ]
  },
  {
   "cell_type": "code",
   "execution_count": 15,
   "id": "d86efffd",
   "metadata": {},
   "outputs": [],
   "source": [
    "def show_history(history):\n",
    "    history_dict = history.history\n",
    "\n",
    "    loss = history_dict['loss']\n",
    "    val_loss = history_dict['val_loss']\n",
    "\n",
    "    epochs = range(1, len(loss) + 1)\n",
    "    fig = plt.figure(figsize=(12, 5))\n",
    "\n",
    "    ax1 = fig.add_subplot(1, 2, 1)\n",
    "    ax1.plot(epochs, loss, 'b-', label='train_loss')\n",
    "    ax1.plot(epochs, val_loss, 'r-', label='val_loss')\n",
    "    ax1.set_title('Train and Validation Loss')\n",
    "    ax1.set_xlabel('Epochs')\n",
    "    ax1.set_ylabel('Loss')\n",
    "    ax1.grid()\n",
    "    ax1.legend()\n",
    "\n",
    "    accuracy = history_dict['accuracy']\n",
    "    val_accuracy = history_dict['val_accuracy']\n",
    "\n",
    "    ax2 = fig.add_subplot(1, 2, 2)\n",
    "    ax2.plot(epochs, accuracy, 'b-', label='train_accuracy')\n",
    "    ax2.plot(epochs, val_accuracy, 'r-', label='val_accuracy')\n",
    "    ax2.set_title('Train and Validation Accuracy')\n",
    "    ax2.set_xlabel('Epochs')\n",
    "    ax2.set_ylabel('Accuracy')\n",
    "    ax2.grid()\n",
    "    ax2.legend()\n",
    "\n",
    "    plt.show()"
   ]
  },
  {
   "cell_type": "code",
   "execution_count": 16,
   "id": "31a545a9",
   "metadata": {},
   "outputs": [
    {
     "data": {
      "image/png": "[encoded data removed]",
      "text/plain": [
       "<Figure size 864x360 with 2 Axes>"
      ]
     },
     "metadata": {},
     "output_type": "display_data"
    }
   ],
   "source": [
    "show_history(history)"
   ]
  },
  {
   "cell_type": "markdown",
   "id": "437e4628",
   "metadata": {},
   "source": [
    "## 모델 평가 및 예측"
   ]
  },
  {
   "cell_type": "code",
   "execution_count": 17,
   "id": "af15cb26",
   "metadata": {},
   "outputs": [
    {
     "name": "stdout",
     "output_type": "stream",
     "text": [
      "313/313 [==============================] - 1s 2ms/step - loss: 0.6273 - accuracy: 0.7807\n"
     ]
    },
    {
     "data": {
      "text/plain": [
       "[0.6273345351219177, 0.7807000279426575]"
      ]
     },
     "execution_count": 17,
     "metadata": {},
     "output_type": "execute_result"
    }
   ],
   "source": [
    "model.evaluate(x_test, y_test)"
   ]
  },
  {
   "cell_type": "code",
   "execution_count": 18,
   "id": "dec7232a",
   "metadata": {},
   "outputs": [
    {
     "name": "stdout",
     "output_type": "stream",
     "text": [
      "[1.9991668e-02 9.3293065e-01 3.4373202e-03 1.4073116e-02 2.2933709e-02\n",
      " 8.0236794e-05 6.4132861e-03 3.7714617e-05 8.3181287e-05 1.9182247e-05]\n",
      "1\n",
      "Trouser\n"
     ]
    }
   ],
   "source": [
    "pred_ys = model.predict(x_test)\n",
    "print(pred_ys[5])\n",
    "\n",
    "arg_pred_y = np.argmax(pred_ys, axis=1)\n",
    "print(arg_pred_y[5])\n",
    "print(class_names[arg_pred_y[5]])"
   ]
  },
  {
   "cell_type": "code",
   "execution_count": 19,
   "id": "22c26b66",
   "metadata": {},
   "outputs": [
    {
     "data": {
      "image/png": "[encoded data removed]",
      "text/plain": [
       "<Figure size 432x288 with 1 Axes>"
      ]
     },
     "metadata": {},
     "output_type": "display_data"
    }
   ],
   "source": [
    "plt.imshow(x_test[5].reshape(-1, 28))\n",
    "plt.title(class_names[arg_pred_y[5]])\n",
    "plt.show()"
   ]
  },
  {
   "cell_type": "code",
   "execution_count": 20,
   "id": "e4f7b9e4",
   "metadata": {},
   "outputs": [],
   "source": [
    "# 이미지와 레이블을 함께 출력\n",
    "# 예측한 결과 레이블인 predicted_label과 정답 레이블인 y_test가 동일하면 색으로 blue를 사용하고, 다르면 red 색을 사용\n",
    "def plot_image(i, pred_ys, y_test, img):\n",
    "    pred_ys, y_test, img = pred_ys[i], y_test[i], img[i]\n",
    "    plt.grid(False)\n",
    "    plt.xticks([])\n",
    "    plt.yticks([])\n",
    "    plt.imshow(img, cmap=plt.cm.binary)\n",
    "\n",
    "    predicted_label = np.argmax(pred_ys)\n",
    "    if predicted_label == y_test:\n",
    "        color = 'blue'\n",
    "    else:\n",
    "        color = 'red'\n",
    "  \n",
    "    plt.xlabel(\"{} {:2.0f}% ({})\".format(class_names[predicted_label],\n",
    "                                       100*np.max(pred_ys),\n",
    "                                       class_names[y_test]), color=color)"
   ]
  },
  {
   "cell_type": "code",
   "execution_count": 21,
   "id": "877386e8",
   "metadata": {},
   "outputs": [],
   "source": [
    "# 전체 10개 분류 중에서 어떤 클래스에 얼만큼의 확률로 예측을 했는지 출력\n",
    "# 예측한 레이블은 red 색상으로 표시하고, 정답 레이블은 blue 색상으로 표시\n",
    "def plot_class(i, pred_ys, true_label):\n",
    "    pred_ys, true_label = pred_ys[i], true_label[i]\n",
    "    plt.grid(False)\n",
    "    plt.xticks([])\n",
    "    plt.yticks([])\n",
    "    plt.ylim([0, 1])\n",
    "    predicted_label = np.argmax(pred_ys)\n",
    "\n",
    "    plot = plt.bar(range(10), pred_ys, color='darkgray')\n",
    "    plot[predicted_label].set_color('red')\n",
    "    plot[true_label].set_color('blue')"
   ]
  },
  {
   "cell_type": "code",
   "execution_count": 22,
   "id": "260abd38",
   "metadata": {},
   "outputs": [
    {
     "data": {
      "image/png": "[encoded data removed]",
      "text/plain": [
       "<Figure size 576x288 with 2 Axes>"
      ]
     },
     "metadata": {},
     "output_type": "display_data"
    }
   ],
   "source": [
    "i = 5\n",
    "plt.figure(figsize=(8, 4))\n",
    "plt.subplot(1, 2, 1)\n",
    "plot_image(i, pred_ys, y_test, x_test.reshape(-1, 28, 28))\n",
    "plt.subplot(1, 2, 2)\n",
    "plot_class(i, pred_ys, y_test)\n",
    "plt.show()"
   ]
  },
  {
   "cell_type": "code",
   "execution_count": 23,
   "id": "b3f157c9",
   "metadata": {},
   "outputs": [
    {
     "data": {
      "image/png": "[encoded data removed]",
      "text/plain": [
       "<Figure size 576x288 with 2 Axes>"
      ]
     },
     "metadata": {},
     "output_type": "display_data"
    }
   ],
   "source": [
    "i = 10\n",
    "plt.figure(figsize=(8, 4))\n",
    "plt.subplot(1, 2, 1)\n",
    "plot_image(i, pred_ys, y_test, x_test.reshape(-1, 28, 28))\n",
    "plt.subplot(1, 2, 2)\n",
    "plot_class(i, pred_ys, y_test)\n",
    "plt.show()"
   ]
  },
  {
   "cell_type": "code",
   "execution_count": 24,
   "id": "8434aa0f",
   "metadata": {},
   "outputs": [
    {
     "data": {
      "image/png": "[encoded data removed]",
      "text/plain": [
       "<Figure size 1152x1152 with 64 Axes>"
      ]
     },
     "metadata": {},
     "output_type": "display_data"
    }
   ],
   "source": [
    "num_rows = 8\n",
    "num_cols = 4\n",
    "num_images = num_rows * num_cols\n",
    "\n",
    "random_num = np.random.randint(10000, size=num_images)\n",
    "plt.figure(figsize=(2 * 2 * num_cols, 2 * num_rows))\n",
    "for idx, num in enumerate(random_num):\n",
    "    plt.subplot(num_rows, 2 * num_cols, 2 * idx + 1)\n",
    "    plot_image(num, pred_ys, y_test, x_test.reshape(-1, 28, 28))\n",
    "    plt.subplot(num_rows, 2 * num_cols, 2 * idx + 2)\n",
    "    plot_class(num, pred_ys, y_test)\n",
    "\n",
    "plt.show()"
   ]
  },
  {
   "cell_type": "code",
   "execution_count": 25,
   "id": "22edc1f7",
   "metadata": {},
   "outputs": [
    {
     "name": "stdout",
     "output_type": "stream",
     "text": [
      "              precision    recall  f1-score   support\n",
      "\n",
      " T-shirt/top       0.74      0.78      0.76      1000\n",
      "     Trouser       0.97      0.92      0.95      1000\n",
      "    Pullover       0.71      0.61      0.65      1000\n",
      "       Dress       0.77      0.82      0.79      1000\n",
      "        Coat       0.62      0.75      0.68      1000\n",
      "      Sandal       0.82      0.87      0.85      1000\n",
      "       Shirt       0.49      0.40      0.44      1000\n",
      "     Sneaker       0.86      0.83      0.85      1000\n",
      "         Bag       0.91      0.91      0.91      1000\n",
      "  Ankle boot       0.88      0.91      0.90      1000\n",
      "\n",
      "    accuracy                           0.78     10000\n",
      "   macro avg       0.78      0.78      0.78     10000\n",
      "weighted avg       0.78      0.78      0.78     10000\n",
      "\n"
     ]
    }
   ],
   "source": [
    "from tensorflow.keras import utils\n",
    "from sklearn.metrics import classification_report\n",
    "\n",
    "y_test_cat = utils.to_categorical(y_test)\n",
    "print(classification_report(np.argmax(y_test_cat, axis=-1), \n",
    "                            np.argmax(pred_ys, axis=-1), \n",
    "                            target_names=class_names))"
   ]
  },
  {
   "cell_type": "code",
   "execution_count": 26,
   "id": "3daf7d59",
   "metadata": {},
   "outputs": [
    {
     "data": {
      "image/png": "[encoded data removed]",
      "text/plain": [
       "<Figure size 576x576 with 2 Axes>"
      ]
     },
     "metadata": {},
     "output_type": "display_data"
    }
   ],
   "source": [
    "import seaborn as sns\n",
    "from sklearn.metrics import confusion_matrix\n",
    "\n",
    "plt.figure(figsize=(8, 8))\n",
    "cm2 = confusion_matrix(np.argmax(y_test_cat, axis=-1), np.argmax(pred_ys, axis=-1))\n",
    "sns.heatmap(cm2, annot=True, fmt='d', cmap='Blues')\n",
    "plt.xlabel('Predicted Label')\n",
    "plt.ylabel('True Label')\n",
    "plt.show()"
   ]
  },
  {
   "cell_type": "markdown",
   "id": "1fd0ac6f",
   "metadata": {},
   "source": [
    "# 모델 최적화"
   ]
  },
  {
   "cell_type": "markdown",
   "id": "00538691",
   "metadata": {},
   "source": [
    "## Early Stopping\n",
    "- 딥러닝 모델이 학습을 진행하면서 가장 좋은 모델이 fashion_mnist_model.h5 파일로 저장되도록 콜백 함수로 ModelCheckpoint를 사용\n",
    "- val_loss 값을 10개씩 연속으로 모니터링하며 성능 변화가 없으면 조기 종료되도록 EarlyStopping을 사용\\"
   ]
  },
  {
   "cell_type": "code",
   "execution_count": 27,
   "id": "5338436c",
   "metadata": {},
   "outputs": [
    {
     "name": "stdout",
     "output_type": "stream",
     "text": [
      "Epoch 1/60\n",
      "1313/1313 [==============================] - 3s 3ms/step - loss: 0.5939 - accuracy: 0.7949 - val_loss: 0.5838 - val_accuracy: 0.7963\n",
      "Epoch 2/60\n",
      "1313/1313 [==============================] - 3s 2ms/step - loss: 0.5662 - accuracy: 0.8045 - val_loss: 0.5623 - val_accuracy: 0.8060\n",
      "Epoch 3/60\n",
      "1313/1313 [==============================] - 3s 2ms/step - loss: 0.5454 - accuracy: 0.8101 - val_loss: 0.5502 - val_accuracy: 0.8076\n",
      "Epoch 4/60\n",
      "1313/1313 [==============================] - 3s 3ms/step - loss: 0.5289 - accuracy: 0.8161 - val_loss: 0.5395 - val_accuracy: 0.8102\n",
      "Epoch 5/60\n",
      "1313/1313 [==============================] - 3s 2ms/step - loss: 0.5163 - accuracy: 0.8206 - val_loss: 0.5203 - val_accuracy: 0.8185\n",
      "Epoch 6/60\n",
      "1313/1313 [==============================] - 3s 2ms/step - loss: 0.5053 - accuracy: 0.8239 - val_loss: 0.5154 - val_accuracy: 0.8172\n",
      "Epoch 7/60\n",
      "1313/1313 [==============================] - 3s 3ms/step - loss: 0.4961 - accuracy: 0.8266 - val_loss: 0.5087 - val_accuracy: 0.8233\n",
      "Epoch 8/60\n",
      "1313/1313 [==============================] - 3s 2ms/step - loss: 0.4879 - accuracy: 0.8295 - val_loss: 0.4949 - val_accuracy: 0.8288\n",
      "Epoch 9/60\n",
      "1313/1313 [==============================] - 3s 2ms/step - loss: 0.4807 - accuracy: 0.8316 - val_loss: 0.4895 - val_accuracy: 0.8294\n",
      "Epoch 10/60\n",
      "1313/1313 [==============================] - 3s 2ms/step - loss: 0.4745 - accuracy: 0.8339 - val_loss: 0.4880 - val_accuracy: 0.8297\n",
      "Epoch 11/60\n",
      "1313/1313 [==============================] - 3s 2ms/step - loss: 0.4693 - accuracy: 0.8357 - val_loss: 0.4813 - val_accuracy: 0.8326\n",
      "Epoch 12/60\n",
      "1313/1313 [==============================] - 3s 2ms/step - loss: 0.4638 - accuracy: 0.8363 - val_loss: 0.4778 - val_accuracy: 0.8351\n",
      "Epoch 13/60\n",
      "1313/1313 [==============================] - 3s 3ms/step - loss: 0.4589 - accuracy: 0.8394 - val_loss: 0.4701 - val_accuracy: 0.8377\n",
      "Epoch 14/60\n",
      "1313/1313 [==============================] - 3s 2ms/step - loss: 0.4551 - accuracy: 0.8400 - val_loss: 0.4692 - val_accuracy: 0.8372\n",
      "Epoch 15/60\n",
      "1313/1313 [==============================] - 3s 2ms/step - loss: 0.4506 - accuracy: 0.8413 - val_loss: 0.4631 - val_accuracy: 0.8398\n",
      "Epoch 16/60\n",
      "1313/1313 [==============================] - 3s 3ms/step - loss: 0.4472 - accuracy: 0.8430 - val_loss: 0.4619 - val_accuracy: 0.8399\n",
      "Epoch 17/60\n",
      "1313/1313 [==============================] - 3s 3ms/step - loss: 0.4437 - accuracy: 0.8445 - val_loss: 0.4617 - val_accuracy: 0.8392\n",
      "Epoch 18/60\n",
      "1313/1313 [==============================] - 3s 2ms/step - loss: 0.4403 - accuracy: 0.8460 - val_loss: 0.4560 - val_accuracy: 0.8415\n",
      "Epoch 19/60\n",
      "1313/1313 [==============================] - 3s 3ms/step - loss: 0.4372 - accuracy: 0.8462 - val_loss: 0.4524 - val_accuracy: 0.8451\n",
      "Epoch 20/60\n",
      "1313/1313 [==============================] - 3s 2ms/step - loss: 0.4343 - accuracy: 0.8475 - val_loss: 0.4518 - val_accuracy: 0.8448\n",
      "Epoch 21/60\n",
      "1313/1313 [==============================] - 3s 2ms/step - loss: 0.4317 - accuracy: 0.8478 - val_loss: 0.4481 - val_accuracy: 0.8456\n",
      "Epoch 22/60\n",
      "1313/1313 [==============================] - 4s 3ms/step - loss: 0.4292 - accuracy: 0.8491 - val_loss: 0.4483 - val_accuracy: 0.8453\n",
      "Epoch 23/60\n",
      "1313/1313 [==============================] - 3s 2ms/step - loss: 0.4271 - accuracy: 0.8491 - val_loss: 0.4461 - val_accuracy: 0.8474\n",
      "Epoch 24/60\n",
      "1313/1313 [==============================] - 3s 2ms/step - loss: 0.4244 - accuracy: 0.8502 - val_loss: 0.4440 - val_accuracy: 0.8468\n",
      "Epoch 25/60\n",
      "1313/1313 [==============================] - 3s 2ms/step - loss: 0.4220 - accuracy: 0.8526 - val_loss: 0.4519 - val_accuracy: 0.8429\n",
      "Epoch 26/60\n",
      "1313/1313 [==============================] - 3s 2ms/step - loss: 0.4197 - accuracy: 0.8517 - val_loss: 0.4496 - val_accuracy: 0.8433\n",
      "Epoch 27/60\n",
      "1313/1313 [==============================] - 3s 2ms/step - loss: 0.4177 - accuracy: 0.8518 - val_loss: 0.4377 - val_accuracy: 0.8478\n",
      "Epoch 28/60\n",
      "1313/1313 [==============================] - 3s 2ms/step - loss: 0.4161 - accuracy: 0.8531 - val_loss: 0.4371 - val_accuracy: 0.8491\n",
      "Epoch 29/60\n",
      "1313/1313 [==============================] - 4s 3ms/step - loss: 0.4143 - accuracy: 0.8528 - val_loss: 0.4364 - val_accuracy: 0.8488\n",
      "Epoch 30/60\n",
      "1313/1313 [==============================] - 3s 3ms/step - loss: 0.4123 - accuracy: 0.8527 - val_loss: 0.4353 - val_accuracy: 0.8487\n",
      "Epoch 31/60\n",
      "1313/1313 [==============================] - 3s 2ms/step - loss: 0.4105 - accuracy: 0.8553 - val_loss: 0.4332 - val_accuracy: 0.8524\n",
      "Epoch 32/60\n",
      "1313/1313 [==============================] - 3s 2ms/step - loss: 0.4085 - accuracy: 0.8556 - val_loss: 0.4384 - val_accuracy: 0.8472\n",
      "Epoch 33/60\n",
      "1313/1313 [==============================] - 3s 2ms/step - loss: 0.4072 - accuracy: 0.8551 - val_loss: 0.4316 - val_accuracy: 0.8518\n",
      "Epoch 34/60\n",
      "1313/1313 [==============================] - 3s 3ms/step - loss: 0.4052 - accuracy: 0.8561 - val_loss: 0.4352 - val_accuracy: 0.8464\n",
      "Epoch 35/60\n",
      "1313/1313 [==============================] - 3s 2ms/step - loss: 0.4040 - accuracy: 0.8571 - val_loss: 0.4265 - val_accuracy: 0.8534\n",
      "Epoch 36/60\n",
      "1313/1313 [==============================] - 3s 2ms/step - loss: 0.4020 - accuracy: 0.8580 - val_loss: 0.4297 - val_accuracy: 0.8518\n",
      "Epoch 37/60\n",
      "1313/1313 [==============================] - 3s 2ms/step - loss: 0.4009 - accuracy: 0.8580 - val_loss: 0.4258 - val_accuracy: 0.8541\n",
      "Epoch 38/60\n",
      "1313/1313 [==============================] - 3s 2ms/step - loss: 0.3994 - accuracy: 0.8579 - val_loss: 0.4287 - val_accuracy: 0.8515\n",
      "Epoch 39/60\n",
      "1313/1313 [==============================] - 3s 2ms/step - loss: 0.3982 - accuracy: 0.8583 - val_loss: 0.4236 - val_accuracy: 0.8552\n",
      "Epoch 40/60\n",
      "1313/1313 [==============================] - 3s 2ms/step - loss: 0.3967 - accuracy: 0.8598 - val_loss: 0.4238 - val_accuracy: 0.8528\n",
      "Epoch 41/60\n",
      "1313/1313 [==============================] - 3s 2ms/step - loss: 0.3954 - accuracy: 0.8610 - val_loss: 0.4209 - val_accuracy: 0.8547\n",
      "Epoch 42/60\n",
      "1313/1313 [==============================] - 3s 2ms/step - loss: 0.3941 - accuracy: 0.8599 - val_loss: 0.4230 - val_accuracy: 0.8526\n",
      "Epoch 43/60\n",
      "1313/1313 [==============================] - 3s 2ms/step - loss: 0.3924 - accuracy: 0.8615 - val_loss: 0.4205 - val_accuracy: 0.8533\n",
      "Epoch 44/60\n",
      "1313/1313 [==============================] - 3s 2ms/step - loss: 0.3911 - accuracy: 0.8611 - val_loss: 0.4171 - val_accuracy: 0.8573\n",
      "Epoch 45/60\n",
      "1313/1313 [==============================] - 3s 2ms/step - loss: 0.3902 - accuracy: 0.8617 - val_loss: 0.4183 - val_accuracy: 0.8554\n",
      "Epoch 46/60\n",
      "1313/1313 [==============================] - 3s 2ms/step - loss: 0.3887 - accuracy: 0.8635 - val_loss: 0.4197 - val_accuracy: 0.8545\n",
      "Epoch 47/60\n",
      "1313/1313 [==============================] - 3s 2ms/step - loss: 0.3874 - accuracy: 0.8625 - val_loss: 0.4175 - val_accuracy: 0.8574\n",
      "Epoch 48/60\n",
      "1313/1313 [==============================] - 3s 2ms/step - loss: 0.3862 - accuracy: 0.8625 - val_loss: 0.4170 - val_accuracy: 0.8578\n",
      "Epoch 49/60\n",
      "1313/1313 [==============================] - 3s 2ms/step - loss: 0.3853 - accuracy: 0.8629 - val_loss: 0.4129 - val_accuracy: 0.8589\n",
      "Epoch 50/60\n",
      "1313/1313 [==============================] - 3s 2ms/step - loss: 0.3841 - accuracy: 0.8644 - val_loss: 0.4153 - val_accuracy: 0.8562\n",
      "Epoch 51/60\n",
      "1313/1313 [==============================] - 3s 2ms/step - loss: 0.3833 - accuracy: 0.8647 - val_loss: 0.4117 - val_accuracy: 0.8582\n",
      "Epoch 52/60\n",
      "1313/1313 [==============================] - 3s 2ms/step - loss: 0.3820 - accuracy: 0.8647 - val_loss: 0.4140 - val_accuracy: 0.8551\n",
      "Epoch 53/60\n",
      "1313/1313 [==============================] - 3s 2ms/step - loss: 0.3807 - accuracy: 0.8646 - val_loss: 0.4117 - val_accuracy: 0.8584\n",
      "Epoch 54/60\n",
      "1313/1313 [==============================] - 3s 2ms/step - loss: 0.3795 - accuracy: 0.8655 - val_loss: 0.4105 - val_accuracy: 0.8567\n",
      "Epoch 55/60\n",
      "1313/1313 [==============================] - 3s 3ms/step - loss: 0.3785 - accuracy: 0.8658 - val_loss: 0.4094 - val_accuracy: 0.8588\n",
      "Epoch 56/60\n",
      "1313/1313 [==============================] - 3s 3ms/step - loss: 0.3769 - accuracy: 0.8668 - val_loss: 0.4142 - val_accuracy: 0.8557\n",
      "Epoch 57/60\n",
      "1313/1313 [==============================] - 3s 2ms/step - loss: 0.3760 - accuracy: 0.8671 - val_loss: 0.4093 - val_accuracy: 0.8577\n",
      "Epoch 58/60\n",
      "1313/1313 [==============================] - 3s 2ms/step - loss: 0.3749 - accuracy: 0.8679 - val_loss: 0.4086 - val_accuracy: 0.8576\n",
      "Epoch 59/60\n",
      "1313/1313 [==============================] - 3s 2ms/step - loss: 0.3744 - accuracy: 0.8663 - val_loss: 0.4092 - val_accuracy: 0.8573\n",
      "Epoch 60/60\n",
      "1313/1313 [==============================] - 3s 2ms/step - loss: 0.3731 - accuracy: 0.8668 - val_loss: 0.4159 - val_accuracy: 0.8540\n"
     ]
    }
   ],
   "source": [
    "from tensorflow.keras import callbacks\n",
    "\n",
    "check_point_cb = callbacks.ModelCheckpoint('fashion_mnist_model.h5', \n",
    "                                           save_best_only=True)\n",
    "early_stopping_cb = callbacks.EarlyStopping(patience=10, \n",
    "                                            monitor='val_loss',\n",
    "                                            restore_best_weights=True)\n",
    "history = model.fit(x_train, y_train, epochs=60,\n",
    "                    validation_data=(x_val, y_val),\n",
    "                    callbacks=[check_point_cb, early_stopping_cb])"
   ]
  },
  {
   "cell_type": "code",
   "execution_count": null,
   "id": "c3f09166",
   "metadata": {},
   "outputs": [],
   "source": [
    "show_history(history)"
   ]
  },
  {
   "cell_type": "code",
   "execution_count": null,
   "id": "a6f583ad",
   "metadata": {},
   "outputs": [],
   "source": [
    "model.evaluate(x_test, y_test)"
   ]
  },
  {
   "cell_type": "markdown",
   "id": "5b78f980",
   "metadata": {},
   "source": [
    "## 활성화 함수"
   ]
  },
  {
   "cell_type": "code",
   "execution_count": null,
   "id": "245d8f18",
   "metadata": {},
   "outputs": [],
   "source": [
    "from tensorflow.keras import models, layers\n",
    "\n",
    "model = models.Sequential()\n",
    "model.add(layers.Input(shape=(784, )))\n",
    "model.add(layers.Dense(512, activation='relu'))\n",
    "model.add(layers.Dense(10, activation='softmax'))\n",
    "model.summary()\n",
    "\n",
    "model.compile(loss='sparse_categorical_crossentropy',\n",
    "              optimizer='SGD',\n",
    "              metrics=['accuracy'])"
   ]
  },
  {
   "cell_type": "code",
   "execution_count": null,
   "id": "91f0f5ec",
   "metadata": {},
   "outputs": [],
   "source": [
    "history2 = model.fit(x_train, y_train, epochs=60,\n",
    "                     validation_data=(x_val, y_val),\n",
    "                     callbacks=[check_point_cb, early_stopping_cb])"
   ]
  },
  {
   "cell_type": "code",
   "execution_count": null,
   "id": "caa1dce6",
   "metadata": {},
   "outputs": [],
   "source": [
    "def diff_history(history1, history2):\n",
    "    history1_dict = history1.history\n",
    "    h1_loss = history1_dict['loss']\n",
    "    h1_val_loss = history1_dict['val_loss']\n",
    "\n",
    "    history2_dict = history2.history\n",
    "    h2_loss = history2_dict['loss']\n",
    "    h2_val_loss = history2_dict['val_loss']\n",
    "\n",
    "    epochs1 = range(1, len(h1_loss) + 1)\n",
    "    epochs2 = range(1, len(h2_loss) + 1)\n",
    "\n",
    "    fig = plt.figure(figsize=(12, 5))\n",
    "    plt.subplots_adjust(wspace=0.3, hspace=0.3)\n",
    "\n",
    "    ax1 = fig.add_subplot(1, 2, 1)\n",
    "    ax1.plot(epochs1, h1_loss, 'b-', label='train_loss')\n",
    "    ax1.plot(epochs1, h1_val_loss, 'r-', label='val_loss')\n",
    "    ax1.plot(epochs2, h2_loss, 'b--', label='train_loss')\n",
    "    ax1.plot(epochs2, h2_val_loss, 'r--', label='val_loss')\n",
    "    ax1.set_title('Train and Validation Loss')\n",
    "    ax1.set_xlabel('Epochs')\n",
    "    ax1.set_ylabel('Loss')\n",
    "    ax1.grid()\n",
    "    ax1.legend()\n",
    "\n",
    "    h1_accuracy = history1_dict['accuracy']\n",
    "    h1_val_accuracy = history1_dict['val_accuracy']\n",
    "\n",
    "    h2_accuracy = history2_dict['accuracy']\n",
    "    h2_val_accuracy = history2_dict['val_accuracy']\n",
    "\n",
    "    ax2 = fig.add_subplot(1, 2, 2)\n",
    "    ax2.plot(epochs1, h1_accuracy, 'b-', label='train_accuracy')\n",
    "    ax2.plot(epochs1, h1_val_accuracy, 'r-', label='val_accuracy')\n",
    "    ax2.plot(epochs2, h2_accuracy, 'b--', label='train_accuracy')\n",
    "    ax2.plot(epochs2, h2_val_accuracy, 'r--', label='val_accuracy')\n",
    "    ax2.set_title('Train and Validation Accuracy')\n",
    "    ax2.set_xlabel('Epochs')\n",
    "    ax2.set_ylabel('Accuracy')\n",
    "    ax2.grid()\n",
    "    ax2.legend()\n",
    "\n",
    "    plt.show()"
   ]
  },
  {
   "cell_type": "code",
   "execution_count": null,
   "id": "332f3830",
   "metadata": {},
   "outputs": [],
   "source": [
    "diff_history(history, history2)"
   ]
  },
  {
   "cell_type": "code",
   "execution_count": null,
   "id": "30ac4279",
   "metadata": {},
   "outputs": [],
   "source": [
    "model.evaluate(x_test, y_test)"
   ]
  },
  {
   "cell_type": "markdown",
   "id": "f92a4d9d",
   "metadata": {},
   "source": [
    "## 옵티마이저"
   ]
  },
  {
   "cell_type": "code",
   "execution_count": null,
   "id": "01139339",
   "metadata": {},
   "outputs": [],
   "source": [
    "from tensorflow.keras import models, layers\n",
    "\n",
    "model = models.Sequential()\n",
    "model.add(layers.Input(shape=(784, )))\n",
    "model.add(layers.Dense(512, activation='sigmoid'))\n",
    "model.add(layers.Dense(10, activation='softmax'))\n",
    "model.summary()\n",
    "\n",
    "model.compile(loss='sparse_categorical_crossentropy',\n",
    "              optimizer='Adam',\n",
    "              metrics=['accuracy'])"
   ]
  },
  {
   "cell_type": "code",
   "execution_count": null,
   "id": "ce19eda6",
   "metadata": {},
   "outputs": [],
   "source": [
    "history3 = model.fit(x_train, y_train, epochs=60,\n",
    "                     validation_data=(x_val, y_val),\n",
    "                     callbacks=[check_point_cb, early_stopping_cb])"
   ]
  },
  {
   "cell_type": "code",
   "execution_count": null,
   "id": "7480a195",
   "metadata": {},
   "outputs": [],
   "source": [
    "diff_history(history, history3)"
   ]
  },
  {
   "cell_type": "code",
   "execution_count": null,
   "id": "00d54fe8",
   "metadata": {},
   "outputs": [],
   "source": [
    "model.evaluate(x_test, y_test)"
   ]
  },
  {
   "cell_type": "markdown",
   "id": "d28122fa",
   "metadata": {},
   "source": [
    "## 규제"
   ]
  },
  {
   "cell_type": "code",
   "execution_count": null,
   "id": "8f7da1a9",
   "metadata": {},
   "outputs": [],
   "source": [
    "from tensorflow.keras import models, layers\n",
    "\n",
    "model = models.Sequential()\n",
    "model.add(layers.Input(shape=(784, )))\n",
    "model.add(layers.Dense(512, kernel_regularizer='l2', activation='sigmoid'))\n",
    "model.add(layers.Dense(10, activation='softmax'))\n",
    "model.summary()"
   ]
  },
  {
   "cell_type": "code",
   "execution_count": null,
   "id": "fe65a7ca",
   "metadata": {},
   "outputs": [],
   "source": [
    "history4 = model.fit(x_train, y_train, \n",
    "                     epochs=60,\n",
    "                     validation_data=(x_val, y_val),\n",
    "                     callbacks=[check_point_cb, early_stopping_cb])"
   ]
  },
  {
   "cell_type": "code",
   "execution_count": null,
   "id": "d3c9ebb5",
   "metadata": {},
   "outputs": [],
   "source": [
    "diff_history(history, history4)"
   ]
  },
  {
   "cell_type": "code",
   "execution_count": null,
   "id": "8ef339e3",
   "metadata": {},
   "outputs": [],
   "source": [
    "model.evaluate(x_test, y_test)"
   ]
  },
  {
   "cell_type": "markdown",
   "id": "40ea210f",
   "metadata": {},
   "source": [
    "## 드롭아웃"
   ]
  },
  {
   "cell_type": "code",
   "execution_count": null,
   "id": "4b71d9f1",
   "metadata": {},
   "outputs": [],
   "source": [
    "from tensorflow.keras import models, layers\n",
    "\n",
    "model = models.Sequential()\n",
    "model.add(layers.Input(shape=(784, )))\n",
    "model.add(layers.Dense(512, activation='sigmoid'))\n",
    "model.add(layers.Dropout(0.5))\n",
    "model.add(layers.Dense(10, activation='softmax'))\n",
    "model.summary()"
   ]
  },
  {
   "cell_type": "code",
   "execution_count": null,
   "id": "c9083b68",
   "metadata": {},
   "outputs": [],
   "source": [
    "history5 = model.fit(x_train, y_train, \n",
    "                     epochs=60,\n",
    "                     validation_data=(x_val, y_val),\n",
    "                     callbacks=[check_point_cb, early_stopping_cb])"
   ]
  },
  {
   "cell_type": "code",
   "execution_count": null,
   "id": "c1f89979",
   "metadata": {},
   "outputs": [],
   "source": [
    "diff_history(history, history5)"
   ]
  },
  {
   "cell_type": "code",
   "execution_count": null,
   "id": "fe1ab045",
   "metadata": {},
   "outputs": [],
   "source": [
    "diff_history(history4, history5)"
   ]
  },
  {
   "cell_type": "code",
   "execution_count": null,
   "id": "6bdb94dd",
   "metadata": {},
   "outputs": [],
   "source": [
    "model.evaluate(x_test, y_test)"
   ]
  },
  {
   "cell_type": "markdown",
   "id": "5d8b5525",
   "metadata": {},
   "source": [
    "## 배치 정규화"
   ]
  },
  {
   "cell_type": "code",
   "execution_count": null,
   "id": "2378f3ba",
   "metadata": {},
   "outputs": [],
   "source": [
    "from tensorflow.keras import models, layers\n",
    "\n",
    "model = models.Sequential()\n",
    "model.add(layers.Input(shape=(784, )))\n",
    "model.add(layers.Dense(512))\n",
    "model.add(layers.BatchNormalization())\n",
    "model.add(layers.Activation('sigmoid')) \n",
    "model.add(layers.Dense(10, activation='softmax'))\n",
    "model.summary()"
   ]
  },
  {
   "cell_type": "code",
   "execution_count": null,
   "id": "4b1bd3fa",
   "metadata": {},
   "outputs": [],
   "source": [
    "history6 = model.fit(x_train, y_train, \n",
    "                     epochs=60,\n",
    "                     validation_data=(x_val, y_val),\n",
    "                     callbacks=[check_point_cb, early_stopping_cb])"
   ]
  },
  {
   "cell_type": "code",
   "execution_count": null,
   "id": "a8f6440d",
   "metadata": {},
   "outputs": [],
   "source": [
    "diff_history(history, history6)"
   ]
  },
  {
   "cell_type": "code",
   "execution_count": null,
   "id": "8354903a",
   "metadata": {},
   "outputs": [],
   "source": [
    "model.evaluate(x_test, y_test)"
   ]
  },
  {
   "cell_type": "markdown",
   "id": "036d801a",
   "metadata": {},
   "source": [
    "## 배치 정규화 + 드롭아웃"
   ]
  },
  {
   "cell_type": "code",
   "execution_count": null,
   "id": "36cd5a33",
   "metadata": {},
   "outputs": [],
   "source": [
    "from tensorflow.keras import models, layers\n",
    "\n",
    "model = models.Sequential()\n",
    "model.add(layers.Input(shape=(784, )))\n",
    "model.add(layers.Dense(512))\n",
    "model.add(layers.BatchNormalization())\n",
    "model.add(layers.Activation('sigmoid'))\n",
    "model.add(layers.Dropout(0.5))\n",
    "model.add(layers.Dense(10, activation='softmax'))\n",
    "model.summary()"
   ]
  },
  {
   "cell_type": "code",
   "execution_count": null,
   "id": "2646d76e",
   "metadata": {},
   "outputs": [],
   "source": [
    "history7 = model.fit(x_train, y_train, \n",
    "                     epochs=60,\n",
    "                     validation_data=(x_val, y_val),\n",
    "                     callbacks=[check_point_cb, early_stopping_cb])"
   ]
  },
  {
   "cell_type": "code",
   "execution_count": null,
   "id": "dab73bd9",
   "metadata": {},
   "outputs": [],
   "source": [
    "diff_history(history, history7)"
   ]
  },
  {
   "cell_type": "code",
   "execution_count": null,
   "id": "10ded212",
   "metadata": {},
   "outputs": [],
   "source": [
    "model.evaluate(x_test, y_test)"
   ]
  },
  {
   "cell_type": "markdown",
   "id": "e81f7aea",
   "metadata": {},
   "source": [
    "# 모델 결과 분석"
   ]
  },
  {
   "cell_type": "code",
   "execution_count": null,
   "id": "98db6dc5",
   "metadata": {},
   "outputs": [],
   "source": [
    "i = 5\n",
    "plt.figure(figsize=(8, 4))\n",
    "plt.subplot(1, 2, 1)\n",
    "plot_image(i, pred_ys, y_test, x_test.reshape(-1, 28, 28))\n",
    "plt.subplot(1, 2, 2)\n",
    "plot_class(i, pred_ys, y_test)\n",
    "plt.show()"
   ]
  },
  {
   "cell_type": "code",
   "execution_count": null,
   "id": "b61bd03f",
   "metadata": {},
   "outputs": [],
   "source": [
    "num_rows = 8\n",
    "num_cols = 4\n",
    "num_images = num_rows * num_cols\n",
    "\n",
    "random_num = np.random.randint(10000, size=num_images)\n",
    "plt.figure(figsize=(2 * 2 * num_cols, 2 * num_rows))\n",
    "for idx, num in enumerate(random_num):\n",
    "    plt.subplot(num_rows, 2 * num_cols, 2 * idx + 1)\n",
    "    plot_image(num, pred_ys, y_test, x_test.reshape(-1, 28, 28))\n",
    "    plt.subplot(num_rows, 2 * num_cols, 2 * idx + 2)\n",
    "    plot_class(num, pred_ys, y_test)\n",
    "plt.show()"
   ]
  },
  {
   "cell_type": "code",
   "execution_count": null,
   "id": "191b4256",
   "metadata": {},
   "outputs": [],
   "source": [
    "import seaborn as sns\n",
    "from sklearn.metrics import confusion_matrix\n",
    "\n",
    "plt.figure(figsize=(8, 8))\n",
    "cm2 = confusion_matrix(np.argmax(y_test_cat, axis=-1), np.argmax(pred_ys, axis=-1))\n",
    "sns.heatmap(cm2, annot=True, fmt='d', cmap='Blues')\n",
    "plt.xlabel('Predicted Label')\n",
    "plt.ylabel('True Label')\n",
    "plt.show()"
   ]
  }
 ],
 "metadata": {
  "kernelspec": {
   "display_name": "Python 3 (ipykernel)",
   "language": "python",
   "name": "python3"
  },
  "language_info": {
   "codemirror_mode": {
    "name": "ipython",
    "version": 3
   },
   "file_extension": ".py",
   "mimetype": "text/x-python",
   "name": "python",
   "nbconvert_exporter": "python",
   "pygments_lexer": "ipython3",
   "version": "3.9.7"
  }
 },
 "nbformat": 4,
 "nbformat_minor": 5
}
