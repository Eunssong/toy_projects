{
 "cells": [
  {
   "cell_type": "markdown",
   "id": "a19e1262",
   "metadata": {},
   "source": [
    "# 모델 저장과 콜백\n",
    "- 학습시킨 모델을 저장하고 관리하는 것은 모델 관리, 더 나아가 MLOps(데이터 수집부터 모델 학습, 서비스 배포까지를 포함하는 시스템)의 시작점"
   ]
  },
  {
   "cell_type": "markdown",
   "id": "f2cd43a1",
   "metadata": {},
   "source": [
    "### MNIST 딥러닝 모델 예제\n",
    "\n",
    "- keras.datasets에 기본으로 포함\n"
   ]
  },
  {
   "cell_type": "markdown",
   "id": "74144a70",
   "metadata": {},
   "source": [
    "#### 모듈 임포트"
   ]
  },
  {
   "cell_type": "code",
   "execution_count": 1,
   "id": "4d9fed76",
   "metadata": {},
   "outputs": [],
   "source": [
    "import tensorflow as tf\n",
    "from tensorflow import keras\n",
    "from tensorflow.keras import models, layers, utils"
   ]
  },
  {
   "cell_type": "markdown",
   "id": "3c768d8e",
   "metadata": {},
   "source": [
    "#### 데이터 로드 및 전처리"
   ]
  },
  {
   "cell_type": "code",
   "execution_count": 2,
   "id": "4cef497c",
   "metadata": {},
   "outputs": [
    {
     "name": "stdout",
     "output_type": "stream",
     "text": [
      "Downloading data from https://storage.googleapis.com/tensorflow/tf-keras-datasets/mnist.npz\n",
      "11493376/11490434 [==============================] - 0s 0us/step\n",
      "11501568/11490434 [==============================] - 0s 0us/step\n",
      "전체 학습 데이터: (60000, 28, 28)  레이블: (60000,)\n",
      "학습용 데이터: (42000, 28, 28)  레이블: (42000,)\n",
      "검증용 데이터: (18000, 28, 28)  레이블: (18000,)\n",
      "테스트용 데이터: (10000, 28, 28)  레이블: (10000,)\n"
     ]
    }
   ],
   "source": [
    "from tensorflow.keras.datasets import mnist\n",
    "from sklearn.model_selection import train_test_split\n",
    "\n",
    "(x_train_full, y_train_full), (x_test, y_test) = mnist.load_data(path='mnist.npz')\n",
    "# MNIST(Mixed National Institute of Standards and Technology database) 데이터셋을 저장하고 있는 넘파이(Numpy) 압축 파일\n",
    "\n",
    "x_train, x_val, y_train, y_val = train_test_split(x_train_full, y_train_full,\n",
    "                                                  test_size=0.3,\n",
    "                                                  random_state=123)\n",
    "#  y_test의 경우에는 0부터 9까지의 숫자를 나타내는 레이블\n",
    "\n",
    "\n",
    "print(f\"전체 학습 데이터: {x_train_full.shape}  레이블: {y_train_full.shape}\")\n",
    "print(f\"학습용 데이터: {x_train.shape}  레이블: {y_train.shape}\")\n",
    "print(f\"검증용 데이터: {x_val.shape}  레이블: {y_val.shape}\")\n",
    "print(f\"테스트용 데이터: {x_test.shape}  레이블: {y_test.shape}\")"
   ]
  },
  {
   "cell_type": "code",
   "execution_count": 3,
   "id": "a1027cc5",
   "metadata": {},
   "outputs": [
    {
     "data": {
      "image/png": "[encoded data removed]",
      "text/plain": [
       "<Figure size 1080x216 with 6 Axes>"
      ]
     },
     "metadata": {},
     "output_type": "display_data"
    }
   ],
   "source": [
    "# 실제 숫자 이미지가 어떻게 구성되어 있는지 60,000개 중에서 6개만 랜덤으로 x_train_full과 y_train_full에서 추출하여 표시\n",
    "import numpy as np\n",
    "import matplotlib.pyplot as plt\n",
    "plt.style.use(\"seaborn-white\")\n",
    "\n",
    "num_sample = 6\n",
    "random_idxs = np.random.randint(60000, size=num_sample)\n",
    "\n",
    "plt.figure(figsize=(15, 3))\n",
    "for i, idx in enumerate(random_idxs):\n",
    "    img = x_train_full[idx, :]\n",
    "    label = y_train_full[idx]\n",
    "    \n",
    "    plt.subplot(1, len(random_idxs), i+1)\n",
    "    plt.axis('off')\n",
    "    plt.title(f'Index: {idx}, Label: {label}')\n",
    "    plt.imshow(img)"
   ]
  },
  {
   "cell_type": "code",
   "execution_count": 4,
   "id": "7d23aa68",
   "metadata": {},
   "outputs": [
    {
     "name": "stdout",
     "output_type": "stream",
     "text": [
      "4\n"
     ]
    }
   ],
   "source": [
    "print(y_train[0])"
   ]
  },
  {
   "cell_type": "code",
   "execution_count": 5,
   "id": "b998b0c7",
   "metadata": {},
   "outputs": [
    {
     "data": {
      "text/plain": [
       "<matplotlib.image.AxesImage at 0x7f087a9ad2e0>"
      ]
     },
     "execution_count": 5,
     "metadata": {},
     "output_type": "execute_result"
    },
    {
     "data": {
      "image/png": "[encoded data removed]",
      "text/plain": [
       "<Figure size 432x288 with 1 Axes>"
      ]
     },
     "metadata": {},
     "output_type": "display_data"
    }
   ],
   "source": [
    "img = x_train[0, :]\n",
    "plt.axis('off')\n",
    "plt.imshow(img)"
   ]
  },
  {
   "cell_type": "code",
   "execution_count": 6,
   "id": "4d3a9d26",
   "metadata": {},
   "outputs": [
    {
     "name": "stdout",
     "output_type": "stream",
     "text": [
      "[[  0   0   0   0   0   0   0   0   0   0   0   0   0   0   0   0   0   0\n",
      "    0   0   0   0   0   0   0   0   0   0]\n",
      " [  0   0   0   0   0   0   0   0   0   0   0   0   0   0   0   0   0   0\n",
      "    0   0   0   0   0   0   0   0   0   0]\n",
      " [  0   0   0   0   0   0   0   0   0   0   0   0   0   0   0   0   0   0\n",
      "    0   0   0   0   0   0   0   0   0   0]\n",
      " [  0   0   0   0   0   0   0   0   0   0   0   0   0   0   0   0   0   0\n",
      "    0   0   0   0   0   0   0   0   0   0]\n",
      " [  0   0   0   0   0   0   0   0   0   0   0   0   0   0   0   0 184 236\n",
      "    0   0   0   0   0   0   0   0   0   0]\n",
      " [  0   0   0   0   0   0   0   0   0   0   0   0   0   0   0  13 235 240\n",
      "   11   0   0   0   0   0   0   0   0   0]\n",
      " [  0   0   0   0   0   0   0   0   0   0   0   0   0   0   0  73 244 144\n",
      "   59   0   0   0   0   0   0   0   0   0]\n",
      " [  0   0   0   0   0   0   0   0   0   0   0   0   0   0   0 104 186   6\n",
      "   32   0   0   0   0   0   0   0   0   0]\n",
      " [  0   0   0   0   0   0   0   0   0  33  21   0   0   0   0 155 155   0\n",
      "    0   0   0   0   0   0   0   0   0   0]\n",
      " [  0   0   0   0   0   0   0   0   0 198  84   0   0   0   6 205 103   0\n",
      "    0   0   0   0   0   0   0   0   0   0]\n",
      " [  0   0   0   0   0   0   0   0  21 245  73   0   0   0  30 254 103   0\n",
      "    0   0   0   0   0   0   0   0   0   0]\n",
      " [  0   0   0   0   0   0   0   0  49 182   7   0   0   0  30 254 103   0\n",
      "    0   0   0   0   0   0   0   0   0   0]\n",
      " [  0   0   0   0   0   0   0   0  98 144   0   0   0   0  30 254  94   0\n",
      "    0   0   0   0   0   0   0   0   0   0]\n",
      " [  0   0   0   0   0   0   0   0  90 144   0   0   0   0  30 254  63   0\n",
      "    0   0   0   0   0   0   0   0   0   0]\n",
      " [  0   0   0   0   0   0   0   0 114 152   0   0   0   0  53 254 103   0\n",
      "    0   0   0   0   0   0   0   0   0   0]\n",
      " [  0   0   0   0   0   0   0   0  58 237  42   0   0   0  78 254  97   0\n",
      "    2  28   0   0   0   0   0   0   0   0]\n",
      " [  0   0   0   0   0   0   0   0  20 239 228 110  30  15 106 254 107  33\n",
      "  157  87   0   0   0   0   0   0   0   0]\n",
      " [  0   0   0   0   0   0   0   0   0 101 243 254 254 239 249 254 254 253\n",
      "  154   0   0   0   0   0   0   0   0   0]\n",
      " [  0   0   0   0   0   0   0   0   0   0  58 168 232 249 254 254 200  85\n",
      "    0   0   0   0   0   0   0   0   0   0]\n",
      " [  0   0   0   0   0   0   0   0   0   0   0   0   0  31 125 254  51   0\n",
      "    0   0   0   0   0   0   0   0   0   0]\n",
      " [  0   0   0   0   0   0   0   0   0   0   0   0   0   0  75 254  39   0\n",
      "    0   0   0   0   0   0   0   0   0   0]\n",
      " [  0   0   0   0   0   0   0   0   0   0   0   0   0   0  30 254  90   0\n",
      "    0   0   0   0   0   0   0   0   0   0]\n",
      " [  0   0   0   0   0   0   0   0   0   0   0   0   0   0  30 254 137   0\n",
      "    0   0   0   0   0   0   0   0   0   0]\n",
      " [  0   0   0   0   0   0   0   0   0   0   0   0   0   0  15 204 238  11\n",
      "    0   0   0   0   0   0   0   0   0   0]\n",
      " [  0   0   0   0   0   0   0   0   0   0   0   0   0   0   0   0   0   0\n",
      "    0   0   0   0   0   0   0   0   0   0]\n",
      " [  0   0   0   0   0   0   0   0   0   0   0   0   0   0   0   0   0   0\n",
      "    0   0   0   0   0   0   0   0   0   0]\n",
      " [  0   0   0   0   0   0   0   0   0   0   0   0   0   0   0   0   0   0\n",
      "    0   0   0   0   0   0   0   0   0   0]\n",
      " [  0   0   0   0   0   0   0   0   0   0   0   0   0   0   0   0   0   0\n",
      "    0   0   0   0   0   0   0   0   0   0]]\n"
     ]
    }
   ],
   "source": [
    "print(x_train[0])"
   ]
  },
  {
   "cell_type": "code",
   "execution_count": 7,
   "id": "ea65d636",
   "metadata": {},
   "outputs": [
    {
     "name": "stdout",
     "output_type": "stream",
     "text": [
      "[0. 0. 0. 0. 1. 0. 0. 0. 0. 0.]\n",
      "[0. 0. 0. 0. 1. 0. 0. 0. 0. 0.]\n",
      "[0. 0. 0. 0. 0. 0. 0. 1. 0. 0.]\n"
     ]
    }
   ],
   "source": [
    "# 간단한 전처리\n",
    "x_train = x_train / 255.\n",
    "x_val = x_val / 255.\n",
    "x_test = x_test / 255.\n",
    "\n",
    "# one-hot encoding형식으로 표현 # 정답에는 1을, 나머지의 값은 0\n",
    "y_train = utils.to_categorical(y_train)\n",
    "y_val = utils.to_categorical(y_val)\n",
    "y_test = utils.to_categorical(y_test)\n",
    "\n",
    "print(y_train[0])\n",
    "print(y_val[0])\n",
    "print(y_test[0])"
   ]
  },
  {
   "cell_type": "markdown",
   "id": "e764e1b9",
   "metadata": {},
   "source": [
    "#### 모델 구성\n",
    "- MNIST 데이터셋의 숫자 이미지가 28 x 28 사이즈를 사용하므로 입력 객체로 keras.Input를 사용할 때, shape을 (28, 28)로 지정\n",
    "- layers.Flatten 레이어를 사용하여 입력 데이터 모양이 2차원인 28 x 28 크기를 1차원으로 784 크기를 갖도록 변형\n",
    "- MNIST의 숫자가 0부터 9까지 총 10개 이므로 마지막 레이어에서는 전체 카테고리의 수인 10을 유닛수로 지정\n",
    "- 활성화 함수는 softmax를 사용하여 각 카테고리별 확률 값을 구함"
   ]
  },
  {
   "cell_type": "code",
   "execution_count": 8,
   "id": "17d7ea1c",
   "metadata": {
    "scrolled": true
   },
   "outputs": [
    {
     "name": "stdout",
     "output_type": "stream",
     "text": [
      "Model: \"sequential\"\n",
      "_________________________________________________________________\n",
      "Layer (type)                 Output Shape              Param #   \n",
      "=================================================================\n",
      "flatten (Flatten)            (None, 784)               0         \n",
      "_________________________________________________________________\n",
      "dense1 (Dense)               (None, 100)               78500     \n",
      "_________________________________________________________________\n",
      "dense2 (Dense)               (None, 64)                6464      \n",
      "_________________________________________________________________\n",
      "dense3 (Dense)               (None, 32)                2080      \n",
      "_________________________________________________________________\n",
      "output (Dense)               (None, 10)                330       \n",
      "=================================================================\n",
      "Total params: 87,374\n",
      "Trainable params: 87,374\n",
      "Non-trainable params: 0\n",
      "_________________________________________________________________\n"
     ]
    }
   ],
   "source": [
    "model = models.Sequential()\n",
    "model.add(keras.Input(shape=(28, 28), name='input'))\n",
    "model.add(layers.Flatten(input_shape=[28, 28], name='flatten'))\n",
    "model.add(layers.Dense(100, activation='relu', name='dense1'))\n",
    "model.add(layers.Dense(64, activation='relu', name='dense2'))\n",
    "model.add(layers.Dense(32, activation='relu', name='dense3'))\n",
    "model.add(layers.Dense(10, activation='softmax', name='output'))\n",
    "model.summary()"
   ]
  },
  {
   "cell_type": "code",
   "execution_count": 9,
   "id": "cc73514b",
   "metadata": {},
   "outputs": [
    {
     "data": {
      "image/png": "[encoded data removed]",
      "text/plain": [
       "<IPython.core.display.Image object>"
      ]
     },
     "execution_count": 9,
     "metadata": {},
     "output_type": "execute_result"
    }
   ],
   "source": [
    "utils.plot_model(model)"
   ]
  },
  {
   "cell_type": "code",
   "execution_count": 10,
   "id": "de3ae70d",
   "metadata": {},
   "outputs": [
    {
     "data": {
      "image/png": "[encoded data removed]",
      "text/plain": [
       "<IPython.core.display.Image object>"
      ]
     },
     "execution_count": 10,
     "metadata": {},
     "output_type": "execute_result"
    }
   ],
   "source": [
    "utils.plot_model(model, show_shapes=True)"
   ]
  },
  {
   "cell_type": "markdown",
   "id": "9baf9de4",
   "metadata": {},
   "source": [
    "#### 모델 컴파일 및 학습\n",
    "- 손실 함수로는 다중 분류로 클래스가 원-핫 인코딩 방식으로 되어 있을 때 사용하는 categorical_crossentropy를 지정\n",
    "- 옵티마이저는 가장 기본적인 sgd을 지정\n",
    "- 분류에 대한 성능을 확인하기 위한 지표로 accuracy를 지정"
   ]
  },
  {
   "cell_type": "code",
   "execution_count": 11,
   "id": "0565fee3",
   "metadata": {},
   "outputs": [],
   "source": [
    "model.compile(loss='categorical_crossentropy',\n",
    "              optimizer='sgd',\n",
    "              metrics=['accuracy'])"
   ]
  },
  {
   "cell_type": "code",
   "execution_count": 12,
   "id": "aea9db1d",
   "metadata": {},
   "outputs": [
    {
     "name": "stdout",
     "output_type": "stream",
     "text": [
      "Epoch 1/50\n",
      "329/329 [==============================] - 2s 4ms/step - loss: 1.8828 - accuracy: 0.4287 - val_loss: 1.2572 - val_accuracy: 0.7151\n",
      "Epoch 2/50\n",
      "329/329 [==============================] - 1s 3ms/step - loss: 0.7928 - accuracy: 0.8091 - val_loss: 0.5605 - val_accuracy: 0.8492\n",
      "Epoch 3/50\n",
      "329/329 [==============================] - 1s 3ms/step - loss: 0.4764 - accuracy: 0.8685 - val_loss: 0.4316 - val_accuracy: 0.8759\n",
      "Epoch 4/50\n",
      "329/329 [==============================] - 1s 3ms/step - loss: 0.3911 - accuracy: 0.8898 - val_loss: 0.3758 - val_accuracy: 0.8909\n",
      "Epoch 5/50\n",
      "329/329 [==============================] - 1s 3ms/step - loss: 0.3488 - accuracy: 0.9003 - val_loss: 0.3422 - val_accuracy: 0.8986\n",
      "Epoch 6/50\n",
      "329/329 [==============================] - 1s 3ms/step - loss: 0.3218 - accuracy: 0.9078 - val_loss: 0.3210 - val_accuracy: 0.9044\n",
      "Epoch 7/50\n",
      "329/329 [==============================] - 1s 3ms/step - loss: 0.3018 - accuracy: 0.9136 - val_loss: 0.3027 - val_accuracy: 0.9101\n",
      "Epoch 8/50\n",
      "329/329 [==============================] - 1s 3ms/step - loss: 0.2857 - accuracy: 0.9183 - val_loss: 0.2845 - val_accuracy: 0.9146\n",
      "Epoch 9/50\n",
      "329/329 [==============================] - 1s 3ms/step - loss: 0.2717 - accuracy: 0.9218 - val_loss: 0.2786 - val_accuracy: 0.9176\n",
      "Epoch 10/50\n",
      "329/329 [==============================] - 1s 3ms/step - loss: 0.2599 - accuracy: 0.9257 - val_loss: 0.2707 - val_accuracy: 0.9191\n",
      "Epoch 11/50\n",
      "329/329 [==============================] - 1s 3ms/step - loss: 0.2483 - accuracy: 0.9295 - val_loss: 0.2557 - val_accuracy: 0.9232\n",
      "Epoch 12/50\n",
      "329/329 [==============================] - 1s 3ms/step - loss: 0.2388 - accuracy: 0.9316 - val_loss: 0.2453 - val_accuracy: 0.9270\n",
      "Epoch 13/50\n",
      "329/329 [==============================] - 1s 3ms/step - loss: 0.2291 - accuracy: 0.9347 - val_loss: 0.2388 - val_accuracy: 0.9281\n",
      "Epoch 14/50\n",
      "329/329 [==============================] - 1s 3ms/step - loss: 0.2208 - accuracy: 0.9369 - val_loss: 0.2473 - val_accuracy: 0.9265\n",
      "Epoch 15/50\n",
      "329/329 [==============================] - 1s 3ms/step - loss: 0.2129 - accuracy: 0.9392 - val_loss: 0.2268 - val_accuracy: 0.9332\n",
      "Epoch 16/50\n",
      "329/329 [==============================] - 1s 3ms/step - loss: 0.2051 - accuracy: 0.9425 - val_loss: 0.2202 - val_accuracy: 0.9339\n",
      "Epoch 17/50\n",
      "329/329 [==============================] - 1s 3ms/step - loss: 0.1982 - accuracy: 0.9441 - val_loss: 0.2352 - val_accuracy: 0.9271\n",
      "Epoch 18/50\n",
      "329/329 [==============================] - 1s 3ms/step - loss: 0.1919 - accuracy: 0.9452 - val_loss: 0.2079 - val_accuracy: 0.9383\n",
      "Epoch 19/50\n",
      "329/329 [==============================] - 1s 3ms/step - loss: 0.1850 - accuracy: 0.9474 - val_loss: 0.1996 - val_accuracy: 0.9398\n",
      "Epoch 20/50\n",
      "329/329 [==============================] - 1s 3ms/step - loss: 0.1793 - accuracy: 0.9495 - val_loss: 0.1972 - val_accuracy: 0.9404\n",
      "Epoch 21/50\n",
      "329/329 [==============================] - 1s 3ms/step - loss: 0.1734 - accuracy: 0.9503 - val_loss: 0.1937 - val_accuracy: 0.9412\n",
      "Epoch 22/50\n",
      "329/329 [==============================] - 1s 3ms/step - loss: 0.1685 - accuracy: 0.9525 - val_loss: 0.1881 - val_accuracy: 0.9436\n",
      "Epoch 23/50\n",
      "329/329 [==============================] - 1s 3ms/step - loss: 0.1637 - accuracy: 0.9537 - val_loss: 0.1797 - val_accuracy: 0.9464\n",
      "Epoch 24/50\n",
      "329/329 [==============================] - 1s 3ms/step - loss: 0.1588 - accuracy: 0.9550 - val_loss: 0.1771 - val_accuracy: 0.9479\n",
      "Epoch 25/50\n",
      "329/329 [==============================] - 1s 3ms/step - loss: 0.1538 - accuracy: 0.9567 - val_loss: 0.1769 - val_accuracy: 0.9463\n",
      "Epoch 26/50\n",
      "329/329 [==============================] - 1s 3ms/step - loss: 0.1498 - accuracy: 0.9575 - val_loss: 0.1753 - val_accuracy: 0.9486\n",
      "Epoch 27/50\n",
      "329/329 [==============================] - 1s 3ms/step - loss: 0.1457 - accuracy: 0.9587 - val_loss: 0.1638 - val_accuracy: 0.9515\n",
      "Epoch 28/50\n",
      "329/329 [==============================] - 1s 3ms/step - loss: 0.1414 - accuracy: 0.9595 - val_loss: 0.1646 - val_accuracy: 0.9504\n",
      "Epoch 29/50\n",
      "329/329 [==============================] - 1s 3ms/step - loss: 0.1378 - accuracy: 0.9611 - val_loss: 0.1624 - val_accuracy: 0.9503\n",
      "Epoch 30/50\n",
      "329/329 [==============================] - 1s 3ms/step - loss: 0.1340 - accuracy: 0.9619 - val_loss: 0.1741 - val_accuracy: 0.9481\n",
      "Epoch 31/50\n",
      "329/329 [==============================] - 1s 3ms/step - loss: 0.1309 - accuracy: 0.9624 - val_loss: 0.1577 - val_accuracy: 0.9533\n",
      "Epoch 32/50\n",
      "329/329 [==============================] - 1s 3ms/step - loss: 0.1269 - accuracy: 0.9635 - val_loss: 0.1565 - val_accuracy: 0.9519\n",
      "Epoch 33/50\n",
      "329/329 [==============================] - 1s 3ms/step - loss: 0.1241 - accuracy: 0.9646 - val_loss: 0.2517 - val_accuracy: 0.9204\n",
      "Epoch 34/50\n",
      "329/329 [==============================] - 1s 3ms/step - loss: 0.1214 - accuracy: 0.9651 - val_loss: 0.1563 - val_accuracy: 0.9530\n",
      "Epoch 35/50\n",
      "329/329 [==============================] - 1s 3ms/step - loss: 0.1177 - accuracy: 0.9660 - val_loss: 0.1788 - val_accuracy: 0.9452\n",
      "Epoch 36/50\n",
      "329/329 [==============================] - 1s 3ms/step - loss: 0.1148 - accuracy: 0.9669 - val_loss: 0.1414 - val_accuracy: 0.9582\n",
      "Epoch 37/50\n",
      "329/329 [==============================] - 1s 3ms/step - loss: 0.1122 - accuracy: 0.9683 - val_loss: 0.1460 - val_accuracy: 0.9554\n",
      "Epoch 38/50\n",
      "329/329 [==============================] - 1s 3ms/step - loss: 0.1097 - accuracy: 0.9690 - val_loss: 0.1469 - val_accuracy: 0.9564\n",
      "Epoch 39/50\n",
      "329/329 [==============================] - 1s 3ms/step - loss: 0.1066 - accuracy: 0.9695 - val_loss: 0.1398 - val_accuracy: 0.9587\n",
      "Epoch 40/50\n",
      "329/329 [==============================] - 1s 3ms/step - loss: 0.1044 - accuracy: 0.9707 - val_loss: 0.1371 - val_accuracy: 0.9576\n",
      "Epoch 41/50\n",
      "329/329 [==============================] - 1s 3ms/step - loss: 0.1020 - accuracy: 0.9706 - val_loss: 0.1327 - val_accuracy: 0.9600\n",
      "Epoch 42/50\n",
      "329/329 [==============================] - 1s 3ms/step - loss: 0.0996 - accuracy: 0.9716 - val_loss: 0.1439 - val_accuracy: 0.9566\n",
      "Epoch 43/50\n",
      "329/329 [==============================] - 1s 3ms/step - loss: 0.0974 - accuracy: 0.9728 - val_loss: 0.1319 - val_accuracy: 0.9602\n",
      "Epoch 44/50\n",
      "329/329 [==============================] - 1s 3ms/step - loss: 0.0952 - accuracy: 0.9729 - val_loss: 0.1291 - val_accuracy: 0.9610\n",
      "Epoch 45/50\n",
      "329/329 [==============================] - 1s 3ms/step - loss: 0.0928 - accuracy: 0.9736 - val_loss: 0.1282 - val_accuracy: 0.9611\n",
      "Epoch 46/50\n",
      "329/329 [==============================] - 1s 3ms/step - loss: 0.0909 - accuracy: 0.9741 - val_loss: 0.1271 - val_accuracy: 0.9624\n",
      "Epoch 47/50\n",
      "329/329 [==============================] - 1s 3ms/step - loss: 0.0888 - accuracy: 0.9749 - val_loss: 0.1287 - val_accuracy: 0.9613\n",
      "Epoch 48/50\n",
      "329/329 [==============================] - 1s 3ms/step - loss: 0.0869 - accuracy: 0.9755 - val_loss: 0.2557 - val_accuracy: 0.9191\n",
      "Epoch 49/50\n",
      "329/329 [==============================] - 1s 3ms/step - loss: 0.0858 - accuracy: 0.9758 - val_loss: 0.1235 - val_accuracy: 0.9633\n",
      "Epoch 50/50\n",
      "329/329 [==============================] - 1s 3ms/step - loss: 0.0832 - accuracy: 0.9768 - val_loss: 0.1341 - val_accuracy: 0.9598\n"
     ]
    }
   ],
   "source": [
    "#  각 에폭마다 지표 결과들을 history로 저장\n",
    "history = model.fit(x_train, y_train,\n",
    "                    epochs=50,\n",
    "                    batch_size=128,\n",
    "                    validation_data=(x_val, y_val))"
   ]
  },
  {
   "cell_type": "code",
   "execution_count": 13,
   "id": "4136675c",
   "metadata": {},
   "outputs": [
    {
     "data": {
      "text/plain": [
       "dict_keys(['loss', 'accuracy', 'val_loss', 'val_accuracy'])"
      ]
     },
     "execution_count": 13,
     "metadata": {},
     "output_type": "execute_result"
    }
   ],
   "source": [
    "history.history.keys()"
   ]
  },
  {
   "cell_type": "code",
   "execution_count": 14,
   "id": "cd4613cd",
   "metadata": {},
   "outputs": [
    {
     "data": {
      "image/png": "[encoded data removed]",
      "text/plain": [
       "<Figure size 864x360 with 2 Axes>"
      ]
     },
     "metadata": {},
     "output_type": "display_data"
    }
   ],
   "source": [
    "history_dict = history.history\n",
    "\n",
    "loss = history_dict['loss']\n",
    "val_loss = history_dict['val_loss']\n",
    "\n",
    "epochs = range(1, len(loss) + 1)\n",
    "fig = plt.figure(figsize=(12, 5))\n",
    "\n",
    "ax1 = fig.add_subplot(1, 2, 1)\n",
    "ax1.plot(epochs, loss, color='blue', label='train_loss')\n",
    "ax1.plot(epochs, val_loss, color='red', label='val_loss')\n",
    "ax1.set_title('Train and Validation Loss')\n",
    "ax1.set_xlabel('Epochs')\n",
    "ax1.set_ylabel('Loss')\n",
    "ax1.grid()\n",
    "ax1.legend()\n",
    "\n",
    "accuracy = history_dict['accuracy']\n",
    "val_accuracy = history_dict['val_accuracy']\n",
    "\n",
    "ax2 = fig.add_subplot(1, 2, 2)\n",
    "ax2.plot(epochs, accuracy, color='blue', label='train_accuracy')\n",
    "ax2.plot(epochs, val_accuracy, color='red', label='val_accuracy')\n",
    "ax2.set_title('Train and Validation Accuracy')\n",
    "ax2.set_xlabel('Epochs')\n",
    "ax2.set_ylabel('Accuracy')\n",
    "ax2.grid()\n",
    "ax2.legend()\n",
    "\n",
    "plt.show()"
   ]
  },
  {
   "cell_type": "markdown",
   "id": "d1d94595",
   "metadata": {},
   "source": [
    "#### 모델 평가 및 예측\n"
   ]
  },
  {
   "cell_type": "code",
   "execution_count": 15,
   "id": "3b84a61f",
   "metadata": {},
   "outputs": [
    {
     "name": "stdout",
     "output_type": "stream",
     "text": [
      "313/313 [==============================] - 1s 2ms/step - loss: 0.1337 - accuracy: 0.9581\n"
     ]
    },
    {
     "data": {
      "text/plain": [
       "[0.13373920321464539, 0.9581000208854675]"
      ]
     },
     "execution_count": 15,
     "metadata": {},
     "output_type": "execute_result"
    }
   ],
   "source": [
    "model.evaluate(x_test, y_test)"
   ]
  },
  {
   "cell_type": "code",
   "execution_count": 16,
   "id": "92f8de93",
   "metadata": {},
   "outputs": [
    {
     "name": "stdout",
     "output_type": "stream",
     "text": [
      "(10000, 10)\n",
      "[4.5275301e-06 2.1928224e-06 1.6917514e-04 1.8696112e-04 4.4033808e-07\n",
      " 5.6058466e-06 1.2916811e-09 9.9961108e-01 1.8290293e-06 1.8145527e-05]\n"
     ]
    }
   ],
   "source": [
    "pred_ys = model.predict(x_test)\n",
    "print(pred_ys.shape)\n",
    "print(pred_ys[0])"
   ]
  },
  {
   "cell_type": "code",
   "execution_count": 17,
   "id": "bbf56c09",
   "metadata": {},
   "outputs": [
    {
     "data": {
      "image/png": "[encoded data removed]",
      "text/plain": [
       "<Figure size 432x288 with 1 Axes>"
      ]
     },
     "metadata": {},
     "output_type": "display_data"
    }
   ],
   "source": [
    "# 결과값 중에서 가장 큰 수가 있는 위치값을 np.argmax()를 통해서 구하고,\n",
    "# 예측한 레이블 값 arg_pred_y[0]과 실제 숫자 이미지인 x_test[0]를 출력\n",
    "\n",
    "arg_pred_y = np.argmax(pred_ys, axis=1)\n",
    "\n",
    "plt.title(f'Predicted label: {arg_pred_y[0]}')\n",
    "plt.imshow(x_test[0])\n",
    "plt.show()"
   ]
  },
  {
   "cell_type": "code",
   "execution_count": 18,
   "id": "eea5f9d7",
   "metadata": {},
   "outputs": [
    {
     "name": "stdout",
     "output_type": "stream",
     "text": [
      "              precision    recall  f1-score   support\n",
      "\n",
      "           0       0.97      0.98      0.97       980\n",
      "           1       0.98      0.99      0.99      1135\n",
      "           2       0.95      0.96      0.96      1032\n",
      "           3       0.95      0.97      0.96      1010\n",
      "           4       0.92      0.98      0.95       982\n",
      "           5       0.96      0.94      0.95       892\n",
      "           6       0.95      0.97      0.96       958\n",
      "           7       0.95      0.96      0.96      1028\n",
      "           8       0.96      0.95      0.95       974\n",
      "           9       0.99      0.88      0.93      1009\n",
      "\n",
      "    accuracy                           0.96     10000\n",
      "   macro avg       0.96      0.96      0.96     10000\n",
      "weighted avg       0.96      0.96      0.96     10000\n",
      "\n"
     ]
    }
   ],
   "source": [
    "# 성능 확인\n",
    "from sklearn.metrics import classification_report\n",
    "\n",
    "print(classification_report(np.argmax(y_test, axis=-1), np.argmax(pred_ys, axis=-1)))"
   ]
  },
  {
   "cell_type": "code",
   "execution_count": 19,
   "id": "0835ed3b",
   "metadata": {
    "scrolled": true
   },
   "outputs": [
    {
     "data": {
      "image/png": "[encoded data removed]",
      "text/plain": [
       "<Figure size 576x576 with 2 Axes>"
      ]
     },
     "metadata": {},
     "output_type": "display_data"
    }
   ],
   "source": [
    "# confusion matrix 시각화\n",
    "from sklearn.metrics import confusion_matrix\n",
    "import seaborn as sns\n",
    "sns.set(style='white')\n",
    "\n",
    "plt.figure(figsize=(8, 8))\n",
    "cm = confusion_matrix(np.argmax(y_test, axis=1), np.argmax(pred_ys, axis=-1))\n",
    "sns.heatmap(cm, annot=True, fmt='d', cmap='Blues')\n",
    "plt.xlabel('Predicted Label')\n",
    "plt.ylabel('True Label')\n",
    "plt.show()"
   ]
  },
  {
   "cell_type": "markdown",
   "id": "23ed8f8e",
   "metadata": {},
   "source": [
    " "
   ]
  },
  {
   "cell_type": "markdown",
   "id": "04fe59b9",
   "metadata": {},
   "source": [
    "## 모델 저장과 로드\n",
    "- 모델을 열심히 학습시키고 저장을 안한다면 다시 처음부터 학습을 해야함\n",
    "- 어느 정도 학습이 되었다면 추후에 모델을 사용하기 위해서 저장해야 함 \n",
    "- 모델을 저장할 때는 `save()` 함수를 사용\n",
    "- 모델을 불러올 때는 `load_model()` 함수를 사용\n",
    "- 모델 생성 시에 Sequencial API 또는 Functional API를 사용한 경우에는 모델의 저장 및 로드가 가능  \n",
    "\n",
    "\n",
    "- Subclassing API 방식은 save_weights()와 load_weights()를 이용해 모델의 파라미터만 저장 및 로드하는 것이 가능  \n",
    "\n",
    "\n",
    "- JSON 형식으로 모델을 저장하려면 to_json()를 사용하여 가능\n",
    "- JSON 파일로부터 모델을 로드하려면 model_from_json()을 사용하면 됨  \n",
    "\n",
    "\n",
    "- YAML로 직렬화하여 저장할 경우 to_yaml()를 사용\n",
    "- model_from_yaml()를 사용하여 로드\n"
   ]
  },
  {
   "cell_type": "code",
   "execution_count": 20,
   "id": "4cde5226",
   "metadata": {},
   "outputs": [],
   "source": [
    "# mnist_model.h5라는 이름으로 모델을 저장\n",
    "model.save('mnist_model.h5')"
   ]
  },
  {
   "cell_type": "code",
   "execution_count": 21,
   "id": "6bd54212",
   "metadata": {},
   "outputs": [
    {
     "name": "stdout",
     "output_type": "stream",
     "text": [
      "Model: \"sequential\"\n",
      "_________________________________________________________________\n",
      "Layer (type)                 Output Shape              Param #   \n",
      "=================================================================\n",
      "flatten (Flatten)            (None, 784)               0         \n",
      "_________________________________________________________________\n",
      "dense1 (Dense)               (None, 100)               78500     \n",
      "_________________________________________________________________\n",
      "dense2 (Dense)               (None, 64)                6464      \n",
      "_________________________________________________________________\n",
      "dense3 (Dense)               (None, 32)                2080      \n",
      "_________________________________________________________________\n",
      "output (Dense)               (None, 10)                330       \n",
      "=================================================================\n",
      "Total params: 87,374\n",
      "Trainable params: 87,374\n",
      "Non-trainable params: 0\n",
      "_________________________________________________________________\n"
     ]
    }
   ],
   "source": [
    "# mnist_model.h5라는 이름의 모델을 로드\n",
    "loaded_model = models.load_model('mnist_model.h5')\n",
    "loaded_model.summary()"
   ]
  },
  {
   "cell_type": "code",
   "execution_count": 22,
   "id": "b00d79b8",
   "metadata": {},
   "outputs": [
    {
     "name": "stdout",
     "output_type": "stream",
     "text": [
      "(10000, 10)\n",
      "[4.5275301e-06 2.1928224e-06 1.6917514e-04 1.8696112e-04 4.4033808e-07\n",
      " 5.6058466e-06 1.2916811e-09 9.9961108e-01 1.8290293e-06 1.8145527e-05]\n"
     ]
    }
   ],
   "source": [
    "# 로드한 모델로 예측\n",
    "pred_ys2 = loaded_model.predict(x_test)\n",
    "print(pred_ys2.shape)\n",
    "print(pred_ys2[0])"
   ]
  },
  {
   "cell_type": "code",
   "execution_count": 23,
   "id": "6239908b",
   "metadata": {},
   "outputs": [
    {
     "data": {
      "image/png": "[encoded data removed]",
      "text/plain": [
       "<Figure size 432x288 with 1 Axes>"
      ]
     },
     "metadata": {},
     "output_type": "display_data"
    }
   ],
   "source": [
    "#예측값 시각화하기\n",
    "arg_pred_y2 = np.argmax(pred_ys2, axis=1)\n",
    "\n",
    "#matlotlib를 이용해서 시각화하기\n",
    "plt.title(f'Predicted label: {arg_pred_y2[0]}')\n",
    "plt.imshow(x_test[0])\n",
    "plt.show()"
   ]
  },
  {
   "cell_type": "code",
   "execution_count": 24,
   "id": "76bbb5cb",
   "metadata": {},
   "outputs": [
    {
     "name": "stdout",
     "output_type": "stream",
     "text": [
      "(10000, 10)\n",
      "[0.06954593 0.08814632 0.08235597 0.06896233 0.11742038 0.09668307\n",
      " 0.10931599 0.12322536 0.15147997 0.0928647 ]\n"
     ]
    }
   ],
   "source": [
    "# 위에서 학습시킨 model의 구조를 json 형식으로 model_json에 저장합니다.\n",
    "model_json = model.to_json()\n",
    "\n",
    "# json으로 저장한 모델을 읽어옵니다.\n",
    "loaded_model = keras.models.model_from_json(model_json)\n",
    "\n",
    "predictions = loaded_model.predict(x_test)\n",
    "print(predictions.shape)\n",
    "print(predictions[0])\n",
    "\n",
    "# JSON 포맷은 모델 구조에 대한 정보만을 가지며, 가중치는 별도로 저장되지 않아, 다른 결과값을 보이는 것 같음."
   ]
  },
  {
   "cell_type": "markdown",
   "id": "23c9cd24",
   "metadata": {},
   "source": [
    "## 콜백 (Callbacks)\n",
    "- 모델을 fit() 함수를 통해 학습시키는 동안 callbacks 매개변수를 사용하여 학습 시작이나 끝에 호출할 객체 리스트를 여러 개 지정할 수 있음\n",
    "    - ModelCheckpoint, EarlyStopping, LearningRateScheduler, Tensorboard\n"
   ]
  },
  {
   "cell_type": "code",
   "execution_count": 25,
   "id": "3e703281",
   "metadata": {},
   "outputs": [],
   "source": [
    "from tensorflow.keras import callbacks"
   ]
  },
  {
   "cell_type": "markdown",
   "id": "8be040d8",
   "metadata": {},
   "source": [
    "#### ModelCheckpoint\n",
    "- tf.keras.callbacks.ModelCheckpoint: 정기적으로 모델의 체크포인트를 저장하고, 문제가 발생할 때 복구하는데 사용"
   ]
  },
  {
   "cell_type": "code",
   "execution_count": 26,
   "id": "a058a769",
   "metadata": {},
   "outputs": [
    {
     "name": "stdout",
     "output_type": "stream",
     "text": [
      "Epoch 1/10\n",
      "1313/1313 [==============================] - 3s 2ms/step - loss: 0.0905 - accuracy: 0.9730\n",
      "Epoch 2/10\n",
      "1313/1313 [==============================] - 3s 2ms/step - loss: 0.0839 - accuracy: 0.9752\n",
      "Epoch 3/10\n",
      "1313/1313 [==============================] - 3s 2ms/step - loss: 0.0774 - accuracy: 0.9762\n",
      "Epoch 4/10\n",
      "1313/1313 [==============================] - 3s 2ms/step - loss: 0.0722 - accuracy: 0.9795\n",
      "Epoch 5/10\n",
      "1313/1313 [==============================] - 3s 2ms/step - loss: 0.0669 - accuracy: 0.9810\n",
      "Epoch 6/10\n",
      "1313/1313 [==============================] - 3s 2ms/step - loss: 0.0624 - accuracy: 0.9815\n",
      "Epoch 7/10\n",
      "1313/1313 [==============================] - 3s 2ms/step - loss: 0.0582 - accuracy: 0.9834\n",
      "Epoch 8/10\n",
      "1313/1313 [==============================] - 3s 2ms/step - loss: 0.0542 - accuracy: 0.9846\n",
      "Epoch 9/10\n",
      "1313/1313 [==============================] - 3s 2ms/step - loss: 0.0506 - accuracy: 0.9852\n",
      "Epoch 10/10\n",
      "1313/1313 [==============================] - 3s 2ms/step - loss: 0.0473 - accuracy: 0.9869\n"
     ]
    }
   ],
   "source": [
    "check_point_cb = callbacks.ModelCheckpoint('keras_mnist_model.h5')\n",
    "history = model.fit(x_train, y_train, epochs=10,\n",
    "                    callbacks=[check_point_cb])"
   ]
  },
  {
   "cell_type": "markdown",
   "id": "90b72ba6",
   "metadata": {},
   "source": [
    "- 최상의 모델만을 저장하는 옵션으로 save_best_only=True를 지정"
   ]
  },
  {
   "cell_type": "code",
   "execution_count": 27,
   "id": "724aadb5",
   "metadata": {},
   "outputs": [
    {
     "name": "stdout",
     "output_type": "stream",
     "text": [
      "Epoch 1/10\n",
      "1313/1313 [==============================] - 4s 3ms/step - loss: 0.0436 - accuracy: 0.9880 - val_loss: 0.1466 - val_accuracy: 0.9560\n",
      "Epoch 2/10\n",
      "1313/1313 [==============================] - 4s 3ms/step - loss: 0.0406 - accuracy: 0.9888 - val_loss: 0.1055 - val_accuracy: 0.9691\n",
      "Epoch 3/10\n",
      "1313/1313 [==============================] - 4s 3ms/step - loss: 0.0374 - accuracy: 0.9900 - val_loss: 0.1051 - val_accuracy: 0.9692\n",
      "Epoch 4/10\n",
      "1313/1313 [==============================] - 4s 3ms/step - loss: 0.0349 - accuracy: 0.9907 - val_loss: 0.1043 - val_accuracy: 0.9703\n",
      "Epoch 5/10\n",
      "1313/1313 [==============================] - 4s 3ms/step - loss: 0.0326 - accuracy: 0.9914 - val_loss: 0.1026 - val_accuracy: 0.9710\n",
      "Epoch 6/10\n",
      "1313/1313 [==============================] - 4s 3ms/step - loss: 0.0301 - accuracy: 0.9922 - val_loss: 0.1023 - val_accuracy: 0.9701\n",
      "Epoch 7/10\n",
      "1313/1313 [==============================] - 4s 3ms/step - loss: 0.0281 - accuracy: 0.9928 - val_loss: 0.1026 - val_accuracy: 0.9712\n",
      "Epoch 8/10\n",
      "1313/1313 [==============================] - 4s 3ms/step - loss: 0.0259 - accuracy: 0.9937 - val_loss: 0.1024 - val_accuracy: 0.9714\n",
      "Epoch 9/10\n",
      "1313/1313 [==============================] - 4s 3ms/step - loss: 0.0243 - accuracy: 0.9939 - val_loss: 0.1020 - val_accuracy: 0.9723\n",
      "Epoch 10/10\n",
      "1313/1313 [==============================] - 4s 3ms/step - loss: 0.0228 - accuracy: 0.9940 - val_loss: 0.1067 - val_accuracy: 0.9714\n"
     ]
    }
   ],
   "source": [
    "check_point_cb = callbacks.ModelCheckpoint('keras_mnist_model.h5', save_best_only=True)\n",
    "history = model.fit(x_train, y_train, epochs=10,\n",
    "                    validation_data=(x_val, y_val),\n",
    "                    callbacks=[check_point_cb])"
   ]
  },
  {
   "cell_type": "markdown",
   "id": "ceb15ad0",
   "metadata": {},
   "source": [
    "#### EarlyStopping\n",
    "- tf.keras.callbacks.EarlyStopping: 검증 성능이 한동안 개선되지 않을 경우 학습을 중단할 때 사용\n",
    "- 일정 patience 동안 검증 세트에 대한 점수가 오르지 않으면 학습을 멈춤\n",
    "- 모델이 향상되지 않으면 학습이 자동으로 중지되므로, epochs 숫자를 크게 해도 무방\n",
    "- 학습이 끝난 후의 최상의 가중치를 복원하기 때문에 모델을 따로 복원할 필요가 없음"
   ]
  },
  {
   "cell_type": "code",
   "execution_count": 28,
   "id": "16ec4d8c",
   "metadata": {},
   "outputs": [
    {
     "name": "stdout",
     "output_type": "stream",
     "text": [
      "Epoch 1/10\n",
      "1313/1313 [==============================] - 4s 3ms/step - loss: 0.0205 - accuracy: 0.9953 - val_loss: 0.1091 - val_accuracy: 0.9722\n",
      "Epoch 2/10\n",
      "1313/1313 [==============================] - 4s 3ms/step - loss: 0.0188 - accuracy: 0.9958 - val_loss: 0.1044 - val_accuracy: 0.9713\n",
      "Epoch 3/10\n",
      "1313/1313 [==============================] - 4s 3ms/step - loss: 0.0172 - accuracy: 0.9964 - val_loss: 0.1117 - val_accuracy: 0.9693\n",
      "Epoch 4/10\n",
      "1313/1313 [==============================] - 4s 3ms/step - loss: 0.0163 - accuracy: 0.9965 - val_loss: 0.1126 - val_accuracy: 0.9694\n",
      "Epoch 5/10\n",
      "1313/1313 [==============================] - 4s 3ms/step - loss: 0.0150 - accuracy: 0.9970 - val_loss: 0.1091 - val_accuracy: 0.9719\n"
     ]
    }
   ],
   "source": [
    "check_point_cb = callbacks.ModelCheckpoint('keras_mnist_model.h5', save_best_only=True)\n",
    "early_stopping_cb = callbacks.EarlyStopping(patience=3, monitor='val_loss',\n",
    "                                  restore_best_weights=True)\n",
    "history = model.fit(x_train, y_train, epochs=10,\n",
    "                    validation_data=(x_val, y_val),\n",
    "                    callbacks=[check_point_cb, early_stopping_cb])"
   ]
  },
  {
   "cell_type": "markdown",
   "id": "4ce8152a",
   "metadata": {},
   "source": [
    "#### LearningRateScheduler\n",
    "- tf.keras.callbacks.LearningRateSchduler: 최적화를 하는 동안 학습률(learning_rate)를 동적으로 변경할 때 사용"
   ]
  },
  {
   "cell_type": "code",
   "execution_count": 29,
   "id": "f67e7ac7",
   "metadata": {},
   "outputs": [],
   "source": [
    "# 에폭 수가 10 미만일 경우는 학습률을 그대로 하고, 10 이상이 되면 -0.1%씩 감소시키는 코드\n",
    "def scheduler(epoch, learning_rate):\n",
    "    if epoch < 10:\n",
    "        return learning_rate\n",
    "    else:\n",
    "        return learning_rate * tf.math.exp(-0.1)"
   ]
  },
  {
   "cell_type": "code",
   "execution_count": 30,
   "id": "e2bd62b2",
   "metadata": {},
   "outputs": [
    {
     "data": {
      "text/plain": [
       "0.01"
      ]
     },
     "execution_count": 30,
     "metadata": {},
     "output_type": "execute_result"
    }
   ],
   "source": [
    "round(model.optimizer.lr.numpy(), 5)"
   ]
  },
  {
   "cell_type": "code",
   "execution_count": 31,
   "id": "ef82bfaa",
   "metadata": {},
   "outputs": [
    {
     "data": {
      "text/plain": [
       "0.00607"
      ]
     },
     "execution_count": 31,
     "metadata": {},
     "output_type": "execute_result"
    }
   ],
   "source": [
    "lr_scheduler_cb = callbacks.LearningRateScheduler(scheduler)\n",
    "\n",
    "history = model.fit(x_train, y_train, epochs=15,\n",
    "                    callbacks=[lr_scheduler_cb], verbose=0)\n",
    "\n",
    "round(model.optimizer.lr.numpy(), 5)"
   ]
  },
  {
   "cell_type": "markdown",
   "id": "4bcc4615",
   "metadata": {},
   "source": [
    "#### Tensorboard\n",
    "- tf.keras.callbacks.TensorBoard: 모델의 경과를 모니터링할 때 사용\n",
    "- 텐서보드를 이용하여 학습과정을 모니터링하기 위해서는 logs 폴더를 만들고, 학습이 진행되는 동안 로그 파일을 생성\n",
    "- 아래와 같은 결과 확인 가능\n",
    "![image.png](attachment:image.png)"
   ]
  },
  {
   "cell_type": "code",
   "execution_count": 32,
   "id": "6a6e3649",
   "metadata": {},
   "outputs": [
    {
     "name": "stdout",
     "output_type": "stream",
     "text": [
      "Epoch 1/30\n",
      "1313/1313 [==============================] - 4s 3ms/step - loss: 0.0052 - accuracy: 0.9997 - val_loss: 0.1137 - val_accuracy: 0.9725\n",
      "Epoch 2/30\n",
      "1313/1313 [==============================] - 4s 3ms/step - loss: 0.0050 - accuracy: 0.9997 - val_loss: 0.1150 - val_accuracy: 0.9724\n",
      "Epoch 3/30\n",
      "1313/1313 [==============================] - 4s 3ms/step - loss: 0.0048 - accuracy: 0.9998 - val_loss: 0.1155 - val_accuracy: 0.9729\n",
      "Epoch 4/30\n",
      "1313/1313 [==============================] - 4s 3ms/step - loss: 0.0046 - accuracy: 0.9999 - val_loss: 0.1149 - val_accuracy: 0.9731\n",
      "Epoch 5/30\n",
      "1313/1313 [==============================] - 4s 3ms/step - loss: 0.0045 - accuracy: 0.9998 - val_loss: 0.1168 - val_accuracy: 0.9724\n",
      "Epoch 6/30\n",
      "1313/1313 [==============================] - 4s 3ms/step - loss: 0.0043 - accuracy: 0.9999 - val_loss: 0.1164 - val_accuracy: 0.9724\n",
      "Epoch 7/30\n",
      "1313/1313 [==============================] - 4s 3ms/step - loss: 0.0042 - accuracy: 0.9998 - val_loss: 0.1177 - val_accuracy: 0.9724\n",
      "Epoch 8/30\n",
      "1313/1313 [==============================] - 4s 3ms/step - loss: 0.0040 - accuracy: 0.9998 - val_loss: 0.1178 - val_accuracy: 0.9727\n",
      "Epoch 9/30\n",
      "1313/1313 [==============================] - 4s 3ms/step - loss: 0.0039 - accuracy: 0.9999 - val_loss: 0.1188 - val_accuracy: 0.9724\n",
      "Epoch 10/30\n",
      "1313/1313 [==============================] - 4s 3ms/step - loss: 0.0038 - accuracy: 0.9999 - val_loss: 0.1194 - val_accuracy: 0.9726\n",
      "Epoch 11/30\n",
      "1313/1313 [==============================] - 4s 3ms/step - loss: 0.0037 - accuracy: 0.9999 - val_loss: 0.1192 - val_accuracy: 0.9724\n",
      "Epoch 12/30\n",
      "1313/1313 [==============================] - 4s 3ms/step - loss: 0.0036 - accuracy: 0.9999 - val_loss: 0.1194 - val_accuracy: 0.9730\n",
      "Epoch 13/30\n",
      "1313/1313 [==============================] - 4s 3ms/step - loss: 0.0034 - accuracy: 0.9999 - val_loss: 0.1198 - val_accuracy: 0.9729\n",
      "Epoch 14/30\n",
      "1313/1313 [==============================] - 4s 3ms/step - loss: 0.0033 - accuracy: 1.0000 - val_loss: 0.1203 - val_accuracy: 0.9728\n",
      "Epoch 15/30\n",
      "1313/1313 [==============================] - 4s 3ms/step - loss: 0.0032 - accuracy: 1.0000 - val_loss: 0.1213 - val_accuracy: 0.9727\n",
      "Epoch 16/30\n",
      "1313/1313 [==============================] - 4s 3ms/step - loss: 0.0031 - accuracy: 0.9999 - val_loss: 0.1216 - val_accuracy: 0.9727\n",
      "Epoch 17/30\n",
      "1313/1313 [==============================] - 4s 3ms/step - loss: 0.0031 - accuracy: 0.9999 - val_loss: 0.1221 - val_accuracy: 0.9724\n",
      "Epoch 18/30\n",
      "1313/1313 [==============================] - 4s 3ms/step - loss: 0.0030 - accuracy: 1.0000 - val_loss: 0.1221 - val_accuracy: 0.9728\n",
      "Epoch 19/30\n",
      "1313/1313 [==============================] - 4s 3ms/step - loss: 0.0029 - accuracy: 1.0000 - val_loss: 0.1226 - val_accuracy: 0.9728\n",
      "Epoch 20/30\n",
      "1313/1313 [==============================] - 4s 3ms/step - loss: 0.0028 - accuracy: 1.0000 - val_loss: 0.1226 - val_accuracy: 0.9732\n",
      "Epoch 21/30\n",
      "1313/1313 [==============================] - 4s 3ms/step - loss: 0.0028 - accuracy: 1.0000 - val_loss: 0.1231 - val_accuracy: 0.9728\n",
      "Epoch 22/30\n",
      "1313/1313 [==============================] - 4s 3ms/step - loss: 0.0027 - accuracy: 1.0000 - val_loss: 0.1240 - val_accuracy: 0.9726\n",
      "Epoch 23/30\n",
      "1313/1313 [==============================] - 4s 3ms/step - loss: 0.0026 - accuracy: 1.0000 - val_loss: 0.1240 - val_accuracy: 0.9724\n",
      "Epoch 24/30\n",
      "1313/1313 [==============================] - 4s 3ms/step - loss: 0.0025 - accuracy: 1.0000 - val_loss: 0.1240 - val_accuracy: 0.9729\n",
      "Epoch 25/30\n",
      "1313/1313 [==============================] - 4s 3ms/step - loss: 0.0025 - accuracy: 1.0000 - val_loss: 0.1250 - val_accuracy: 0.9730\n",
      "Epoch 26/30\n",
      "1313/1313 [==============================] - 4s 3ms/step - loss: 0.0024 - accuracy: 1.0000 - val_loss: 0.1255 - val_accuracy: 0.9726\n",
      "Epoch 27/30\n",
      "1313/1313 [==============================] - 4s 3ms/step - loss: 0.0024 - accuracy: 1.0000 - val_loss: 0.1255 - val_accuracy: 0.9728\n",
      "Epoch 28/30\n",
      "1313/1313 [==============================] - 4s 3ms/step - loss: 0.0023 - accuracy: 1.0000 - val_loss: 0.1261 - val_accuracy: 0.9727\n",
      "Epoch 29/30\n",
      "1313/1313 [==============================] - 4s 3ms/step - loss: 0.0023 - accuracy: 1.0000 - val_loss: 0.1264 - val_accuracy: 0.9725\n",
      "Epoch 30/30\n",
      "1313/1313 [==============================] - 4s 3ms/step - loss: 0.0022 - accuracy: 1.0000 - val_loss: 0.1262 - val_accuracy: 0.9729\n"
     ]
    },
    {
     "data": {
      "text/plain": [
       "<keras.callbacks.History at 0x7f07dd297670>"
      ]
     },
     "execution_count": 32,
     "metadata": {},
     "output_type": "execute_result"
    }
   ],
   "source": [
    "log_dir = './logs'\n",
    "tensor_board_cb = [callbacks.TensorBoard(log_dir=log_dir, histogram_freq=1, write_graph=True, write_images=True)]\n",
    "model.fit(x_train, y_train, batch_size=32, validation_data=(x_val, y_val),\n",
    "          epochs=30, callbacks=tensor_board_cb)"
   ]
  },
  {
   "cell_type": "code",
   "execution_count": 33,
   "id": "2ccbaf21",
   "metadata": {},
   "outputs": [
    {
     "data": {
      "text/html": [
       "\n",
       "      <iframe id=\"tensorboard-frame-f55fd4d431b81b8\" width=\"100%\" height=\"800\" frameborder=\"0\">\n",
       "      </iframe>\n",
       "      <script>\n",
       "        (function() {\n",
       "          const frame = document.getElementById(\"tensorboard-frame-f55fd4d431b81b8\");\n",
       "          const url = new URL(\"/\", window.location);\n",
       "          const port = 6006;\n",
       "          if (port) {\n",
       "            url.port = port;\n",
       "          }\n",
       "          frame.src = url;\n",
       "        })();\n",
       "      </script>\n",
       "    "
      ],
      "text/plain": [
       "<IPython.core.display.HTML object>"
      ]
     },
     "metadata": {},
     "output_type": "display_data"
    }
   ],
   "source": [
    "%load_ext tensorboard\n",
    "%tensorboard --logdir {log_dir}"
   ]
  }
 ],
 "metadata": {
  "kernelspec": {
   "display_name": "Python 3 (ipykernel)",
   "language": "python",
   "name": "python3"
  },
  "language_info": {
   "codemirror_mode": {
    "name": "ipython",
    "version": 3
   },
   "file_extension": ".py",
   "mimetype": "text/x-python",
   "name": "python",
   "nbconvert_exporter": "python",
   "pygments_lexer": "ipython3",
   "version": "3.9.7"
  }
 },
 "nbformat": 4,
 "nbformat_minor": 5
}
